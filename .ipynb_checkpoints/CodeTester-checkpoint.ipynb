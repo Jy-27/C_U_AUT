{
 "cells": [
  {
   "cell_type": "code",
   "execution_count": 76,
   "id": "c94c2725-024d-4652-93cc-33a1b19b4ee2",
   "metadata": {
    "scrolled": true
   },
   "outputs": [],
   "source": [
    "import AT_240529 as AT_\n",
    "import pandas as pd\n",
    "import mplfinance as mpf\n",
    "import pytz\n",
    "from collections import deque\n",
    "\n",
    "\n",
    "deque_ = deque()\n",
    "\n",
    "ticker = 'KRW-XRP'\n",
    "load_ = AT_.DataLoader(ticker=ticker).load()\n",
    "load_ = sorted(load_, key=lambda x: x['trade_timestamp'], reverse=False)\n",
    "deque_.extend(load_)\n",
    "\n",
    "list_ = []\n",
    "\n",
    "\n",
    "\n",
    "# rangeTimestamp = 60_000\n",
    "\n",
    "# def ohlc(editData, interval: int = 1):\n",
    "#     df_ = pd.DataFrame(editData)\n",
    "#     df_['date'] = pd.to_datetime(df_['trade_timestamp'], unit='ms', utc=True).dt.tz_convert(pytz.timezone('Asia/Seoul'))\n",
    "#     df_.set_index('date', inplace=True)\n",
    "#     df_.index = df_.index.tz_localize(None)\n",
    "#     ohlc = df_.resample(f'{interval}min').agg({'trade_price': 'ohlc',\n",
    "#                                                'volume_ask': 'sum',\n",
    "#                                                'volume_bid': 'sum',\n",
    "#                                                'count_ask': 'sum',\n",
    "#                                                'count_bid': 'sum',\n",
    "#                                                'seller':'sum',\n",
    "#                                                'buyer':'sum'})\n",
    "#     ohlc.columns = [col[1] for col in ohlc.columns.values]\n",
    "#     return ohlc\n",
    "\n",
    "# for data in load_:\n",
    "#     if not deque_:\n",
    "#         deque_.append(data)\n",
    "    \n",
    "#     else:\n",
    "#         timestampDelta = True\n",
    "#         while timestampDelta:\n",
    "#             timestampAgo = deque_[-1]['trade_timestamp']\n",
    "#             timestampNow = data['trade_timestamp']\n",
    "    \n",
    "#             timestampDelta = (timestampNow-timestampAgo) >= rangeTimestamp\n",
    "#             if timestampDelta:\n",
    "#                 inputData = {'code':deque_[-1]['code'],\n",
    "#                              'trade_timestamp':deque_[-1]['trade_timestamp'] + rangeTimestamp,\n",
    "#                              'trade_price':float(deque_[-1]['trade_price']),\n",
    "#                              'volume_ask':0,\n",
    "#                              'volume_bid':0,\n",
    "#                              'count_ask':0,\n",
    "#                              'count_bid':0,\n",
    "#                              'seller':0,\n",
    "#                              'buyer':0}\n",
    "#                 deque_.append(inputData)\n",
    "#         deque_.append(data)\n",
    "\n",
    "def dataSlice(data, Range :int=60):\n",
    "    threshold = data[-1]['trade_timestamp'] - (Range * 1_000)\n",
    "    filtered_data = [d for d in data if d['trade_timestamp'] > threshold]\n",
    "    return filtered_data\n",
    "\n",
    "# n = 0\n",
    "# # for _ in range(len(deque_)):\n",
    "# #     popData = deque_.pop()\n",
    "# #     popData['signal'] = 'open'\n",
    "# #     list_.append(popData)\n",
    "# #     dataindex_ = dataSlice(list_)\n",
    "# #     print(f'{n} : {len(dataindex_)/60}')\n",
    "# #     n +=1"
   ]
  },
  {
   "cell_type": "code",
   "execution_count": 77,
   "id": "518234f1-8c91-4c91-bc6a-6279f1b6f330",
   "metadata": {
    "scrolled": true
   },
   "outputs": [
    {
     "data": {
      "text/plain": [
       "True"
      ]
     },
     "execution_count": 77,
     "metadata": {},
     "output_type": "execute_result"
    }
   ],
   "source": [
    "load_[0]['trade_timestamp'] <load_[-1]['trade_timestamp']"
   ]
  },
  {
   "cell_type": "code",
   "execution_count": 83,
   "id": "bf0e4291-f827-4a6d-b182-899518fa9c87",
   "metadata": {},
   "outputs": [],
   "source": [
    "a = deque()"
   ]
  },
  {
   "cell_type": "code",
   "execution_count": 84,
   "id": "2bb7528e-6c46-44eb-b8d4-92213e52cc78",
   "metadata": {},
   "outputs": [],
   "source": [
    "a.extend(load_)"
   ]
  },
  {
   "cell_type": "code",
   "execution_count": 86,
   "id": "acf3879f-979f-4a99-aced-7dd6c5d8b01b",
   "metadata": {},
   "outputs": [
    {
     "data": {
      "text/plain": [
       "{'code': 'KRW-XRP',\n",
       " 'trade_timestamp': 1717018203992.0,\n",
       " 'trade_price': 726.6,\n",
       " 'volume_ask': 455.36974834,\n",
       " 'volume_bid': 0.0,\n",
       " 'count_ask': 1,\n",
       " 'count_bid': 0,\n",
       " 'seller': 1,\n",
       " 'buyer': 0}"
      ]
     },
     "execution_count": 86,
     "metadata": {},
     "output_type": "execute_result"
    }
   ],
   "source": [
    "a[-1]"
   ]
  },
  {
   "cell_type": "code",
   "execution_count": 87,
   "id": "d20a2684-88d0-4062-b56e-bb889e463623",
   "metadata": {},
   "outputs": [
    {
     "data": {
      "text/plain": [
       "{'code': 'KRW-XRP',\n",
       " 'trade_timestamp': 1716986332864.0,\n",
       " 'trade_price': 734.0,\n",
       " 'volume_ask': 492.92876859,\n",
       " 'volume_bid': 0.0,\n",
       " 'count_ask': 1,\n",
       " 'count_bid': 0,\n",
       " 'seller': 1,\n",
       " 'buyer': 0}"
      ]
     },
     "execution_count": 87,
     "metadata": {},
     "output_type": "execute_result"
    }
   ],
   "source": [
    "a[0]"
   ]
  },
  {
   "cell_type": "code",
   "execution_count": 66,
   "id": "fc9f1d1d-6d3a-4217-8975-ed4c30c9a269",
   "metadata": {},
   "outputs": [
    {
     "data": {
      "text/plain": [
       "1716986332864.0"
      ]
     },
     "execution_count": 66,
     "metadata": {},
     "output_type": "execute_result"
    }
   ],
   "source": [
    "end"
   ]
  },
  {
   "cell_type": "code",
   "execution_count": 69,
   "id": "f66627ae-5253-4a9c-be05-c7f82e2d7db5",
   "metadata": {},
   "outputs": [
    {
     "data": {
      "text/plain": [
       "8.851308611111111"
      ]
     },
     "execution_count": 69,
     "metadata": {},
     "output_type": "execute_result"
    }
   ],
   "source": []
  },
  {
   "cell_type": "code",
   "execution_count": null,
   "id": "cbef9466-fc19-4cec-9e64-1bd1ad7c011b",
   "metadata": {
    "scrolled": true
   },
   "outputs": [
    {
     "name": "stdout",
     "output_type": "stream",
     "text": [
      "tradeSpeed :: 0.016666666666666666tradeSpeed :: 0.03333333333333333tradeSpeed :: 0.05tradeSpeed :: 0.06666666666666667tradeSpeed :: 0.08333333333333333tradeSpeed :: 0.1tradeSpeed :: 0.11666666666666667tradeSpeed :: 0.13333333333333333tradeSpeed :: 0.15tradeSpeed :: 0.16666666666666666tradeSpeed :: 0.18333333333333332tradeSpeed :: 0.2tradeSpeed :: 0.21666666666666667tradeSpeed :: 0.23333333333333334tradeSpeed :: 0.25tradeSpeed :: 0.26666666666666666tradeSpeed :: 0.2833333333333333tradeSpeed :: 0.3tradeSpeed :: 0.31666666666666665tradeSpeed :: 0.3333333333333333tradeSpeed :: 0.35tradeSpeed :: 0.36666666666666664tradeSpeed :: 0.38333333333333336tradeSpeed :: 0.4tradeSpeed :: 0.4166666666666667tradeSpeed :: 0.43333333333333335tradeSpeed :: 0.45tradeSpeed :: 0.4666666666666667tradeSpeed :: 0.48333333333333334tradeSpeed :: 0.5tradeSpeed :: 0.5166666666666667tradeSpeed :: 0.5333333333333333tradeSpeed :: 0.55tradeSpeed :: 0.5666666666666667tradeSpeed :: 0.5833333333333334tradeSpeed :: 0.6tradeSpeed :: 0.6166666666666667tradeSpeed :: 0.6333333333333333tradeSpeed :: 0.65tradeSpeed :: 0.6666666666666666tradeSpeed :: 0.6833333333333333tradeSpeed :: 0.7tradeSpeed :: 0.7166666666666667tradeSpeed :: 0.7333333333333333tradeSpeed :: 0.75tradeSpeed :: 0.7666666666666667tradeSpeed :: 0.7833333333333333tradeSpeed :: 0.8tradeSpeed :: 0.8166666666666667tradeSpeed :: 0.8333333333333334tradeSpeed :: 0.85tradeSpeed :: 0.8666666666666667tradeSpeed :: 0.8833333333333333tradeSpeed :: 0.9tradeSpeed :: 0.9166666666666666tradeSpeed :: 0.9333333333333333tradeSpeed :: 0.95tradeSpeed :: 0.9666666666666667tradeSpeed :: 0.9833333333333333tradeSpeed :: 1.0tradeSpeed :: 1.0166666666666666tradeSpeed :: 1.0333333333333334tradeSpeed :: 1.05tradeSpeed :: 1.0666666666666667tradeSpeed :: 1.0833333333333333tradeSpeed :: 1.1tradeSpeed :: 1.1166666666666667tradeSpeed :: 1.1333333333333333tradeSpeed :: 1.15tradeSpeed :: 1.1666666666666667tradeSpeed :: 1.1833333333333333tradeSpeed :: 1.2tradeSpeed :: 1.2166666666666666tradeSpeed :: 1.2333333333333334tradeSpeed :: 1.25tradeSpeed :: 1.2666666666666666tradeSpeed :: 1.2833333333333334tradeSpeed :: 1.3tradeSpeed :: 1.3166666666666667tradeSpeed :: 1.3333333333333333tradeSpeed :: 1.35tradeSpeed :: 1.3666666666666667tradeSpeed :: 1.3833333333333333tradeSpeed :: 1.4tradeSpeed :: 1.2833333333333334tradeSpeed :: 1.3tradeSpeed :: 1.25tradeSpeed :: 1.1833333333333333tradeSpeed :: 1.1833333333333333tradeSpeed :: 1.2tradeSpeed :: 1.2tradeSpeed :: 1.1166666666666667tradeSpeed :: 0.8333333333333334tradeSpeed :: 0.8tradeSpeed :: 0.8166666666666667tradeSpeed :: 0.8333333333333334tradeSpeed :: 0.8tradeSpeed :: 0.8tradeSpeed :: 0.8166666666666667tradeSpeed :: 0.8333333333333334tradeSpeed :: 0.75tradeSpeed :: 0.75tradeSpeed :: 0.75tradeSpeed :: 0.75tradeSpeed :: 0.7666666666666667tradeSpeed :: 0.7166666666666667tradeSpeed :: 0.6833333333333333tradeSpeed :: 0.7tradeSpeed :: 0.7166666666666667tradeSpeed :: 0.7166666666666667tradeSpeed :: 0.6833333333333333tradeSpeed :: 0.7tradeSpeed :: 0.7166666666666667tradeSpeed :: 0.7333333333333333tradeSpeed :: 0.7tradeSpeed :: 0.7tradeSpeed :: 0.7166666666666667tradeSpeed :: 0.6tradeSpeed :: 0.6tradeSpeed :: 0.6166666666666667tradeSpeed :: 0.6333333333333333tradeSpeed :: 0.6tradeSpeed :: 0.6166666666666667tradeSpeed :: 0.6333333333333333tradeSpeed :: 0.65tradeSpeed :: 0.6666666666666666tradeSpeed :: 0.6833333333333333tradeSpeed :: 0.7tradeSpeed :: 0.7166666666666667tradeSpeed :: 0.7333333333333333tradeSpeed :: 0.75tradeSpeed :: 0.7666666666666667tradeSpeed :: 0.7833333333333333tradeSpeed :: 0.8tradeSpeed :: 0.8166666666666667tradeSpeed :: 0.8333333333333334tradeSpeed :: 0.85tradeSpeed :: 0.85tradeSpeed :: 0.8666666666666667tradeSpeed :: 0.8833333333333333tradeSpeed :: 0.9tradeSpeed :: 0.9tradeSpeed :: 0.9166666666666666tradeSpeed :: 0.9333333333333333tradeSpeed :: 0.95tradeSpeed :: 0.9333333333333333tradeSpeed :: 0.9333333333333333tradeSpeed :: 0.95tradeSpeed :: 0.9666666666666667tradeSpeed :: 0.9833333333333333tradeSpeed :: 0.9833333333333333tradeSpeed :: 1.0tradeSpeed :: 1.0166666666666666tradeSpeed :: 1.0333333333333334tradeSpeed :: 1.05tradeSpeed :: 1.0666666666666667tradeSpeed :: 1.0833333333333333tradeSpeed :: 1.1tradeSpeed :: 1.1166666666666667tradeSpeed :: 1.1333333333333333tradeSpeed :: 1.15tradeSpeed :: 1.1666666666666667tradeSpeed :: 1.1833333333333333tradeSpeed :: 1.2tradeSpeed :: 1.2166666666666666tradeSpeed :: 1.2333333333333334tradeSpeed :: 1.25tradeSpeed :: 1.2666666666666666tradeSpeed :: 1.2833333333333334tradeSpeed :: 1.3tradeSpeed :: 1.3166666666666667tradeSpeed :: 1.3333333333333333tradeSpeed :: 1.35tradeSpeed :: 1.3666666666666667tradeSpeed :: 1.3833333333333333tradeSpeed :: 1.3666666666666667tradeSpeed :: 1.3666666666666667tradeSpeed :: 1.3666666666666667tradeSpeed :: 1.3833333333333333tradeSpeed :: 1.4tradeSpeed :: 1.4166666666666667tradeSpeed :: 1.4333333333333333tradeSpeed :: 1.45tradeSpeed :: 1.4666666666666666tradeSpeed :: 1.4833333333333334tradeSpeed :: 1.4833333333333334tradeSpeed :: 1.4666666666666666tradeSpeed :: 1.4833333333333334tradeSpeed :: 1.4833333333333334tradeSpeed :: 1.45tradeSpeed :: 1.4666666666666666tradeSpeed :: 1.45tradeSpeed :: 1.4666666666666666tradeSpeed :: 1.4666666666666666tradeSpeed :: 1.4833333333333334tradeSpeed :: 1.5tradeSpeed :: 1.5166666666666666tradeSpeed :: 1.5333333333333334tradeSpeed :: 1.55tradeSpeed :: 1.5666666666666667tradeSpeed :: 1.5833333333333333tradeSpeed :: 1.6tradeSpeed :: 1.6166666666666667tradeSpeed :: 1.6333333333333333tradeSpeed :: 1.65tradeSpeed :: 1.6666666666666667tradeSpeed :: 1.6666666666666667tradeSpeed :: 1.6333333333333333tradeSpeed :: 1.6333333333333333tradeSpeed :: 1.65tradeSpeed :: 1.6666666666666667tradeSpeed :: 1.6333333333333333tradeSpeed :: 1.65tradeSpeed :: 1.6166666666666667tradeSpeed :: 1.6333333333333333tradeSpeed :: 1.65tradeSpeed :: 1.6666666666666667tradeSpeed :: 1.6833333333333333tradeSpeed :: 1.7tradeSpeed :: 1.7166666666666666tradeSpeed :: 1.7333333333333334tradeSpeed :: 1.75tradeSpeed :: 1.7666666666666666tradeSpeed :: 1.7833333333333334tradeSpeed :: 1.8tradeSpeed :: 1.8166666666666667tradeSpeed :: 1.8166666666666667tradeSpeed :: 1.8333333333333333tradeSpeed :: 1.85tradeSpeed :: 1.8666666666666667tradeSpeed :: 1.8833333333333333tradeSpeed :: 1.9tradeSpeed :: 1.9tradeSpeed :: 1.9166666666666667tradeSpeed :: 1.9tradeSpeed :: 1.9166666666666667tradeSpeed :: 1.9333333333333333tradeSpeed :: 1.7833333333333334tradeSpeed :: 1.75tradeSpeed :: 1.7166666666666666tradeSpeed :: 1.6666666666666667tradeSpeed :: 1.6833333333333333tradeSpeed :: 1.7tradeSpeed :: 1.6333333333333333tradeSpeed :: 1.6tradeSpeed :: 1.6166666666666667tradeSpeed :: 1.6333333333333333tradeSpeed :: 1.6333333333333333tradeSpeed :: 1.65tradeSpeed :: 1.65tradeSpeed :: 1.65tradeSpeed :: 1.6333333333333333tradeSpeed :: 1.65tradeSpeed :: 1.65tradeSpeed :: 1.6666666666666667tradeSpeed :: 1.6666666666666667tradeSpeed :: 1.65tradeSpeed :: 1.6666666666666667tradeSpeed :: 1.6833333333333333tradeSpeed :: 1.6833333333333333tradeSpeed :: 1.6833333333333333tradeSpeed :: 1.7tradeSpeed :: 1.6333333333333333tradeSpeed :: 1.65tradeSpeed :: 1.6666666666666667tradeSpeed :: 1.6833333333333333tradeSpeed :: 1.5666666666666667tradeSpeed :: 1.5833333333333333tradeSpeed :: 1.6tradeSpeed :: 1.6166666666666667tradeSpeed :: 1.6333333333333333tradeSpeed :: 1.65tradeSpeed :: 1.6666666666666667tradeSpeed :: 1.6833333333333333tradeSpeed :: 1.7tradeSpeed :: 1.7tradeSpeed :: 1.7166666666666666tradeSpeed :: 1.7166666666666666tradeSpeed :: 1.7333333333333334tradeSpeed :: 1.7333333333333334tradeSpeed :: 1.75tradeSpeed :: 1.75tradeSpeed :: 1.7666666666666666tradeSpeed :: 1.7666666666666666tradeSpeed :: 1.75tradeSpeed :: 1.7333333333333334tradeSpeed :: 1.7tradeSpeed :: 1.7tradeSpeed :: 1.6833333333333333tradeSpeed :: 1.7tradeSpeed :: 1.7166666666666666tradeSpeed :: 1.7333333333333334tradeSpeed :: 1.7333333333333334tradeSpeed :: 1.75tradeSpeed :: 1.7666666666666666tradeSpeed :: 1.7833333333333334tradeSpeed :: 1.8tradeSpeed :: 1.8166666666666667tradeSpeed :: 1.8333333333333333tradeSpeed :: 1.85tradeSpeed :: 1.5833333333333333tradeSpeed :: 1.5666666666666667tradeSpeed :: 1.5333333333333334tradeSpeed :: 1.55tradeSpeed :: 1.5666666666666667tradeSpeed :: 1.5666666666666667tradeSpeed :: 1.5833333333333333tradeSpeed :: 1.5833333333333333tradeSpeed :: 1.6tradeSpeed :: 1.5166666666666666tradeSpeed :: 1.5166666666666666tradeSpeed :: 1.5333333333333334tradeSpeed :: 1.5333333333333334tradeSpeed :: 1.5166666666666666tradeSpeed :: 1.5333333333333334tradeSpeed :: 1.55tradeSpeed :: 1.5666666666666667tradeSpeed :: 1.5666666666666667tradeSpeed :: 1.5666666666666667tradeSpeed :: 1.5833333333333333tradeSpeed :: 1.5833333333333333tradeSpeed :: 1.5166666666666666tradeSpeed :: 1.5333333333333334tradeSpeed :: 1.5tradeSpeed :: 1.5166666666666666tradeSpeed :: 1.5333333333333334tradeSpeed :: 1.4666666666666666tradeSpeed :: 1.4833333333333334tradeSpeed :: 1.5tradeSpeed :: 1.5166666666666666tradeSpeed :: 1.5166666666666666tradeSpeed :: 1.5333333333333334tradeSpeed :: 1.55tradeSpeed :: 1.5166666666666666tradeSpeed :: 1.4666666666666666tradeSpeed :: 1.3666666666666667tradeSpeed :: 1.3333333333333333tradeSpeed :: 1.3tradeSpeed :: 1.2833333333333334tradeSpeed :: 1.2333333333333334tradeSpeed :: 1.2166666666666666tradeSpeed :: 1.0666666666666667tradeSpeed :: 1.0833333333333333tradeSpeed :: 1.0tradeSpeed :: 1.0166666666666666tradeSpeed :: 1.0333333333333334tradeSpeed :: 1.0333333333333334tradeSpeed :: 1.05tradeSpeed :: 1.0tradeSpeed :: 0.9666666666666667tradeSpeed :: 0.9833333333333333tradeSpeed :: 0.9166666666666666tradeSpeed :: 0.9166666666666666tradeSpeed :: 0.9166666666666666tradeSpeed :: 0.9333333333333333tradeSpeed :: 0.95tradeSpeed :: 0.95tradeSpeed :: 0.9666666666666667tradeSpeed :: 0.9833333333333333tradeSpeed :: 0.9833333333333333tradeSpeed :: 0.8833333333333333tradeSpeed :: 0.8833333333333333tradeSpeed :: 0.9tradeSpeed :: 0.9166666666666666tradeSpeed :: 0.9333333333333333tradeSpeed :: 0.9tradeSpeed :: 0.9166666666666666tradeSpeed :: 0.9333333333333333tradeSpeed :: 0.95tradeSpeed :: 0.9666666666666667tradeSpeed :: 0.9833333333333333tradeSpeed :: 1.0tradeSpeed :: 1.0166666666666666tradeSpeed :: 1.0333333333333334tradeSpeed :: 1.05tradeSpeed :: 1.05tradeSpeed :: 1.0666666666666667tradeSpeed :: 1.0833333333333333tradeSpeed :: 1.1tradeSpeed :: 1.1166666666666667tradeSpeed :: 1.1333333333333333tradeSpeed :: 1.15tradeSpeed :: 1.1666666666666667tradeSpeed :: 1.1166666666666667tradeSpeed :: 1.1166666666666667tradeSpeed :: 1.1333333333333333tradeSpeed :: 1.15tradeSpeed :: 1.1666666666666667tradeSpeed :: 1.15tradeSpeed :: 1.1666666666666667tradeSpeed :: 1.1833333333333333tradeSpeed :: 1.1833333333333333tradeSpeed :: 1.2tradeSpeed :: 1.2166666666666666tradeSpeed :: 1.2333333333333334tradeSpeed :: 1.25tradeSpeed :: 1.25tradeSpeed :: 1.2666666666666666tradeSpeed :: 1.2833333333333334tradeSpeed :: 1.2833333333333334tradeSpeed :: 1.3tradeSpeed :: 1.3166666666666667tradeSpeed :: 1.3333333333333333tradeSpeed :: 1.3tradeSpeed :: 1.3166666666666667tradeSpeed :: 1.3333333333333333tradeSpeed :: 1.35tradeSpeed :: 1.3666666666666667tradeSpeed :: 1.3833333333333333tradeSpeed :: 1.4tradeSpeed :: 1.4166666666666667tradeSpeed :: 1.4333333333333333tradeSpeed :: 1.3333333333333333tradeSpeed :: 1.35tradeSpeed :: 1.3666666666666667tradeSpeed :: 1.3666666666666667tradeSpeed :: 1.3833333333333333tradeSpeed :: 1.4tradeSpeed :: 1.4166666666666667tradeSpeed :: 1.4333333333333333tradeSpeed :: 1.4333333333333333tradeSpeed :: 1.45tradeSpeed :: 1.4666666666666666tradeSpeed :: 1.4833333333333334tradeSpeed :: 1.5tradeSpeed :: 1.5166666666666666tradeSpeed :: 1.5333333333333334tradeSpeed :: 1.55tradeSpeed :: 1.5333333333333334tradeSpeed :: 1.55tradeSpeed :: 1.5666666666666667tradeSpeed :: 1.5833333333333333tradeSpeed :: 1.6tradeSpeed :: 1.6tradeSpeed :: 1.6166666666666667tradeSpeed :: 1.6333333333333333tradeSpeed :: 1.65tradeSpeed :: 1.6666666666666667tradeSpeed :: 1.6666666666666667tradeSpeed :: 1.6833333333333333tradeSpeed :: 1.7tradeSpeed :: 1.7166666666666666tradeSpeed :: 1.7333333333333334tradeSpeed :: 1.75tradeSpeed :: 1.7666666666666666tradeSpeed :: 1.7833333333333334tradeSpeed :: 1.8tradeSpeed :: 1.8166666666666667tradeSpeed :: 1.8333333333333333tradeSpeed :: 1.85tradeSpeed :: 1.8666666666666667tradeSpeed :: 1.8666666666666667tradeSpeed :: 1.8833333333333333tradeSpeed :: 1.9tradeSpeed :: 1.9tradeSpeed :: 1.9166666666666667tradeSpeed :: 1.9333333333333333tradeSpeed :: 1.95tradeSpeed :: 1.9666666666666666tradeSpeed :: 1.9833333333333334tradeSpeed :: 1.9666666666666666tradeSpeed :: 1.9333333333333333tradeSpeed :: 1.95tradeSpeed :: 1.9333333333333333tradeSpeed :: 1.9tradeSpeed :: 1.9166666666666667tradeSpeed :: 1.9333333333333333tradeSpeed :: 1.95tradeSpeed :: 1.9666666666666666tradeSpeed :: 1.9833333333333334tradeSpeed :: 2.0tradeSpeed :: 2.0166666666666666tradeSpeed :: 2.033333333333333tradeSpeed :: 2.05tradeSpeed :: 2.05tradeSpeed :: 2.05tradeSpeed :: 2.066666666666667tradeSpeed :: 2.0833333333333335tradeSpeed :: 2.066666666666667tradeSpeed :: 2.05tradeSpeed :: 2.066666666666667tradeSpeed :: 2.0833333333333335tradeSpeed :: 2.1tradeSpeed :: 2.1166666666666667tradeSpeed :: 2.1333333333333333tradeSpeed :: 2.15tradeSpeed :: 2.1666666666666665tradeSpeed :: 2.183333333333333tradeSpeed :: 2.2tradeSpeed :: 2.216666666666667tradeSpeed :: 2.2333333333333334tradeSpeed :: 2.25tradeSpeed :: 2.2666666666666666tradeSpeed :: 2.283333333333333tradeSpeed :: 2.3tradeSpeed :: 2.316666666666667tradeSpeed :: 2.283333333333333tradeSpeed :: 2.283333333333333tradeSpeed :: 2.2666666666666666tradeSpeed :: 2.283333333333333tradeSpeed :: 2.3tradeSpeed :: 2.316666666666667tradeSpeed :: 2.3333333333333335tradeSpeed :: 2.3333333333333335tradeSpeed :: 2.3333333333333335tradeSpeed :: 2.35tradeSpeed :: 2.3666666666666667tradeSpeed :: 2.3833333333333333tradeSpeed :: 2.4tradeSpeed :: 2.1166666666666667tradeSpeed :: 2.1333333333333333tradeSpeed :: 2.15tradeSpeed :: 2.1666666666666665tradeSpeed :: 2.1666666666666665tradeSpeed :: 2.183333333333333tradeSpeed :: 2.2tradeSpeed :: 2.216666666666667tradeSpeed :: 2.2333333333333334tradeSpeed :: 2.183333333333333tradeSpeed :: 2.2tradeSpeed :: 2.0tradeSpeed :: 2.0166666666666666tradeSpeed :: 2.0tradeSpeed :: 1.9666666666666666tradeSpeed :: 1.9833333333333334tradeSpeed :: 1.9tradeSpeed :: 1.9166666666666667tradeSpeed :: 1.8833333333333333tradeSpeed :: 1.9tradeSpeed :: 1.7tradeSpeed :: 1.7166666666666666tradeSpeed :: 1.7333333333333334tradeSpeed :: 1.6166666666666667tradeSpeed :: 1.6tradeSpeed :: 1.4833333333333334tradeSpeed :: 1.4833333333333334tradeSpeed :: 1.5tradeSpeed :: 1.45tradeSpeed :: 1.4666666666666666tradeSpeed :: 1.4833333333333334tradeSpeed :: 1.5tradeSpeed :: 1.3166666666666667tradeSpeed :: 1.3333333333333333tradeSpeed :: 1.3333333333333333tradeSpeed :: 1.3333333333333333tradeSpeed :: 1.35tradeSpeed :: 1.3666666666666667tradeSpeed :: 1.3833333333333333tradeSpeed :: 1.2666666666666666tradeSpeed :: 1.2833333333333334tradeSpeed :: 1.2tradeSpeed :: 1.1tradeSpeed :: 1.0333333333333334tradeSpeed :: 1.0166666666666666tradeSpeed :: 1.0333333333333334tradeSpeed :: 1.05tradeSpeed :: 1.0666666666666667tradeSpeed :: 1.05tradeSpeed :: 1.0666666666666667tradeSpeed :: 1.0666666666666667tradeSpeed :: 1.0833333333333333tradeSpeed :: 1.1tradeSpeed :: 1.1166666666666667tradeSpeed :: 1.1333333333333333tradeSpeed :: 1.15tradeSpeed :: 1.15tradeSpeed :: 1.1666666666666667tradeSpeed :: 1.1833333333333333tradeSpeed :: 1.2tradeSpeed :: 1.2166666666666666tradeSpeed :: 1.2333333333333334tradeSpeed :: 1.25tradeSpeed :: 1.2666666666666666tradeSpeed :: 1.2833333333333334tradeSpeed :: 1.3tradeSpeed :: 1.3166666666666667tradeSpeed :: 1.3333333333333333tradeSpeed :: 1.35tradeSpeed :: 1.3666666666666667tradeSpeed :: 1.3666666666666667tradeSpeed :: 1.3833333333333333tradeSpeed :: 1.4tradeSpeed :: 1.4166666666666667tradeSpeed :: 1.4333333333333333tradeSpeed :: 1.45tradeSpeed :: 1.4666666666666666tradeSpeed :: 1.4833333333333334tradeSpeed :: 1.4833333333333334tradeSpeed :: 1.4666666666666666tradeSpeed :: 1.4833333333333334tradeSpeed :: 1.5tradeSpeed :: 1.5166666666666666tradeSpeed :: 1.5tradeSpeed :: 1.4333333333333333tradeSpeed :: 1.45tradeSpeed :: 1.4666666666666666tradeSpeed :: 1.4666666666666666tradeSpeed :: 1.4833333333333334tradeSpeed :: 1.5tradeSpeed :: 1.5166666666666666tradeSpeed :: 1.5333333333333334tradeSpeed :: 1.55tradeSpeed :: 1.5666666666666667tradeSpeed :: 1.5833333333333333tradeSpeed :: 1.6tradeSpeed :: 1.6166666666666667tradeSpeed :: 1.6333333333333333tradeSpeed :: 1.65tradeSpeed :: 1.6666666666666667tradeSpeed :: 1.6833333333333333tradeSpeed :: 1.7tradeSpeed :: 1.7166666666666666tradeSpeed :: 1.7333333333333334tradeSpeed :: 1.75tradeSpeed :: 1.7666666666666666tradeSpeed :: 1.7833333333333334tradeSpeed :: 1.8tradeSpeed :: 1.8166666666666667tradeSpeed :: 1.8333333333333333tradeSpeed :: 1.85tradeSpeed :: 1.8666666666666667tradeSpeed :: 1.8833333333333333tradeSpeed :: 1.9tradeSpeed :: 1.9166666666666667tradeSpeed :: 1.9333333333333333tradeSpeed :: 1.95tradeSpeed :: 1.9666666666666666tradeSpeed :: 1.9833333333333334tradeSpeed :: 1.9833333333333334tradeSpeed :: 2.0tradeSpeed :: 1.9666666666666666tradeSpeed :: 1.9833333333333334tradeSpeed :: 2.0tradeSpeed :: 2.0166666666666666tradeSpeed :: 1.95tradeSpeed :: 1.9333333333333333tradeSpeed :: 1.9166666666666667tradeSpeed :: 1.9333333333333333tradeSpeed :: 1.9333333333333333tradeSpeed :: 1.95tradeSpeed :: 1.9333333333333333tradeSpeed :: 1.95tradeSpeed :: 1.95tradeSpeed :: 1.95tradeSpeed :: 1.9666666666666666tradeSpeed :: 1.9833333333333334tradeSpeed :: 2.0tradeSpeed :: 1.9833333333333334tradeSpeed :: 2.0tradeSpeed :: 2.0166666666666666tradeSpeed :: 2.033333333333333tradeSpeed :: 2.0166666666666666tradeSpeed :: 2.033333333333333tradeSpeed :: 2.05tradeSpeed :: 2.066666666666667tradeSpeed :: 2.066666666666667tradeSpeed :: 2.0833333333333335tradeSpeed :: 2.1tradeSpeed :: 2.0833333333333335tradeSpeed :: 2.1tradeSpeed :: 2.1166666666666667tradeSpeed :: 2.066666666666667tradeSpeed :: 2.0833333333333335tradeSpeed :: 2.1tradeSpeed :: 2.1tradeSpeed :: 2.0833333333333335tradeSpeed :: 2.1tradeSpeed :: 2.1166666666666667tradeSpeed :: 2.1333333333333333tradeSpeed :: 2.15tradeSpeed :: 2.1666666666666665tradeSpeed :: 2.183333333333333tradeSpeed :: 2.2tradeSpeed :: 2.216666666666667tradeSpeed :: 2.2333333333333334tradeSpeed :: 2.25tradeSpeed :: 2.2666666666666666tradeSpeed :: 2.283333333333333tradeSpeed :: 2.3tradeSpeed :: 2.316666666666667tradeSpeed :: 2.3333333333333335tradeSpeed :: 2.35tradeSpeed :: 2.3666666666666667tradeSpeed :: 2.3833333333333333tradeSpeed :: 2.4tradeSpeed :: 2.4166666666666665tradeSpeed :: 2.433333333333333tradeSpeed :: 2.45tradeSpeed :: 2.466666666666667tradeSpeed :: 2.4833333333333334tradeSpeed :: 2.5tradeSpeed :: 2.5166666666666666tradeSpeed :: 2.533333333333333tradeSpeed :: 2.55tradeSpeed :: 2.566666666666667tradeSpeed :: 2.5833333333333335tradeSpeed :: 2.6tradeSpeed :: 2.6166666666666667tradeSpeed :: 2.6333333333333333tradeSpeed :: 2.65tradeSpeed :: 2.6666666666666665tradeSpeed :: 2.683333333333333tradeSpeed :: 2.683333333333333tradeSpeed :: 2.683333333333333tradeSpeed :: 2.683333333333333tradeSpeed :: 2.7tradeSpeed :: 2.65tradeSpeed :: 2.6666666666666665tradeSpeed :: 2.683333333333333tradeSpeed :: 2.7tradeSpeed :: 2.683333333333333tradeSpeed :: 2.7tradeSpeed :: 2.716666666666667tradeSpeed :: 2.716666666666667tradeSpeed :: 2.7333333333333334tradeSpeed :: 2.65tradeSpeed :: 2.6333333333333333tradeSpeed :: 2.65tradeSpeed :: 2.6666666666666665tradeSpeed :: 2.683333333333333tradeSpeed :: 2.7tradeSpeed :: 2.716666666666667tradeSpeed :: 2.7333333333333334tradeSpeed :: 2.75tradeSpeed :: 2.7333333333333334tradeSpeed :: 2.75tradeSpeed :: 2.7666666666666666tradeSpeed :: 2.783333333333333tradeSpeed :: 2.8tradeSpeed :: 2.816666666666667tradeSpeed :: 2.816666666666667tradeSpeed :: 2.8333333333333335tradeSpeed :: 2.85tradeSpeed :: 2.8666666666666667tradeSpeed :: 2.8333333333333335tradeSpeed :: 2.85tradeSpeed :: 2.8666666666666667tradeSpeed :: 2.8833333333333333tradeSpeed :: 2.9tradeSpeed :: 2.9166666666666665tradeSpeed :: 2.933333333333333tradeSpeed :: 2.95tradeSpeed :: 2.966666666666667tradeSpeed :: 2.9833333333333334tradeSpeed :: 3.0tradeSpeed :: 3.0166666666666666tradeSpeed :: 2.9833333333333334tradeSpeed :: 2.85tradeSpeed :: 2.8333333333333335tradeSpeed :: 2.85tradeSpeed :: 2.8666666666666667tradeSpeed :: 2.85tradeSpeed :: 2.8666666666666667tradeSpeed :: 2.8833333333333333tradeSpeed :: 2.9tradeSpeed :: 2.8tradeSpeed :: 2.75tradeSpeed :: 2.6666666666666665tradeSpeed :: 2.683333333333333tradeSpeed :: 2.683333333333333tradeSpeed :: 2.5tradeSpeed :: 2.5166666666666666tradeSpeed :: 2.5166666666666666tradeSpeed :: 2.283333333333333tradeSpeed :: 2.183333333333333tradeSpeed :: 2.2tradeSpeed :: 2.216666666666667tradeSpeed :: 2.2333333333333334tradeSpeed :: 2.2333333333333334tradeSpeed :: 2.2333333333333334tradeSpeed :: 2.25tradeSpeed :: 2.2666666666666666tradeSpeed :: 2.283333333333333tradeSpeed :: 2.3tradeSpeed :: 2.316666666666667tradeSpeed :: 2.3333333333333335tradeSpeed :: 2.35tradeSpeed :: 2.3666666666666667tradeSpeed :: 2.3833333333333333tradeSpeed :: 2.4tradeSpeed :: 2.4166666666666665tradeSpeed :: 2.433333333333333tradeSpeed :: 2.45tradeSpeed :: 2.433333333333333tradeSpeed :: 2.45tradeSpeed :: 2.466666666666667tradeSpeed :: 2.4833333333333334tradeSpeed :: 2.5tradeSpeed :: 2.45tradeSpeed :: 2.466666666666667tradeSpeed :: 2.4833333333333334tradeSpeed :: 2.4833333333333334tradeSpeed :: 2.5tradeSpeed :: 2.45tradeSpeed :: 2.45tradeSpeed :: 2.466666666666667tradeSpeed :: 2.4833333333333334tradeSpeed :: 2.5tradeSpeed :: 2.4833333333333334tradeSpeed :: 2.4833333333333334tradeSpeed :: 2.5tradeSpeed :: 2.5166666666666666tradeSpeed :: 2.533333333333333tradeSpeed :: 2.55tradeSpeed :: 2.566666666666667tradeSpeed :: 2.5833333333333335tradeSpeed :: 2.533333333333333tradeSpeed :: 2.5tradeSpeed :: 2.5166666666666666tradeSpeed :: 2.533333333333333tradeSpeed :: 2.55tradeSpeed :: 2.566666666666667tradeSpeed :: 2.5833333333333335tradeSpeed :: 2.566666666666667tradeSpeed :: 2.566666666666667tradeSpeed :: 2.566666666666667tradeSpeed :: 2.5833333333333335tradeSpeed :: 2.566666666666667tradeSpeed :: 2.566666666666667tradeSpeed :: 2.566666666666667tradeSpeed :: 2.566666666666667tradeSpeed :: 2.5833333333333335tradeSpeed :: 2.6tradeSpeed :: 2.6166666666666667tradeSpeed :: 2.6333333333333333tradeSpeed :: 2.65tradeSpeed :: 2.6666666666666665tradeSpeed :: 2.683333333333333tradeSpeed :: 2.7tradeSpeed :: 2.716666666666667tradeSpeed :: 2.7333333333333334tradeSpeed :: 2.75tradeSpeed :: 2.7666666666666666tradeSpeed :: 2.783333333333333tradeSpeed :: 2.8tradeSpeed :: 2.816666666666667tradeSpeed :: 2.8333333333333335tradeSpeed :: 2.85tradeSpeed :: 2.85tradeSpeed :: 2.8333333333333335tradeSpeed :: 2.85tradeSpeed :: 2.8666666666666667tradeSpeed :: 2.8833333333333333tradeSpeed :: 2.9tradeSpeed :: 2.9166666666666665tradeSpeed :: 2.933333333333333tradeSpeed :: 2.8666666666666667tradeSpeed :: 2.8833333333333333tradeSpeed :: 2.9tradeSpeed :: 2.9166666666666665tradeSpeed :: 2.9166666666666665tradeSpeed :: 2.933333333333333tradeSpeed :: 2.95tradeSpeed :: 2.966666666666667tradeSpeed :: 2.9833333333333334tradeSpeed :: 2.9833333333333334tradeSpeed :: 3.0tradeSpeed :: 2.9833333333333334tradeSpeed :: 2.966666666666667tradeSpeed :: 2.9833333333333334tradeSpeed :: 3.0tradeSpeed :: 2.9833333333333334tradeSpeed :: 2.85tradeSpeed :: 2.85tradeSpeed :: 2.8666666666666667tradeSpeed :: 2.8833333333333333tradeSpeed :: 2.85tradeSpeed :: 2.8666666666666667tradeSpeed :: 2.8666666666666667tradeSpeed :: 2.8666666666666667tradeSpeed :: 2.8833333333333333tradeSpeed :: 2.9tradeSpeed :: 2.9166666666666665tradeSpeed :: 2.933333333333333tradeSpeed :: 2.95tradeSpeed :: 2.95tradeSpeed :: 2.966666666666667tradeSpeed :: 2.966666666666667tradeSpeed :: 2.9833333333333334tradeSpeed :: 2.966666666666667tradeSpeed :: 2.9833333333333334tradeSpeed :: 3.0tradeSpeed :: 3.0166666666666666tradeSpeed :: 3.033333333333333tradeSpeed :: 3.05tradeSpeed :: 3.066666666666667tradeSpeed :: 3.0833333333333335tradeSpeed :: 3.1tradeSpeed :: 3.1166666666666667tradeSpeed :: 3.1166666666666667tradeSpeed :: 3.1333333333333333tradeSpeed :: 3.15tradeSpeed :: 3.15tradeSpeed :: 3.1666666666666665tradeSpeed :: 3.183333333333333tradeSpeed :: 3.2tradeSpeed :: 3.216666666666667tradeSpeed :: 3.2333333333333334tradeSpeed :: 3.25tradeSpeed :: 3.2666666666666666tradeSpeed :: 3.283333333333333tradeSpeed :: 3.3tradeSpeed :: 3.316666666666667tradeSpeed :: 3.316666666666667tradeSpeed :: 3.3333333333333335tradeSpeed :: 3.35tradeSpeed :: 3.3666666666666667tradeSpeed :: 3.3833333333333333tradeSpeed :: 3.4tradeSpeed :: 3.4166666666666665tradeSpeed :: 3.433333333333333tradeSpeed :: 3.433333333333333tradeSpeed :: 3.45tradeSpeed :: 3.3666666666666667tradeSpeed :: 3.3833333333333333tradeSpeed :: 3.4tradeSpeed :: 3.4166666666666665tradeSpeed :: 3.4166666666666665tradeSpeed :: 3.433333333333333tradeSpeed :: 3.45tradeSpeed :: 3.433333333333333tradeSpeed :: 3.45tradeSpeed :: 3.466666666666667tradeSpeed :: 3.4833333333333334tradeSpeed :: 3.5tradeSpeed :: 3.4tradeSpeed :: 3.3666666666666667tradeSpeed :: 3.283333333333333tradeSpeed :: 3.2666666666666666tradeSpeed :: 3.2666666666666666tradeSpeed :: 3.2666666666666666tradeSpeed :: 3.283333333333333tradeSpeed :: 3.2tradeSpeed :: 3.1666666666666665tradeSpeed :: 3.1666666666666665tradeSpeed :: 3.1666666666666665tradeSpeed :: 3.1666666666666665tradeSpeed :: 3.183333333333333tradeSpeed :: 3.15tradeSpeed :: 3.1666666666666665tradeSpeed :: 3.0166666666666666tradeSpeed :: 3.0tradeSpeed :: 3.0tradeSpeed :: 3.0166666666666666tradeSpeed :: 3.033333333333333tradeSpeed :: 3.05tradeSpeed :: 3.066666666666667tradeSpeed :: 3.066666666666667tradeSpeed :: 3.0833333333333335tradeSpeed :: 3.1tradeSpeed :: 3.1166666666666667tradeSpeed :: 3.1333333333333333tradeSpeed :: 3.033333333333333tradeSpeed :: 2.7666666666666666tradeSpeed :: 2.783333333333333tradeSpeed :: 2.8tradeSpeed :: 2.816666666666667tradeSpeed :: 2.75tradeSpeed :: 2.7tradeSpeed :: 2.533333333333333tradeSpeed :: 2.55tradeSpeed :: 2.566666666666667tradeSpeed :: 2.533333333333333tradeSpeed :: 2.45tradeSpeed :: 2.4tradeSpeed :: 1.75tradeSpeed :: 1.4166666666666667tradeSpeed :: 1.4166666666666667tradeSpeed :: 1.4tradeSpeed :: 1.3666666666666667tradeSpeed :: 1.3166666666666667tradeSpeed :: 1.3333333333333333tradeSpeed :: 1.3166666666666667tradeSpeed :: 1.25tradeSpeed :: 1.2333333333333334tradeSpeed :: 1.2tradeSpeed :: 1.1166666666666667tradeSpeed :: 1.1166666666666667tradeSpeed :: 1.1166666666666667tradeSpeed :: 1.1166666666666667tradeSpeed :: 1.1333333333333333tradeSpeed :: 1.0666666666666667tradeSpeed :: 1.0666666666666667tradeSpeed :: 1.0833333333333333tradeSpeed :: 1.0833333333333333tradeSpeed :: 1.1tradeSpeed :: 1.1166666666666667tradeSpeed :: 1.1333333333333333tradeSpeed :: 1.1tradeSpeed :: 1.1166666666666667tradeSpeed :: 1.1333333333333333tradeSpeed :: 1.1166666666666667tradeSpeed :: 1.1166666666666667tradeSpeed :: 1.1166666666666667tradeSpeed :: 1.1166666666666667tradeSpeed :: 1.1tradeSpeed :: 1.0666666666666667tradeSpeed :: 1.0833333333333333tradeSpeed :: 1.1tradeSpeed :: 1.0833333333333333tradeSpeed :: 1.0166666666666666tradeSpeed :: 1.0333333333333334tradeSpeed :: 1.05tradeSpeed :: 1.0666666666666667tradeSpeed :: 1.0833333333333333tradeSpeed :: 1.1tradeSpeed :: 1.1166666666666667tradeSpeed :: 1.1166666666666667tradeSpeed :: 1.1333333333333333tradeSpeed :: 1.15tradeSpeed :: 1.15tradeSpeed :: 1.1166666666666667tradeSpeed :: 1.0166666666666666tradeSpeed :: 1.0333333333333334tradeSpeed :: 1.0333333333333334tradeSpeed :: 1.05tradeSpeed :: 1.0666666666666667tradeSpeed :: 1.0833333333333333tradeSpeed :: 1.1tradeSpeed :: 1.1tradeSpeed :: 1.1166666666666667tradeSpeed :: 1.1333333333333333tradeSpeed :: 1.15tradeSpeed :: 1.1166666666666667tradeSpeed :: 1.1333333333333333tradeSpeed :: 1.15tradeSpeed :: 1.1666666666666667tradeSpeed :: 1.1833333333333333tradeSpeed :: 1.2tradeSpeed :: 1.2166666666666666tradeSpeed :: 1.2333333333333334tradeSpeed :: 1.25tradeSpeed :: 1.2666666666666666tradeSpeed :: 1.2833333333333334tradeSpeed :: 1.3tradeSpeed :: 1.3166666666666667tradeSpeed :: 1.3333333333333333tradeSpeed :: 1.3333333333333333tradeSpeed :: 1.3333333333333333tradeSpeed :: 1.2833333333333334tradeSpeed :: 1.2833333333333334tradeSpeed :: 1.3tradeSpeed :: 1.3166666666666667tradeSpeed :: 1.3333333333333333tradeSpeed :: 1.35tradeSpeed :: 1.3666666666666667tradeSpeed :: 1.3833333333333333tradeSpeed :: 1.4tradeSpeed :: 1.4tradeSpeed :: 1.4166666666666667tradeSpeed :: 1.4333333333333333tradeSpeed :: 1.45tradeSpeed :: 1.4666666666666666tradeSpeed :: 1.4833333333333334tradeSpeed :: 1.5tradeSpeed :: 1.5166666666666666tradeSpeed :: 1.5333333333333334tradeSpeed :: 1.5333333333333334tradeSpeed :: 1.55tradeSpeed :: 1.5666666666666667tradeSpeed :: 1.5833333333333333tradeSpeed :: 1.6tradeSpeed :: 1.6166666666666667tradeSpeed :: 1.6333333333333333tradeSpeed :: 1.65tradeSpeed :: 1.65tradeSpeed :: 1.6tradeSpeed :: 1.6tradeSpeed :: 1.5833333333333333tradeSpeed :: 1.5833333333333333tradeSpeed :: 1.6tradeSpeed :: 1.6166666666666667tradeSpeed :: 1.6166666666666667tradeSpeed :: 1.6tradeSpeed :: 1.6166666666666667tradeSpeed :: 1.6166666666666667tradeSpeed :: 1.6333333333333333tradeSpeed :: 1.65tradeSpeed :: 1.6666666666666667tradeSpeed :: 1.6833333333333333tradeSpeed :: 1.7tradeSpeed :: 1.7166666666666666tradeSpeed :: 1.7333333333333334tradeSpeed :: 1.75tradeSpeed :: 1.7666666666666666tradeSpeed :: 1.7833333333333334tradeSpeed :: 1.8tradeSpeed :: 1.8tradeSpeed :: 1.8166666666666667tradeSpeed :: 1.8333333333333333tradeSpeed :: 1.85tradeSpeed :: 1.8666666666666667tradeSpeed :: 1.8666666666666667tradeSpeed :: 1.8833333333333333tradeSpeed :: 1.9tradeSpeed :: 1.9166666666666667tradeSpeed :: 1.9333333333333333tradeSpeed :: 1.95tradeSpeed :: 1.9666666666666666tradeSpeed :: 1.9333333333333333tradeSpeed :: 1.95tradeSpeed :: 1.9333333333333333tradeSpeed :: 1.9333333333333333tradeSpeed :: 1.95tradeSpeed :: 1.9666666666666666tradeSpeed :: 1.9833333333333334tradeSpeed :: 2.0tradeSpeed :: 2.0166666666666666tradeSpeed :: 2.0tradeSpeed :: 2.0166666666666666tradeSpeed :: 2.033333333333333tradeSpeed :: 2.05tradeSpeed :: 2.05tradeSpeed :: 2.066666666666667tradeSpeed :: 2.066666666666667tradeSpeed :: 2.0833333333333335tradeSpeed :: 2.0833333333333335tradeSpeed :: 2.0833333333333335tradeSpeed :: 2.1tradeSpeed :: 2.1166666666666667tradeSpeed :: 2.1166666666666667tradeSpeed :: 2.1tradeSpeed :: 2.066666666666667tradeSpeed :: 2.066666666666667tradeSpeed :: 2.0833333333333335tradeSpeed :: 2.1tradeSpeed :: 2.0833333333333335tradeSpeed :: 2.0166666666666666tradeSpeed :: 2.033333333333333tradeSpeed :: 2.0166666666666666tradeSpeed :: 2.0166666666666666tradeSpeed :: 2.033333333333333tradeSpeed :: 2.033333333333333tradeSpeed :: 2.033333333333333tradeSpeed :: 2.05tradeSpeed :: 2.033333333333333tradeSpeed :: 2.05tradeSpeed :: 2.066666666666667tradeSpeed :: 2.0833333333333335tradeSpeed :: 2.1tradeSpeed :: 2.1166666666666667tradeSpeed :: 2.1333333333333333tradeSpeed :: 2.15tradeSpeed :: 2.15tradeSpeed :: 2.1666666666666665tradeSpeed :: 2.1333333333333333tradeSpeed :: 2.1333333333333333tradeSpeed :: 2.15tradeSpeed :: 2.15tradeSpeed :: 2.1166666666666667tradeSpeed :: 2.1333333333333333tradeSpeed :: 2.1333333333333333tradeSpeed :: 2.066666666666667tradeSpeed :: 2.0833333333333335tradeSpeed :: 2.1tradeSpeed :: 2.1166666666666667tradeSpeed :: 2.1333333333333333tradeSpeed :: 2.15tradeSpeed :: 2.1666666666666665tradeSpeed :: 2.15tradeSpeed :: 2.1166666666666667tradeSpeed :: 2.1166666666666667tradeSpeed :: 2.1166666666666667tradeSpeed :: 2.1333333333333333tradeSpeed :: 2.1333333333333333tradeSpeed :: 2.15tradeSpeed :: 2.1666666666666665tradeSpeed :: 2.183333333333333tradeSpeed :: 2.183333333333333tradeSpeed :: 2.2tradeSpeed :: 2.216666666666667tradeSpeed :: 2.2333333333333334tradeSpeed :: 2.25tradeSpeed :: 2.2666666666666666tradeSpeed :: 2.283333333333333tradeSpeed :: 2.3tradeSpeed :: 2.3tradeSpeed :: 2.316666666666667tradeSpeed :: 2.316666666666667tradeSpeed :: 2.3333333333333335tradeSpeed :: 2.35tradeSpeed :: 2.3666666666666667tradeSpeed :: 2.183333333333333tradeSpeed :: 2.15tradeSpeed :: 2.15tradeSpeed :: 2.15tradeSpeed :: 2.1666666666666665tradeSpeed :: 2.183333333333333tradeSpeed :: 2.2tradeSpeed :: 2.1166666666666667tradeSpeed :: 2.0833333333333335tradeSpeed :: 2.066666666666667tradeSpeed :: 2.0833333333333335tradeSpeed :: 2.1tradeSpeed :: 2.1166666666666667tradeSpeed :: 1.9666666666666666tradeSpeed :: 1.8666666666666667tradeSpeed :: 1.6666666666666667tradeSpeed :: 1.6833333333333333tradeSpeed :: 1.7tradeSpeed :: 1.6833333333333333tradeSpeed :: 1.6833333333333333tradeSpeed :: 1.6833333333333333tradeSpeed :: 1.6333333333333333tradeSpeed :: 1.4166666666666667tradeSpeed :: 1.4333333333333333tradeSpeed :: 1.45tradeSpeed :: 1.4666666666666666tradeSpeed :: 1.4666666666666666tradeSpeed :: 1.4833333333333334tradeSpeed :: 1.4833333333333334tradeSpeed :: 1.5tradeSpeed :: 1.5166666666666666tradeSpeed :: 1.5333333333333334tradeSpeed :: 1.55tradeSpeed :: 1.5666666666666667tradeSpeed :: 1.5833333333333333tradeSpeed :: 1.6tradeSpeed :: 1.6166666666666667tradeSpeed :: 1.6166666666666667tradeSpeed :: 1.6166666666666667tradeSpeed :: 1.6tradeSpeed :: 1.6166666666666667tradeSpeed :: 1.6333333333333333tradeSpeed :: 1.65tradeSpeed :: 1.6666666666666667tradeSpeed :: 1.6833333333333333tradeSpeed :: 1.6833333333333333tradeSpeed :: 1.7tradeSpeed :: 1.7166666666666666tradeSpeed :: 1.7333333333333334tradeSpeed :: 1.75tradeSpeed :: 1.7333333333333334tradeSpeed :: 1.75tradeSpeed :: 1.75tradeSpeed :: 1.7166666666666666tradeSpeed :: 1.7333333333333334tradeSpeed :: 1.75tradeSpeed :: 1.7333333333333334tradeSpeed :: 1.75tradeSpeed :: 1.75tradeSpeed :: 1.7tradeSpeed :: 1.6833333333333333tradeSpeed :: 1.6833333333333333tradeSpeed :: 1.6833333333333333tradeSpeed :: 1.7tradeSpeed :: 1.7166666666666666tradeSpeed :: 1.7166666666666666tradeSpeed :: 1.6833333333333333tradeSpeed :: 1.6833333333333333tradeSpeed :: 1.7tradeSpeed :: 1.7166666666666666tradeSpeed :: 1.7333333333333334tradeSpeed :: 1.7166666666666666tradeSpeed :: 1.7333333333333334tradeSpeed :: 1.75tradeSpeed :: 1.75tradeSpeed :: 1.7666666666666666tradeSpeed :: 1.7833333333333334tradeSpeed :: 1.6833333333333333tradeSpeed :: 1.6833333333333333tradeSpeed :: 1.7tradeSpeed :: 1.7166666666666666tradeSpeed :: 1.7333333333333334tradeSpeed :: 1.7333333333333334tradeSpeed :: 1.7tradeSpeed :: 1.7166666666666666tradeSpeed :: 1.7333333333333334tradeSpeed :: 1.75tradeSpeed :: 1.7333333333333334tradeSpeed :: 1.75tradeSpeed :: 1.7333333333333334tradeSpeed :: 1.75tradeSpeed :: 1.75tradeSpeed :: 1.7166666666666666tradeSpeed :: 1.6666666666666667tradeSpeed :: 1.6666666666666667tradeSpeed :: 1.6666666666666667tradeSpeed :: 1.6833333333333333tradeSpeed :: 1.65tradeSpeed :: 1.6666666666666667tradeSpeed :: 1.6666666666666667tradeSpeed :: 1.6833333333333333tradeSpeed :: 1.7tradeSpeed :: 1.7tradeSpeed :: 1.6tradeSpeed :: 1.6166666666666667tradeSpeed :: 1.6333333333333333tradeSpeed :: 1.65tradeSpeed :: 1.65tradeSpeed :: 1.6tradeSpeed :: 1.6166666666666667tradeSpeed :: 1.6tradeSpeed :: 1.5333333333333334tradeSpeed :: 1.55tradeSpeed :: 1.55tradeSpeed :: 1.55tradeSpeed :: 1.5666666666666667tradeSpeed :: 1.5833333333333333tradeSpeed :: 1.6tradeSpeed :: 1.55tradeSpeed :: 1.5666666666666667tradeSpeed :: 1.5666666666666667tradeSpeed :: 1.4166666666666667tradeSpeed :: 1.3833333333333333tradeSpeed :: 1.4tradeSpeed :: 1.35tradeSpeed :: 1.3666666666666667tradeSpeed :: 1.3666666666666667tradeSpeed :: 1.3833333333333333tradeSpeed :: 1.35tradeSpeed :: 1.35tradeSpeed :: 1.3166666666666667tradeSpeed :: 1.3166666666666667tradeSpeed :: 1.3tradeSpeed :: 1.3tradeSpeed :: 1.3166666666666667tradeSpeed :: 1.3tradeSpeed :: 1.25tradeSpeed :: 1.2166666666666666tradeSpeed :: 1.1833333333333333tradeSpeed :: 1.2tradeSpeed :: 1.2166666666666666tradeSpeed :: 1.2333333333333334tradeSpeed :: 1.2333333333333334tradeSpeed :: 1.2333333333333334tradeSpeed :: 1.2333333333333334tradeSpeed :: 1.05tradeSpeed :: 0.95tradeSpeed :: 0.95tradeSpeed :: 0.9666666666666667tradeSpeed :: 0.9833333333333333tradeSpeed :: 0.9833333333333333tradeSpeed :: 1.0tradeSpeed :: 1.0166666666666666tradeSpeed :: 1.0tradeSpeed :: 1.0166666666666666tradeSpeed :: 1.0tradeSpeed :: 1.0166666666666666tradeSpeed :: 0.9666666666666667tradeSpeed :: 0.9666666666666667tradeSpeed :: 0.95tradeSpeed :: 0.9166666666666666tradeSpeed :: 0.9166666666666666tradeSpeed :: 0.9333333333333333tradeSpeed :: 0.95tradeSpeed :: 0.9666666666666667tradeSpeed :: 0.9833333333333333tradeSpeed :: 1.0tradeSpeed :: 1.0tradeSpeed :: 1.0166666666666666tradeSpeed :: 1.0333333333333334tradeSpeed :: 1.05tradeSpeed :: 1.05tradeSpeed :: 1.05tradeSpeed :: 1.05tradeSpeed :: 1.0666666666666667tradeSpeed :: 1.0166666666666666tradeSpeed :: 0.9833333333333333tradeSpeed :: 0.9tradeSpeed :: 0.9166666666666666tradeSpeed :: 0.8666666666666667tradeSpeed :: 0.8666666666666667tradeSpeed :: 0.8333333333333334tradeSpeed :: 0.8tradeSpeed :: 0.8tradeSpeed :: 0.8166666666666667tradeSpeed :: 0.6833333333333333tradeSpeed :: 0.7tradeSpeed :: 0.7tradeSpeed :: 0.7166666666666667tradeSpeed :: 0.6666666666666666tradeSpeed :: 0.6166666666666667tradeSpeed :: 0.6166666666666667tradeSpeed :: 0.6tradeSpeed :: 0.6166666666666667tradeSpeed :: 0.6333333333333333tradeSpeed :: 0.6166666666666667tradeSpeed :: 0.6166666666666667tradeSpeed :: 0.6333333333333333tradeSpeed :: 0.65tradeSpeed :: 0.65tradeSpeed :: 0.55tradeSpeed :: 0.5tradeSpeed :: 0.4666666666666667tradeSpeed :: 0.48333333333333334tradeSpeed :: 0.5tradeSpeed :: 0.5166666666666667tradeSpeed :: 0.5333333333333333tradeSpeed :: 0.55tradeSpeed :: 0.5666666666666667tradeSpeed :: 0.5833333333333334tradeSpeed :: 0.6tradeSpeed :: 0.6166666666666667tradeSpeed :: 0.6333333333333333tradeSpeed :: 0.65tradeSpeed :: 0.6666666666666666tradeSpeed :: 0.6833333333333333tradeSpeed :: 0.7tradeSpeed :: 0.7166666666666667tradeSpeed :: 0.7333333333333333tradeSpeed :: 0.75tradeSpeed :: 0.7666666666666667tradeSpeed :: 0.7833333333333333tradeSpeed :: 0.8tradeSpeed :: 0.8166666666666667tradeSpeed :: 0.8333333333333334tradeSpeed :: 0.8333333333333334tradeSpeed :: 0.85tradeSpeed :: 0.8666666666666667tradeSpeed :: 0.8833333333333333tradeSpeed :: 0.9tradeSpeed :: 0.9166666666666666tradeSpeed :: 0.9166666666666666tradeSpeed :: 0.9333333333333333tradeSpeed :: 0.95tradeSpeed :: 0.9666666666666667tradeSpeed :: 0.9833333333333333tradeSpeed :: 1.0tradeSpeed :: 1.0166666666666666tradeSpeed :: 1.0333333333333334tradeSpeed :: 1.05tradeSpeed :: 1.0666666666666667tradeSpeed :: 1.05tradeSpeed :: 1.0666666666666667tradeSpeed :: 1.0833333333333333tradeSpeed :: 1.0833333333333333tradeSpeed :: 1.0833333333333333tradeSpeed :: 1.0666666666666667tradeSpeed :: 1.0666666666666667tradeSpeed :: 1.0833333333333333tradeSpeed :: 1.0833333333333333tradeSpeed :: 1.1tradeSpeed :: 1.1166666666666667tradeSpeed :: 1.1333333333333333tradeSpeed :: 1.15tradeSpeed :: 1.1666666666666667tradeSpeed :: 1.1tradeSpeed :: 1.1tradeSpeed :: 1.1166666666666667tradeSpeed :: 1.1tradeSpeed :: 1.1166666666666667tradeSpeed :: 1.1166666666666667tradeSpeed :: 1.1tradeSpeed :: 1.1tradeSpeed :: 1.1166666666666667tradeSpeed :: 1.0666666666666667tradeSpeed :: 1.0833333333333333tradeSpeed :: 1.1tradeSpeed :: 1.1tradeSpeed :: 1.1166666666666667tradeSpeed :: 0.65tradeSpeed :: 0.5333333333333333tradeSpeed :: 0.5333333333333333tradeSpeed :: 0.55tradeSpeed :: 0.5333333333333333tradeSpeed :: 0.55tradeSpeed :: 0.5tradeSpeed :: 0.5166666666666667tradeSpeed :: 0.5333333333333333tradeSpeed :: 0.55tradeSpeed :: 0.5333333333333333tradeSpeed :: 0.48333333333333334tradeSpeed :: 0.4666666666666667tradeSpeed :: 0.48333333333333334tradeSpeed :: 0.5tradeSpeed :: 0.5tradeSpeed :: 0.5166666666666667tradeSpeed :: 0.5333333333333333tradeSpeed :: 0.55tradeSpeed :: 0.55tradeSpeed :: 0.5666666666666667tradeSpeed :: 0.5833333333333334tradeSpeed :: 0.6tradeSpeed :: 0.6166666666666667tradeSpeed :: 0.55tradeSpeed :: 0.5666666666666667tradeSpeed :: 0.55tradeSpeed :: 0.55tradeSpeed :: 0.55tradeSpeed :: 0.5333333333333333tradeSpeed :: 0.55tradeSpeed :: 0.55tradeSpeed :: 0.55tradeSpeed :: 0.5666666666666667tradeSpeed :: 0.5666666666666667tradeSpeed :: 0.5666666666666667tradeSpeed :: 0.55tradeSpeed :: 0.5333333333333333tradeSpeed :: 0.5333333333333333tradeSpeed :: 0.5tradeSpeed :: 0.5166666666666667tradeSpeed :: 0.5333333333333333tradeSpeed :: 0.55tradeSpeed :: 0.5666666666666667tradeSpeed :: 0.5666666666666667tradeSpeed :: 0.5833333333333334tradeSpeed :: 0.6tradeSpeed :: 0.6166666666666667tradeSpeed :: 0.6333333333333333tradeSpeed :: 0.65tradeSpeed :: 0.6666666666666666tradeSpeed :: 0.6833333333333333tradeSpeed :: 0.7tradeSpeed :: 0.7166666666666667tradeSpeed :: 0.7166666666666667tradeSpeed :: 0.7tradeSpeed :: 0.7tradeSpeed :: 0.5666666666666667tradeSpeed :: 0.5833333333333334tradeSpeed :: 0.5666666666666667tradeSpeed :: 0.55tradeSpeed :: 0.5333333333333333tradeSpeed :: 0.5166666666666667tradeSpeed :: 0.5333333333333333tradeSpeed :: 0.55tradeSpeed :: 0.55tradeSpeed :: 0.55tradeSpeed :: 0.55tradeSpeed :: 0.5666666666666667tradeSpeed :: 0.5833333333333334tradeSpeed :: 0.6tradeSpeed :: 0.6tradeSpeed :: 0.6166666666666667tradeSpeed :: 0.6166666666666667tradeSpeed :: 0.6333333333333333tradeSpeed :: 0.65tradeSpeed :: 0.6666666666666666tradeSpeed :: 0.6833333333333333tradeSpeed :: 0.6666666666666666tradeSpeed :: 0.6833333333333333tradeSpeed :: 0.7tradeSpeed :: 0.7166666666666667tradeSpeed :: 0.7333333333333333tradeSpeed :: 0.75tradeSpeed :: 0.5333333333333333tradeSpeed :: 0.5333333333333333tradeSpeed :: 0.55tradeSpeed :: 0.5166666666666667tradeSpeed :: 0.5333333333333333tradeSpeed :: 0.55tradeSpeed :: 0.5666666666666667tradeSpeed :: 0.5833333333333334tradeSpeed :: 0.6tradeSpeed :: 0.6166666666666667tradeSpeed :: 0.6333333333333333tradeSpeed :: 0.65tradeSpeed :: 0.6666666666666666tradeSpeed :: 0.6833333333333333tradeSpeed :: 0.7tradeSpeed :: 0.7166666666666667tradeSpeed :: 0.7333333333333333tradeSpeed :: 0.75tradeSpeed :: 0.7666666666666667tradeSpeed :: 0.7833333333333333tradeSpeed :: 0.8tradeSpeed :: 0.8166666666666667tradeSpeed :: 0.8333333333333334tradeSpeed :: 0.85tradeSpeed :: 0.8666666666666667tradeSpeed :: 0.8833333333333333tradeSpeed :: 0.9tradeSpeed :: 0.9166666666666666tradeSpeed :: 0.9333333333333333tradeSpeed :: 0.95tradeSpeed :: 0.9666666666666667tradeSpeed :: 0.9833333333333333tradeSpeed :: 0.9833333333333333tradeSpeed :: 1.0tradeSpeed :: 1.0166666666666666tradeSpeed :: 1.0333333333333334tradeSpeed :: 1.05tradeSpeed :: 1.0666666666666667tradeSpeed :: 1.0833333333333333tradeSpeed :: 1.1tradeSpeed :: 1.1166666666666667tradeSpeed :: 1.1333333333333333tradeSpeed :: 1.1333333333333333tradeSpeed :: 1.15tradeSpeed :: 1.1666666666666667tradeSpeed :: 1.1833333333333333tradeSpeed :: 1.2tradeSpeed :: 1.2tradeSpeed :: 1.2166666666666666tradeSpeed :: 1.2333333333333334tradeSpeed :: 1.25tradeSpeed :: 1.2666666666666666tradeSpeed :: 1.2833333333333334tradeSpeed :: 1.3tradeSpeed :: 1.3166666666666667tradeSpeed :: 1.3166666666666667tradeSpeed :: 1.3333333333333333tradeSpeed :: 1.35tradeSpeed :: 1.3666666666666667tradeSpeed :: 1.3833333333333333tradeSpeed :: 1.4tradeSpeed :: 1.4166666666666667tradeSpeed :: 1.4333333333333333tradeSpeed :: 1.4333333333333333tradeSpeed :: 1.45tradeSpeed :: 1.4666666666666666tradeSpeed :: 1.4833333333333334tradeSpeed :: 1.5tradeSpeed :: 1.5166666666666666tradeSpeed :: 1.5tradeSpeed :: 1.5166666666666666tradeSpeed :: 1.5tradeSpeed :: 1.5166666666666666tradeSpeed :: 1.5166666666666666tradeSpeed :: 1.5333333333333334tradeSpeed :: 1.4833333333333334tradeSpeed :: 1.4833333333333334tradeSpeed :: 1.4tradeSpeed :: 1.35tradeSpeed :: 1.3333333333333333tradeSpeed :: 1.35tradeSpeed :: 1.3666666666666667tradeSpeed :: 1.3833333333333333tradeSpeed :: 1.4tradeSpeed :: 1.3833333333333333tradeSpeed :: 1.4tradeSpeed :: 1.4tradeSpeed :: 1.4166666666666667tradeSpeed :: 1.3666666666666667tradeSpeed :: 1.3833333333333333tradeSpeed :: 1.1166666666666667tradeSpeed :: 0.8333333333333334tradeSpeed :: 0.85tradeSpeed :: 0.8666666666666667tradeSpeed :: 0.8833333333333333tradeSpeed :: 0.65tradeSpeed :: 0.6666666666666666tradeSpeed :: 0.5833333333333334tradeSpeed :: 0.6tradeSpeed :: 0.45tradeSpeed :: 0.4tradeSpeed :: 0.4tradeSpeed :: 0.4tradeSpeed :: 0.4tradeSpeed :: 0.36666666666666664tradeSpeed :: 0.38333333333333336tradeSpeed :: 0.35tradeSpeed :: 0.35tradeSpeed :: 0.36666666666666664tradeSpeed :: 0.38333333333333336tradeSpeed :: 0.4tradeSpeed :: 0.4166666666666667tradeSpeed :: 0.43333333333333335tradeSpeed :: 0.4tradeSpeed :: 0.4166666666666667tradeSpeed :: 0.4166666666666667tradeSpeed :: 0.36666666666666664tradeSpeed :: 0.38333333333333336tradeSpeed :: 0.4tradeSpeed :: 0.4166666666666667tradeSpeed :: 0.43333333333333335tradeSpeed :: 0.45tradeSpeed :: 0.4666666666666667tradeSpeed :: 0.45tradeSpeed :: 0.4666666666666667tradeSpeed :: 0.48333333333333334tradeSpeed :: 0.5tradeSpeed :: 0.4666666666666667tradeSpeed :: 0.48333333333333334tradeSpeed :: 0.4666666666666667tradeSpeed :: 0.48333333333333334tradeSpeed :: 0.5tradeSpeed :: 0.5166666666666667tradeSpeed :: 0.5333333333333333tradeSpeed :: 0.5166666666666667tradeSpeed :: 0.5333333333333333tradeSpeed :: 0.55tradeSpeed :: 0.5666666666666667tradeSpeed :: 0.5833333333333334tradeSpeed :: 0.6tradeSpeed :: 0.5833333333333334tradeSpeed :: 0.5666666666666667tradeSpeed :: 0.5833333333333334tradeSpeed :: 0.6tradeSpeed :: 0.6166666666666667tradeSpeed :: 0.5333333333333333tradeSpeed :: 0.5333333333333333tradeSpeed :: 0.5166666666666667tradeSpeed :: 0.48333333333333334tradeSpeed :: 0.5tradeSpeed :: 0.48333333333333334tradeSpeed :: 0.5tradeSpeed :: 0.43333333333333335tradeSpeed :: 0.45tradeSpeed :: 0.4666666666666667tradeSpeed :: 0.48333333333333334tradeSpeed :: 0.48333333333333334tradeSpeed :: 0.45tradeSpeed :: 0.43333333333333335tradeSpeed :: 0.43333333333333335tradeSpeed :: 0.35tradeSpeed :: 0.35tradeSpeed :: 0.36666666666666664tradeSpeed :: 0.38333333333333336tradeSpeed :: 0.4tradeSpeed :: 0.4166666666666667tradeSpeed :: 0.36666666666666664tradeSpeed :: 0.38333333333333336tradeSpeed :: 0.4tradeSpeed :: 0.4166666666666667tradeSpeed :: 0.4166666666666667tradeSpeed :: 0.4166666666666667tradeSpeed :: 0.43333333333333335tradeSpeed :: 0.45tradeSpeed :: 0.4666666666666667tradeSpeed :: 0.48333333333333334tradeSpeed :: 0.5tradeSpeed :: 0.5tradeSpeed :: 0.5166666666666667tradeSpeed :: 0.5333333333333333tradeSpeed :: 0.55tradeSpeed :: 0.55tradeSpeed :: 0.5666666666666667tradeSpeed :: 0.5833333333333334tradeSpeed :: 0.6tradeSpeed :: 0.6166666666666667tradeSpeed :: 0.6333333333333333tradeSpeed :: 0.65tradeSpeed :: 0.65tradeSpeed :: 0.6666666666666666tradeSpeed :: 0.65tradeSpeed :: 0.6666666666666666tradeSpeed :: 0.6833333333333333tradeSpeed :: 0.7tradeSpeed :: 0.7166666666666667tradeSpeed :: 0.7333333333333333tradeSpeed :: 0.75tradeSpeed :: 0.7666666666666667tradeSpeed :: 0.7666666666666667tradeSpeed :: 0.7833333333333333tradeSpeed :: 0.8tradeSpeed :: 0.8166666666666667tradeSpeed :: 0.8166666666666667tradeSpeed :: 0.8333333333333334tradeSpeed :: 0.85tradeSpeed :: 0.8666666666666667tradeSpeed :: 0.8833333333333333tradeSpeed :: 0.9tradeSpeed :: 0.9166666666666666tradeSpeed :: 0.9333333333333333tradeSpeed :: 0.95tradeSpeed :: 0.9666666666666667tradeSpeed :: 0.9833333333333333tradeSpeed :: 1.0tradeSpeed :: 1.0166666666666666tradeSpeed :: 1.0333333333333334tradeSpeed :: 1.05tradeSpeed :: 1.0666666666666667tradeSpeed :: 1.0833333333333333tradeSpeed :: 1.0833333333333333tradeSpeed :: 1.1tradeSpeed :: 1.1tradeSpeed :: 1.1166666666666667tradeSpeed :: 1.1333333333333333tradeSpeed :: 1.15tradeSpeed :: 1.15tradeSpeed :: 1.1666666666666667tradeSpeed :: 1.1833333333333333tradeSpeed :: 1.1666666666666667tradeSpeed :: 1.1833333333333333tradeSpeed :: 1.1833333333333333tradeSpeed :: 1.2tradeSpeed :: 1.2166666666666666tradeSpeed :: 1.2333333333333334tradeSpeed :: 1.25tradeSpeed :: 1.2666666666666666tradeSpeed :: 1.15tradeSpeed :: 1.1333333333333333tradeSpeed :: 1.1333333333333333tradeSpeed :: 1.15tradeSpeed :: 1.1666666666666667tradeSpeed :: 1.1833333333333333tradeSpeed :: 1.2tradeSpeed :: 1.2166666666666666tradeSpeed :: 1.2333333333333334tradeSpeed :: 1.15tradeSpeed :: 0.9166666666666666tradeSpeed :: 0.85tradeSpeed :: 0.8333333333333334tradeSpeed :: 0.85tradeSpeed :: 0.8166666666666667tradeSpeed :: 0.6166666666666667tradeSpeed :: 0.6333333333333333tradeSpeed :: 0.65tradeSpeed :: 0.5833333333333334tradeSpeed :: 0.5666666666666667tradeSpeed :: 0.5833333333333334tradeSpeed :: 0.6tradeSpeed :: 0.6166666666666667tradeSpeed :: 0.6333333333333333tradeSpeed :: 0.65tradeSpeed :: 0.6166666666666667tradeSpeed :: 0.6333333333333333tradeSpeed :: 0.65tradeSpeed :: 0.6666666666666666tradeSpeed :: 0.6833333333333333tradeSpeed :: 0.7tradeSpeed :: 0.7166666666666667tradeSpeed :: 0.6833333333333333tradeSpeed :: 0.7tradeSpeed :: 0.7166666666666667tradeSpeed :: 0.7333333333333333tradeSpeed :: 0.75tradeSpeed :: 0.7tradeSpeed :: 0.65tradeSpeed :: 0.6666666666666666tradeSpeed :: 0.6833333333333333tradeSpeed :: 0.6666666666666666tradeSpeed :: 0.5666666666666667tradeSpeed :: 0.5833333333333334tradeSpeed :: 0.5833333333333334tradeSpeed :: 0.6tradeSpeed :: 0.6166666666666667tradeSpeed :: 0.6333333333333333tradeSpeed :: 0.65tradeSpeed :: 0.65tradeSpeed :: 0.6666666666666666tradeSpeed :: 0.6833333333333333tradeSpeed :: 0.7tradeSpeed :: 0.7166666666666667tradeSpeed :: 0.7333333333333333tradeSpeed :: 0.75tradeSpeed :: 0.7666666666666667tradeSpeed :: 0.7833333333333333tradeSpeed :: 0.75tradeSpeed :: 0.75tradeSpeed :: 0.7666666666666667tradeSpeed :: 0.7833333333333333tradeSpeed :: 0.8tradeSpeed :: 0.8166666666666667tradeSpeed :: 0.7833333333333333tradeSpeed :: 0.7833333333333333tradeSpeed :: 0.55tradeSpeed :: 0.55tradeSpeed :: 0.5333333333333333tradeSpeed :: 0.55tradeSpeed :: 0.5666666666666667tradeSpeed :: 0.5666666666666667tradeSpeed :: 0.5833333333333334tradeSpeed :: 0.6tradeSpeed :: 0.6166666666666667tradeSpeed :: 0.6333333333333333tradeSpeed :: 0.65tradeSpeed :: 0.6666666666666666tradeSpeed :: 0.6833333333333333tradeSpeed :: 0.7tradeSpeed :: 0.7166666666666667tradeSpeed :: 0.7333333333333333tradeSpeed :: 0.7166666666666667tradeSpeed :: 0.7166666666666667tradeSpeed :: 0.7333333333333333tradeSpeed :: 0.75tradeSpeed :: 0.7666666666666667tradeSpeed :: 0.7666666666666667tradeSpeed :: 0.7833333333333333tradeSpeed :: 0.7666666666666667tradeSpeed :: 0.7666666666666667tradeSpeed :: 0.7833333333333333tradeSpeed :: 0.7833333333333333tradeSpeed :: 0.7833333333333333tradeSpeed :: 0.7666666666666667tradeSpeed :: 0.7833333333333333tradeSpeed :: 0.7333333333333333tradeSpeed :: 0.7166666666666667tradeSpeed :: 0.6833333333333333tradeSpeed :: 0.6166666666666667tradeSpeed :: 0.5833333333333334tradeSpeed :: 0.6tradeSpeed :: 0.6tradeSpeed :: 0.5833333333333334tradeSpeed :: 0.5333333333333333tradeSpeed :: 0.38333333333333336tradeSpeed :: 0.4tradeSpeed :: 0.4166666666666667tradeSpeed :: 0.4tradeSpeed :: 0.4tradeSpeed :: 0.4166666666666667tradeSpeed :: 0.4166666666666667tradeSpeed :: 0.4tradeSpeed :: 0.4166666666666667tradeSpeed :: 0.38333333333333336tradeSpeed :: 0.36666666666666664tradeSpeed :: 0.38333333333333336tradeSpeed :: 0.36666666666666664tradeSpeed :: 0.38333333333333336tradeSpeed :: 0.4tradeSpeed :: 0.4tradeSpeed :: 0.38333333333333336tradeSpeed :: 0.4tradeSpeed :: 0.4166666666666667tradeSpeed :: 0.43333333333333335tradeSpeed :: 0.43333333333333335tradeSpeed :: 0.45tradeSpeed :: 0.4666666666666667tradeSpeed :: 0.48333333333333334tradeSpeed :: 0.5tradeSpeed :: 0.5166666666666667tradeSpeed :: 0.5333333333333333tradeSpeed :: 0.55tradeSpeed :: 0.5666666666666667tradeSpeed :: 0.5833333333333334tradeSpeed :: 0.6tradeSpeed :: 0.6166666666666667tradeSpeed :: 0.6333333333333333tradeSpeed :: 0.65tradeSpeed :: 0.6666666666666666tradeSpeed :: 0.6833333333333333tradeSpeed :: 0.65tradeSpeed :: 0.6666666666666666tradeSpeed :: 0.6833333333333333tradeSpeed :: 0.6833333333333333tradeSpeed :: 0.7tradeSpeed :: 0.7tradeSpeed :: 0.6tradeSpeed :: 0.6166666666666667tradeSpeed :: 0.6tradeSpeed :: 0.6166666666666667tradeSpeed :: 0.6166666666666667tradeSpeed :: 0.5666666666666667tradeSpeed :: 0.5833333333333334tradeSpeed :: 0.5666666666666667tradeSpeed :: 0.5666666666666667tradeSpeed :: 0.55tradeSpeed :: 0.5666666666666667tradeSpeed :: 0.5833333333333334tradeSpeed :: 0.6tradeSpeed :: 0.5833333333333334tradeSpeed :: 0.5833333333333334tradeSpeed :: 0.43333333333333335tradeSpeed :: 0.38333333333333336tradeSpeed :: 0.4tradeSpeed :: 0.4166666666666667tradeSpeed :: 0.38333333333333336tradeSpeed :: 0.4tradeSpeed :: 0.4166666666666667tradeSpeed :: 0.43333333333333335tradeSpeed :: 0.45tradeSpeed :: 0.4666666666666667tradeSpeed :: 0.4666666666666667tradeSpeed :: 0.45tradeSpeed :: 0.4666666666666667tradeSpeed :: 0.48333333333333334tradeSpeed :: 0.48333333333333334tradeSpeed :: 0.5tradeSpeed :: 0.5166666666666667tradeSpeed :: 0.5333333333333333tradeSpeed :: 0.55tradeSpeed :: 0.5666666666666667tradeSpeed :: 0.5833333333333334tradeSpeed :: 0.6tradeSpeed :: 0.6166666666666667tradeSpeed :: 0.6333333333333333tradeSpeed :: 0.6333333333333333"
     ]
    }
   ],
   "source": [
    "import AT_240529 as AT_\n",
    "import pandas as pd\n",
    "import mplfinance as mpf\n",
    "import pytz\n",
    "from collections import deque\n",
    "import sys\n",
    "\n",
    "deque_ = deque()\n",
    "\n",
    "ticker = 'KRW-XRP'\n",
    "load_ = AT_.DataLoader(ticker=ticker).load()\n",
    "load_ = sorted(load_, key=lambda x: x['trade_timestamp'], reverse=False)\n",
    "deque_.extend(load_)\n",
    "\n",
    "list_ = []\n",
    "\n",
    "for _ in range(len(deque_)):\n",
    "    data = deque_.popleft()\n",
    "    list_.append(data)\n",
    "    dataRange = dataSlice(list_)\n",
    "    tradeSpeed = str(len(dataRange) / 60)\n",
    "    sys.stdout.write(r'tradeSpeed :: {}'.format(tradeSpeed))\n",
    "    sys.stdout.flush()"
   ]
  },
  {
   "cell_type": "code",
   "execution_count": 91,
   "id": "27d61d8d-c644-4197-a270-324aafd4c524",
   "metadata": {},
   "outputs": [
    {
     "name": "stdout",
     "output_type": "stream",
     "text": [
      "TEST end\n"
     ]
    }
   ],
   "source": [
    "a = 'TEST'\n",
    "print('{} end'.format(a))"
   ]
  },
  {
   "cell_type": "code",
   "execution_count": null,
   "id": "f6910f60-e003-4dce-9827-c7a749c05c65",
   "metadata": {},
   "outputs": [],
   "source": []
  },
  {
   "cell_type": "code",
   "execution_count": 7,
   "id": "8bf58678-f455-4f06-a146-ee1715e835ee",
   "metadata": {},
   "outputs": [
    {
     "name": "stdout",
     "output_type": "stream",
     "text": [
      "2024-05-30 20:56:33\n"
     ]
    },
    {
     "ename": "RuntimeError",
     "evalue": "asyncio.run() cannot be called from a running event loop",
     "output_type": "error",
     "traceback": [
      "\u001b[0;31m---------------------------------------------------------------------------\u001b[0m",
      "\u001b[0;31mRuntimeError\u001b[0m                              Traceback (most recent call last)",
      "Cell \u001b[0;32mIn[7], line 38\u001b[0m\n\u001b[1;32m     36\u001b[0m     time_ \u001b[38;5;241m=\u001b[39m datetime\u001b[38;5;241m.\u001b[39mdatetime\u001b[38;5;241m.\u001b[39mnow()\n\u001b[1;32m     37\u001b[0m     \u001b[38;5;28mprint\u001b[39m(time_\u001b[38;5;241m.\u001b[39mstrftime(\u001b[38;5;124m'\u001b[39m\u001b[38;5;124m%\u001b[39m\u001b[38;5;124mY-\u001b[39m\u001b[38;5;124m%\u001b[39m\u001b[38;5;124mm-\u001b[39m\u001b[38;5;132;01m%d\u001b[39;00m\u001b[38;5;124m \u001b[39m\u001b[38;5;124m%\u001b[39m\u001b[38;5;124mH:\u001b[39m\u001b[38;5;124m%\u001b[39m\u001b[38;5;124mM:\u001b[39m\u001b[38;5;124m%\u001b[39m\u001b[38;5;124mS\u001b[39m\u001b[38;5;124m'\u001b[39m))\n\u001b[0;32m---> 38\u001b[0m     \u001b[43masyncio\u001b[49m\u001b[38;5;241;43m.\u001b[39;49m\u001b[43mrun\u001b[49m\u001b[43m(\u001b[49m\u001b[43mmain\u001b[49m\u001b[43m(\u001b[49m\u001b[43m)\u001b[49m\u001b[43m)\u001b[49m\n\u001b[1;32m     45\u001b[0m \u001b[38;5;66;03m# print(type(WM_T))\u001b[39;00m\n\u001b[1;32m     46\u001b[0m     \u001b[38;5;66;03m# print(i)\u001b[39;00m\n\u001b[1;32m     47\u001b[0m \n\u001b[0;32m   (...)\u001b[0m\n\u001b[1;32m     68\u001b[0m \u001b[38;5;66;03m#         print(f'websocket restart! {time_}')\u001b[39;00m\n\u001b[1;32m     69\u001b[0m \u001b[38;5;66;03m#         await asyncio.sleep(0)\u001b[39;00m\n",
      "File \u001b[0;32m/usr/local/Caskroom/miniconda/base/lib/python3.12/asyncio/runners.py:190\u001b[0m, in \u001b[0;36mrun\u001b[0;34m(main, debug, loop_factory)\u001b[0m\n\u001b[1;32m    161\u001b[0m \u001b[38;5;250m\u001b[39m\u001b[38;5;124;03m\"\"\"Execute the coroutine and return the result.\u001b[39;00m\n\u001b[1;32m    162\u001b[0m \n\u001b[1;32m    163\u001b[0m \u001b[38;5;124;03mThis function runs the passed coroutine, taking care of\u001b[39;00m\n\u001b[0;32m   (...)\u001b[0m\n\u001b[1;32m    186\u001b[0m \u001b[38;5;124;03m    asyncio.run(main())\u001b[39;00m\n\u001b[1;32m    187\u001b[0m \u001b[38;5;124;03m\"\"\"\u001b[39;00m\n\u001b[1;32m    188\u001b[0m \u001b[38;5;28;01mif\u001b[39;00m events\u001b[38;5;241m.\u001b[39m_get_running_loop() \u001b[38;5;129;01mis\u001b[39;00m \u001b[38;5;129;01mnot\u001b[39;00m \u001b[38;5;28;01mNone\u001b[39;00m:\n\u001b[1;32m    189\u001b[0m     \u001b[38;5;66;03m# fail fast with short traceback\u001b[39;00m\n\u001b[0;32m--> 190\u001b[0m     \u001b[38;5;28;01mraise\u001b[39;00m \u001b[38;5;167;01mRuntimeError\u001b[39;00m(\n\u001b[1;32m    191\u001b[0m         \u001b[38;5;124m\"\u001b[39m\u001b[38;5;124masyncio.run() cannot be called from a running event loop\u001b[39m\u001b[38;5;124m\"\u001b[39m)\n\u001b[1;32m    193\u001b[0m \u001b[38;5;28;01mwith\u001b[39;00m Runner(debug\u001b[38;5;241m=\u001b[39mdebug, loop_factory\u001b[38;5;241m=\u001b[39mloop_factory) \u001b[38;5;28;01mas\u001b[39;00m runner:\n\u001b[1;32m    194\u001b[0m     \u001b[38;5;28;01mreturn\u001b[39;00m runner\u001b[38;5;241m.\u001b[39mrun(main)\n",
      "\u001b[0;31mRuntimeError\u001b[0m: asyncio.run() cannot be called from a running event loop"
     ]
    }
   ],
   "source": [
    "import pandas as pd\n",
    "import json\n",
    "import os\n",
    "import pyupbit as pu\n",
    "import datetime\n",
    "import asyncio\n",
    "import sys\n",
    "import pytz\n",
    "from collections import deque, defaultdict\n",
    "from typing import Deque\n",
    "\n",
    "\n",
    "async def websocket(deque):\n",
    "    tickers_all = pu.get_tickers('KRW')\n",
    "    WM_T = pu.WebSocketManager(type='trade', codes=tickers_all)\n",
    "    while True:\n",
    "        data = WM_T.get()\n",
    "        deque.append(data)\n",
    "        await asyncio.sleep(0)\n",
    "\n",
    "async def play(deque):\n",
    "    print(deque[-1])\n",
    "\n",
    "\n",
    "async def main():\n",
    "    deque_ = deque()\n",
    "\n",
    "    websocket_task = asyncio.create_task(websocket(deque=deque_))\n",
    "    plasy_task = asyncio.create_task(play(deque = deque_))\n",
    "\n",
    "    await asyncio.gather(websocket_task,\n",
    "                    handler_task)\n",
    "\n",
    "\n",
    "if __name__ == \"__main__\":\n",
    "    time_ = datetime.datetime.now()\n",
    "    print(time_.strftime('%Y-%m-%d %H:%M:%S'))\n",
    "    asyncio.run(main())\n",
    "\n",
    "\n",
    "\n",
    "\n",
    "\n",
    "    \n",
    "# print(type(WM_T))\n",
    "    # print(i)\n",
    "\n",
    "\n",
    "\n",
    "# async def websocket(queue, restartRange :int=12):#updater, queue, hour :int=2, dataType :str='trade'):\n",
    "#     while True:\n",
    "#         TimeNow = datetime.datetime.now()\n",
    "#         WhileEXIT = (TimeNow + datetime.timedelta(hours=restartRange)).timestamp() * 1_000\n",
    "#         stop_timestamp = 0\n",
    "#         tickers_all = pu.get_tickers(fiat='KRW')\n",
    "\n",
    "#         while stop_timestamp <= WhileEXIT:\n",
    "#             try:\n",
    "#                 data_t = WM_T.get()\n",
    "#                 await queue.put(data_t)\n",
    "#                 stop_timestamp = float(data_t['trade_timestamp'])\n",
    "#                 await asyncio.sleep(0)\n",
    "#             except:\n",
    "#                 print(f'(Error - {data_t})')\n",
    "#                 pass\n",
    "#         WM_T.terminate()\n",
    "#         time_ = datetime.datetime.now()\n",
    "#         print(f'websocket restart! {time_}')\n",
    "#         await asyncio.sleep(0)"
   ]
  },
  {
   "cell_type": "code",
   "execution_count": 4,
   "id": "d95b1f62-35fa-4bee-b56f-660e703fb458",
   "metadata": {},
   "outputs": [
    {
     "name": "stdout",
     "output_type": "stream",
     "text": [
      "True\n"
     ]
    }
   ],
   "source": [
    "a = {'b':{}}\n",
    "\n",
    "if a:\n",
    "    print(True)"
   ]
  },
  {
   "cell_type": "code",
   "execution_count": 5,
   "id": "022b91db-0d46-48cf-80ef-8a38daf6c2db",
   "metadata": {},
   "outputs": [
    {
     "data": {
      "text/plain": [
       "False"
      ]
     },
     "execution_count": 5,
     "metadata": {},
     "output_type": "execute_result"
    }
   ],
   "source": [
    "a = {}\n",
    "a.get('A', False)"
   ]
  },
  {
   "cell_type": "code",
   "execution_count": 6,
   "id": "bbfb3101-a259-4657-8bae-dfabc0e762b7",
   "metadata": {},
   "outputs": [
    {
     "data": {
      "text/plain": [
       "{}"
      ]
     },
     "execution_count": 6,
     "metadata": {},
     "output_type": "execute_result"
    }
   ],
   "source": [
    "a"
   ]
  },
  {
   "cell_type": "code",
   "execution_count": 8,
   "id": "505a69a3-8ab1-478a-ade5-9455285f64b7",
   "metadata": {},
   "outputs": [],
   "source": [
    "a['KRW-BTC'] = 123"
   ]
  },
  {
   "cell_type": "code",
   "execution_count": 10,
   "id": "6f654691-85ec-4688-a8e2-7fef522bcbd8",
   "metadata": {},
   "outputs": [],
   "source": [
    "a['KRW-BTC'] = False"
   ]
  },
  {
   "cell_type": "code",
   "execution_count": 11,
   "id": "c4d00e80-4946-42ba-ae5c-e41cd2971895",
   "metadata": {},
   "outputs": [
    {
     "data": {
      "text/plain": [
       "False"
      ]
     },
     "execution_count": 11,
     "metadata": {},
     "output_type": "execute_result"
    }
   ],
   "source": [
    "a['KRW-BTC']"
   ]
  },
  {
   "cell_type": "code",
   "execution_count": 13,
   "id": "fd34137a-5e1e-45e9-abd8-3804be5b67e7",
   "metadata": {},
   "outputs": [
    {
     "data": {
      "text/plain": [
       "True"
      ]
     },
     "execution_count": 13,
     "metadata": {},
     "output_type": "execute_result"
    }
   ],
   "source": [
    "a = False\n",
    "not a"
   ]
  },
  {
   "cell_type": "code",
   "execution_count": 14,
   "id": "698e741e-4015-40cf-bc0c-7edbdab8a6bb",
   "metadata": {},
   "outputs": [],
   "source": [
    "a = {}"
   ]
  },
  {
   "cell_type": "code",
   "execution_count": 18,
   "id": "1f5ce8a0-9440-4f4e-9a3f-6ff3a7b1926d",
   "metadata": {},
   "outputs": [
    {
     "name": "stdout",
     "output_type": "stream",
     "text": [
      "True\n"
     ]
    }
   ],
   "source": [
    "# a['KRW-BTC']={}\n",
    "a['KRW-BTC'] = False\n",
    "if not a['KRW-BTC']:\n",
    "    print(True)"
   ]
  },
  {
   "cell_type": "code",
   "execution_count": null,
   "id": "a4cbd013-e414-4fd8-a2ab-7bd5916f2bd7",
   "metadata": {},
   "outputs": [],
   "source": []
  }
 ],
 "metadata": {
  "kernelspec": {
   "display_name": "Python 3 (ipykernel)",
   "language": "python",
   "name": "python3"
  },
  "language_info": {
   "codemirror_mode": {
    "name": "ipython",
    "version": 3
   },
   "file_extension": ".py",
   "mimetype": "text/x-python",
   "name": "python",
   "nbconvert_exporter": "python",
   "pygments_lexer": "ipython3",
   "version": "3.12.2"
  }
 },
 "nbformat": 4,
 "nbformat_minor": 5
}
