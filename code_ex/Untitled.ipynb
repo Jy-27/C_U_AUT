{
 "cells": [
  {
   "cell_type": "code",
   "execution_count": 2,
   "id": "1f8db9cc-6568-4975-952e-ed9b334f0bd0",
   "metadata": {},
   "outputs": [
    {
     "name": "stdout",
     "output_type": "stream",
     "text": [
      "01 - 2024-05-29 08:30:03\n",
      "02 - 2024-05-29 08:30:04\n",
      "03 - 2024-05-29 08:30:05\n",
      "04 - 2024-05-29 08:30:06\n",
      "05 - 2024-05-29 08:30:07\n",
      "06 - 2024-05-29 08:30:08\n",
      "07 - 2024-05-29 08:30:09\n",
      "08 - 2024-05-29 08:30:10\n",
      "09 - 2024-05-29 08:30:11\n",
      "10 - 2024-05-29 08:30:12\n",
      "11 - 2024-05-29 08:30:13\n",
      "12 - 2024-05-29 08:30:14\n",
      "13 - 2024-05-29 08:30:15\n",
      "14 - 2024-05-29 08:30:16\n",
      "15 - 2024-05-29 08:30:17\n",
      "16 - 2024-05-29 08:30:18\n",
      "17 - 2024-05-29 08:30:19\n",
      "18 - 2024-05-29 08:30:20\n",
      "19 - 2024-05-29 08:30:21\n",
      "20 - 2024-05-29 08:30:22\n",
      "21 - 2024-05-29 08:30:23\n",
      "22 - 2024-05-29 08:30:24\n",
      "23 - 2024-05-29 08:30:25\n",
      "24 - 2024-05-29 08:30:26\n",
      "25 - 2024-05-29 08:30:27\n",
      "26 - 2024-05-29 08:30:28\n",
      "27 - 2024-05-29 08:30:29\n",
      "28 - 2024-05-29 08:30:30\n",
      "29 - 2024-05-29 08:30:31\n",
      "30 - 2024-05-29 08:30:32\n",
      "31 - 2024-05-29 08:30:33\n",
      "32 - 2024-05-29 08:30:34\n",
      "33 - 2024-05-29 08:30:35\n",
      "34 - 2024-05-29 08:30:36\n",
      "35 - 2024-05-29 08:30:37\n",
      "36 - 2024-05-29 08:30:38\n",
      "37 - 2024-05-29 08:30:39\n",
      "38 - 2024-05-29 08:30:40\n",
      "39 - 2024-05-29 08:30:41\n",
      "40 - 2024-05-29 08:30:42\n",
      "41 - 2024-05-29 08:30:43\n",
      "42 - 2024-05-29 08:30:44\n",
      "43 - 2024-05-29 08:30:45\n",
      "44 - 2024-05-29 08:30:46\n",
      "45 - 2024-05-29 08:30:47\n",
      "46 - 2024-05-29 08:30:48\n",
      "47 - 2024-05-29 08:30:49\n",
      "48 - 2024-05-29 08:30:50\n"
     ]
    },
    {
     "ename": "KeyboardInterrupt",
     "evalue": "",
     "output_type": "error",
     "traceback": [
      "\u001b[0;31m---------------------------------------------------------------------------\u001b[0m",
      "\u001b[0;31mKeyboardInterrupt\u001b[0m                         Traceback (most recent call last)",
      "Cell \u001b[0;32mIn[2], line 14\u001b[0m\n\u001b[1;32m     12\u001b[0m timeStr \u001b[38;5;241m=\u001b[39m timeNow\u001b[38;5;241m.\u001b[39mstrftime(\u001b[38;5;124m'\u001b[39m\u001b[38;5;124m%\u001b[39m\u001b[38;5;124mY-\u001b[39m\u001b[38;5;124m%\u001b[39m\u001b[38;5;124mm-\u001b[39m\u001b[38;5;132;01m%d\u001b[39;00m\u001b[38;5;124m \u001b[39m\u001b[38;5;124m%\u001b[39m\u001b[38;5;124mH:\u001b[39m\u001b[38;5;124m%\u001b[39m\u001b[38;5;124mM:\u001b[39m\u001b[38;5;124m%\u001b[39m\u001b[38;5;124mS\u001b[39m\u001b[38;5;124m'\u001b[39m)\n\u001b[1;32m     13\u001b[0m \u001b[38;5;28mprint\u001b[39m(\u001b[38;5;124mf\u001b[39m\u001b[38;5;124m'\u001b[39m\u001b[38;5;132;01m{\u001b[39;00mn\u001b[38;5;132;01m:\u001b[39;00m\u001b[38;5;124m02d\u001b[39m\u001b[38;5;132;01m}\u001b[39;00m\u001b[38;5;124m - \u001b[39m\u001b[38;5;132;01m{\u001b[39;00mtimeStr\u001b[38;5;132;01m}\u001b[39;00m\u001b[38;5;124m'\u001b[39m)\n\u001b[0;32m---> 14\u001b[0m \u001b[43mtime\u001b[49m\u001b[38;5;241;43m.\u001b[39;49m\u001b[43msleep\u001b[49m\u001b[43m(\u001b[49m\u001b[38;5;241;43m1\u001b[39;49m\u001b[43m)\u001b[49m\n",
      "\u001b[0;31mKeyboardInterrupt\u001b[0m: "
     ]
    }
   ],
   "source": [
    "import datetime\n",
    "import time\n",
    "\n",
    "timeNow = datetime.datetime.now()\n",
    "timeDelta = datetime.timedelta(minutes=1)\n",
    "whileExit = timeNow + timeDelta\n",
    "\n",
    "n = 0\n",
    "while timeNow <= whileExit:\n",
    "    n += 1\n",
    "    timeNow = datetime.datetime.now()\n",
    "    timeStr = timeNow.strftime('%Y-%m-%d %H:%M:%S')\n",
    "    print(f'{n:02d} - {timeStr}')\n",
    "    time.sleep(1)\n",
    "\n",
    "print('END!')"
   ]
  },
  {
   "cell_type": "code",
   "execution_count": 3,
   "id": "c6ffff67-941e-4247-9ceb-6236962d8544",
   "metadata": {},
   "outputs": [
    {
     "name": "stdout",
     "output_type": "stream",
     "text": [
      "\u001b[H\u001b[2J"
     ]
    }
   ],
   "source": [
    "clear"
   ]
  },
  {
   "cell_type": "code",
   "execution_count": null,
   "id": "2b299d22-aaf2-486c-b923-63d6036255eb",
   "metadata": {},
   "outputs": [],
   "source": []
  }
 ],
 "metadata": {
  "kernelspec": {
   "display_name": "ame",
   "language": "python",
   "name": "ame"
  },
  "language_info": {
   "codemirror_mode": {
    "name": "ipython",
    "version": 3
   },
   "file_extension": ".py",
   "mimetype": "text/x-python",
   "name": "python",
   "nbconvert_exporter": "python",
   "pygments_lexer": "ipython3",
   "version": "3.12.2"
  }
 },
 "nbformat": 4,
 "nbformat_minor": 5
}
