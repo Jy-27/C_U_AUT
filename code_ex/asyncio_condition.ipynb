{
 "cells": [
  {
   "cell_type": "code",
   "execution_count": null,
   "id": "666e2eb8-b727-482e-8715-19944620280a",
   "metadata": {},
   "outputs": [],
   "source": [
    "import asyncio\n",
    "import nest_asyncio\n",
    "\n",
    "#조건변수\n",
    "\n",
    "async def waiter(condition):\n",
    "    async with condition:\n",
    "        print (\"대기 중...\")\n",
    "        await condition.wait ()\n",
    "        print (\"조건 중족!\")\n",
    "\n",
    "async def notifier(condition):\n",
    "    await asyncio.sleep (2)\n",
    "    async with condition:\n",
    "        print (\"조건 설정!\")\n",
    "        condition.notify ()\n",
    "\n",
    "async def main():\n",
    "    condition = asyncio.Condition ()\n",
    "    asyncio.create_task(waiter(condition))\n",
    "    asyncio.create_task(notifier (condition))\n",
    "\n",
    "    await asyncio.sleep(3) # 모든 태스크가 완료될 때까지 대기\n",
    "\n",
    "if __name__ == \"__main__\":\n",
    "    nest_asyncio.apply()\n",
    "    asyncio. run (main())"
   ]
  }
 ],
 "metadata": {
  "kernelspec": {
   "display_name": "ame",
   "language": "python",
   "name": "ame"
  },
  "language_info": {
   "codemirror_mode": {
    "name": "ipython",
    "version": 3
   },
   "file_extension": ".py",
   "mimetype": "text/x-python",
   "name": "python",
   "nbconvert_exporter": "python",
   "pygments_lexer": "ipython3",
   "version": "3.12.2"
  }
 },
 "nbformat": 4,
 "nbformat_minor": 5
}
