{
 "cells": [
  {
   "cell_type": "markdown",
   "id": "03d5453a-178f-4f41-a536-fb560ba87a99",
   "metadata": {},
   "source": [
    "# "
   ]
  },
  {
   "cell_type": "code",
   "execution_count": 12,
   "id": "ee6a341b-783a-4277-b5f1-b3d2ec8decd4",
   "metadata": {},
   "outputs": [],
   "source": [
    "import AT_240529 as AT_\n",
    "from collections import deque\n",
    "#json Load현할 것."
   ]
  },
  {
   "cell_type": "code",
   "execution_count": 54,
   "id": "72993970-ade1-46dd-b371-aa6661ed6514",
   "metadata": {
    "scrolled": true
   },
   "outputs": [],
   "source": [
    "import AT_240529 as AT_\n",
    "from collections import deque\n",
    "import pyupbit as pu\n",
    "#json Load현할 것.\n",
    "\n",
    "deque_ = deque()\n",
    "ticker = 'KRW-XRP'\n",
    "load_ = AT_.DataLoader(ticker=ticker).LoadData()\n",
    "load_ = sorted(load_, key=lambda x: x['trade_timestamp'])\n",
    "deque_.extend(load_)\n",
    "# del load_\n",
    "\n",
    "# for _ in range(len(deque_)):\n",
    "#     data = deque_.popleft()\n",
    "#     print(data)"
   ]
  },
  {
   "cell_type": "code",
   "execution_count": 55,
   "id": "009feccd-7bba-4e56-ba41-5e69c7e8fd67",
   "metadata": {
    "scrolled": true
   },
   "outputs": [],
   "source": [
    "ohlcv = AT_.ohlc(deque_)\n",
    "ohlcv['volume'] = ohlcv['volume_ask'] + ohlcv['volume_bid']\n",
    "upbit_ = pu.get_ohlcv(ticker, interval='minute1', count=10)\n",
    "my_ = ohlcv[-10:]\n",
    "\n",
    "N_ = upbit_['volume']-my_['volume']"
   ]
  },
  {
   "cell_type": "code",
   "execution_count": 56,
   "id": "6633337c-4d5c-4f39-ab02-48028f47ec82",
   "metadata": {},
   "outputs": [
    {
     "data": {
      "text/plain": [
       "2024-05-30 23:15:00    7.275958e-12\n",
       "2024-05-30 23:16:00    3.637979e-12\n",
       "2024-05-30 23:17:00   -1.818989e-12\n",
       "2024-05-30 23:18:00    0.000000e+00\n",
       "2024-05-30 23:19:00    1.455192e-11\n",
       "2024-05-30 23:20:00    0.000000e+00\n",
       "2024-05-30 23:21:00    0.000000e+00\n",
       "2024-05-30 23:22:00    1.455192e-11\n",
       "2024-05-30 23:23:00    0.000000e+00\n",
       "2024-05-30 23:24:00    1.647212e+04\n",
       "Name: volume, dtype: float64"
      ]
     },
     "execution_count": 56,
     "metadata": {},
     "output_type": "execute_result"
    }
   ],
   "source": [
    "N_"
   ]
  },
  {
   "cell_type": "code",
   "execution_count": 46,
   "id": "34303ff0-5a81-4ce5-9776-26a5207d4e90",
   "metadata": {},
   "outputs": [
    {
     "data": {
      "text/html": [
       "<div>\n",
       "<style scoped>\n",
       "    .dataframe tbody tr th:only-of-type {\n",
       "        vertical-align: middle;\n",
       "    }\n",
       "\n",
       "    .dataframe tbody tr th {\n",
       "        vertical-align: top;\n",
       "    }\n",
       "\n",
       "    .dataframe thead th {\n",
       "        text-align: right;\n",
       "    }\n",
       "</style>\n",
       "<table border=\"1\" class=\"dataframe\">\n",
       "  <thead>\n",
       "    <tr style=\"text-align: right;\">\n",
       "      <th></th>\n",
       "      <th>open</th>\n",
       "      <th>high</th>\n",
       "      <th>low</th>\n",
       "      <th>close</th>\n",
       "      <th>volume_ask</th>\n",
       "      <th>volume_bid</th>\n",
       "      <th>count_ask</th>\n",
       "      <th>count_bid</th>\n",
       "      <th>seller</th>\n",
       "      <th>buyer</th>\n",
       "      <th>volume</th>\n",
       "    </tr>\n",
       "    <tr>\n",
       "      <th>date</th>\n",
       "      <th></th>\n",
       "      <th></th>\n",
       "      <th></th>\n",
       "      <th></th>\n",
       "      <th></th>\n",
       "      <th></th>\n",
       "      <th></th>\n",
       "      <th></th>\n",
       "      <th></th>\n",
       "      <th></th>\n",
       "      <th></th>\n",
       "    </tr>\n",
       "  </thead>\n",
       "  <tbody>\n",
       "    <tr>\n",
       "      <th>2024-05-30 23:12:00</th>\n",
       "      <td>1118.0</td>\n",
       "      <td>1119.0</td>\n",
       "      <td>1117.0</td>\n",
       "      <td>1119.0</td>\n",
       "      <td>2.752979e+04</td>\n",
       "      <td>30406.301136</td>\n",
       "      <td>42</td>\n",
       "      <td>61</td>\n",
       "      <td>15</td>\n",
       "      <td>54</td>\n",
       "      <td>5.793609e+04</td>\n",
       "    </tr>\n",
       "    <tr>\n",
       "      <th>2024-05-30 23:13:00</th>\n",
       "      <td>1119.0</td>\n",
       "      <td>1119.0</td>\n",
       "      <td>1117.0</td>\n",
       "      <td>1117.0</td>\n",
       "      <td>3.547706e+04</td>\n",
       "      <td>34321.941530</td>\n",
       "      <td>44</td>\n",
       "      <td>34</td>\n",
       "      <td>16</td>\n",
       "      <td>29</td>\n",
       "      <td>6.979900e+04</td>\n",
       "    </tr>\n",
       "    <tr>\n",
       "      <th>2024-05-30 23:14:00</th>\n",
       "      <td>1117.0</td>\n",
       "      <td>1118.0</td>\n",
       "      <td>1116.0</td>\n",
       "      <td>1118.0</td>\n",
       "      <td>2.864106e+04</td>\n",
       "      <td>20346.658744</td>\n",
       "      <td>61</td>\n",
       "      <td>40</td>\n",
       "      <td>21</td>\n",
       "      <td>31</td>\n",
       "      <td>4.898771e+04</td>\n",
       "    </tr>\n",
       "    <tr>\n",
       "      <th>2024-05-30 23:15:00</th>\n",
       "      <td>1117.0</td>\n",
       "      <td>1118.0</td>\n",
       "      <td>1116.0</td>\n",
       "      <td>1117.0</td>\n",
       "      <td>7.507506e+04</td>\n",
       "      <td>27371.705474</td>\n",
       "      <td>89</td>\n",
       "      <td>39</td>\n",
       "      <td>34</td>\n",
       "      <td>34</td>\n",
       "      <td>1.024468e+05</td>\n",
       "    </tr>\n",
       "    <tr>\n",
       "      <th>2024-05-30 23:16:00</th>\n",
       "      <td>1117.0</td>\n",
       "      <td>1117.0</td>\n",
       "      <td>1112.0</td>\n",
       "      <td>1113.0</td>\n",
       "      <td>2.360038e+05</td>\n",
       "      <td>22526.715570</td>\n",
       "      <td>316</td>\n",
       "      <td>60</td>\n",
       "      <td>77</td>\n",
       "      <td>53</td>\n",
       "      <td>2.585305e+05</td>\n",
       "    </tr>\n",
       "    <tr>\n",
       "      <th>2024-05-30 23:17:00</th>\n",
       "      <td>1112.0</td>\n",
       "      <td>1114.0</td>\n",
       "      <td>1111.0</td>\n",
       "      <td>1114.0</td>\n",
       "      <td>2.222358e+05</td>\n",
       "      <td>36530.461387</td>\n",
       "      <td>235</td>\n",
       "      <td>69</td>\n",
       "      <td>95</td>\n",
       "      <td>58</td>\n",
       "      <td>2.587662e+05</td>\n",
       "    </tr>\n",
       "    <tr>\n",
       "      <th>2024-05-30 23:18:00</th>\n",
       "      <td>1114.0</td>\n",
       "      <td>1115.0</td>\n",
       "      <td>1112.0</td>\n",
       "      <td>1113.0</td>\n",
       "      <td>7.925779e+04</td>\n",
       "      <td>52123.386771</td>\n",
       "      <td>99</td>\n",
       "      <td>80</td>\n",
       "      <td>43</td>\n",
       "      <td>63</td>\n",
       "      <td>1.313812e+05</td>\n",
       "    </tr>\n",
       "    <tr>\n",
       "      <th>2024-05-30 23:19:00</th>\n",
       "      <td>1113.0</td>\n",
       "      <td>1114.0</td>\n",
       "      <td>1110.0</td>\n",
       "      <td>1110.0</td>\n",
       "      <td>1.975337e+05</td>\n",
       "      <td>20651.692818</td>\n",
       "      <td>334</td>\n",
       "      <td>44</td>\n",
       "      <td>112</td>\n",
       "      <td>37</td>\n",
       "      <td>2.181853e+05</td>\n",
       "    </tr>\n",
       "    <tr>\n",
       "      <th>2024-05-30 23:20:00</th>\n",
       "      <td>1111.0</td>\n",
       "      <td>1111.0</td>\n",
       "      <td>1090.0</td>\n",
       "      <td>1094.0</td>\n",
       "      <td>1.747843e+06</td>\n",
       "      <td>261718.012288</td>\n",
       "      <td>2062</td>\n",
       "      <td>220</td>\n",
       "      <td>563</td>\n",
       "      <td>193</td>\n",
       "      <td>2.009561e+06</td>\n",
       "    </tr>\n",
       "    <tr>\n",
       "      <th>2024-05-30 23:21:00</th>\n",
       "      <td>1094.0</td>\n",
       "      <td>1100.0</td>\n",
       "      <td>1092.0</td>\n",
       "      <td>1100.0</td>\n",
       "      <td>2.070478e+05</td>\n",
       "      <td>202410.276437</td>\n",
       "      <td>131</td>\n",
       "      <td>137</td>\n",
       "      <td>79</td>\n",
       "      <td>104</td>\n",
       "      <td>4.094581e+05</td>\n",
       "    </tr>\n",
       "  </tbody>\n",
       "</table>\n",
       "</div>"
      ],
      "text/plain": [
       "                       open    high     low   close    volume_ask  \\\n",
       "date                                                                \n",
       "2024-05-30 23:12:00  1118.0  1119.0  1117.0  1119.0  2.752979e+04   \n",
       "2024-05-30 23:13:00  1119.0  1119.0  1117.0  1117.0  3.547706e+04   \n",
       "2024-05-30 23:14:00  1117.0  1118.0  1116.0  1118.0  2.864106e+04   \n",
       "2024-05-30 23:15:00  1117.0  1118.0  1116.0  1117.0  7.507506e+04   \n",
       "2024-05-30 23:16:00  1117.0  1117.0  1112.0  1113.0  2.360038e+05   \n",
       "2024-05-30 23:17:00  1112.0  1114.0  1111.0  1114.0  2.222358e+05   \n",
       "2024-05-30 23:18:00  1114.0  1115.0  1112.0  1113.0  7.925779e+04   \n",
       "2024-05-30 23:19:00  1113.0  1114.0  1110.0  1110.0  1.975337e+05   \n",
       "2024-05-30 23:20:00  1111.0  1111.0  1090.0  1094.0  1.747843e+06   \n",
       "2024-05-30 23:21:00  1094.0  1100.0  1092.0  1100.0  2.070478e+05   \n",
       "\n",
       "                        volume_bid  count_ask  count_bid  seller  buyer  \\\n",
       "date                                                                      \n",
       "2024-05-30 23:12:00   30406.301136         42         61      15     54   \n",
       "2024-05-30 23:13:00   34321.941530         44         34      16     29   \n",
       "2024-05-30 23:14:00   20346.658744         61         40      21     31   \n",
       "2024-05-30 23:15:00   27371.705474         89         39      34     34   \n",
       "2024-05-30 23:16:00   22526.715570        316         60      77     53   \n",
       "2024-05-30 23:17:00   36530.461387        235         69      95     58   \n",
       "2024-05-30 23:18:00   52123.386771         99         80      43     63   \n",
       "2024-05-30 23:19:00   20651.692818        334         44     112     37   \n",
       "2024-05-30 23:20:00  261718.012288       2062        220     563    193   \n",
       "2024-05-30 23:21:00  202410.276437        131        137      79    104   \n",
       "\n",
       "                           volume  \n",
       "date                               \n",
       "2024-05-30 23:12:00  5.793609e+04  \n",
       "2024-05-30 23:13:00  6.979900e+04  \n",
       "2024-05-30 23:14:00  4.898771e+04  \n",
       "2024-05-30 23:15:00  1.024468e+05  \n",
       "2024-05-30 23:16:00  2.585305e+05  \n",
       "2024-05-30 23:17:00  2.587662e+05  \n",
       "2024-05-30 23:18:00  1.313812e+05  \n",
       "2024-05-30 23:19:00  2.181853e+05  \n",
       "2024-05-30 23:20:00  2.009561e+06  \n",
       "2024-05-30 23:21:00  4.094581e+05  "
      ]
     },
     "execution_count": 46,
     "metadata": {},
     "output_type": "execute_result"
    }
   ],
   "source": [
    "ohlcv[-10:]"
   ]
  },
  {
   "cell_type": "code",
   "execution_count": 43,
   "id": "c418804f-5a83-4e7b-93dd-89200aa9619e",
   "metadata": {},
   "outputs": [
    {
     "ename": "OptionError",
     "evalue": "No such keys(s): 'display_max_row'",
     "output_type": "error",
     "traceback": [
      "\u001b[0;31m---------------------------------------------------------------------------\u001b[0m",
      "\u001b[0;31mOptionError\u001b[0m                               Traceback (most recent call last)",
      "Cell \u001b[0;32mIn[43], line 2\u001b[0m\n\u001b[1;32m      1\u001b[0m \u001b[38;5;28;01mimport\u001b[39;00m \u001b[38;5;21;01mpandas\u001b[39;00m \u001b[38;5;28;01mas\u001b[39;00m \u001b[38;5;21;01mpd\u001b[39;00m\n\u001b[0;32m----> 2\u001b[0m \u001b[43mpd\u001b[49m\u001b[38;5;241;43m.\u001b[39;49m\u001b[43mset_option\u001b[49m\u001b[43m(\u001b[49m\u001b[38;5;124;43m'\u001b[39;49m\u001b[38;5;124;43mdisplay_max_row\u001b[39;49m\u001b[38;5;124;43m'\u001b[39;49m\u001b[43m,\u001b[49m\u001b[43m \u001b[49m\u001b[38;5;28;43;01mNone\u001b[39;49;00m\u001b[43m)\u001b[49m\n",
      "File \u001b[0;32m/usr/local/Caskroom/miniconda/base/envs/ame/lib/python3.12/site-packages/pandas/_config/config.py:274\u001b[0m, in \u001b[0;36mCallableDynamicDoc.__call__\u001b[0;34m(self, *args, **kwds)\u001b[0m\n\u001b[1;32m    273\u001b[0m \u001b[38;5;28;01mdef\u001b[39;00m \u001b[38;5;21m__call__\u001b[39m(\u001b[38;5;28mself\u001b[39m, \u001b[38;5;241m*\u001b[39margs, \u001b[38;5;241m*\u001b[39m\u001b[38;5;241m*\u001b[39mkwds) \u001b[38;5;241m-\u001b[39m\u001b[38;5;241m>\u001b[39m T:\n\u001b[0;32m--> 274\u001b[0m     \u001b[38;5;28;01mreturn\u001b[39;00m \u001b[38;5;28;43mself\u001b[39;49m\u001b[38;5;241;43m.\u001b[39;49m\u001b[38;5;18;43m__func__\u001b[39;49m\u001b[43m(\u001b[49m\u001b[38;5;241;43m*\u001b[39;49m\u001b[43margs\u001b[49m\u001b[43m,\u001b[49m\u001b[43m \u001b[49m\u001b[38;5;241;43m*\u001b[39;49m\u001b[38;5;241;43m*\u001b[39;49m\u001b[43mkwds\u001b[49m\u001b[43m)\u001b[49m\n",
      "File \u001b[0;32m/usr/local/Caskroom/miniconda/base/envs/ame/lib/python3.12/site-packages/pandas/_config/config.py:167\u001b[0m, in \u001b[0;36m_set_option\u001b[0;34m(*args, **kwargs)\u001b[0m\n\u001b[1;32m    164\u001b[0m     \u001b[38;5;28;01mraise\u001b[39;00m \u001b[38;5;167;01mTypeError\u001b[39;00m(\u001b[38;5;124mf\u001b[39m\u001b[38;5;124m'\u001b[39m\u001b[38;5;124m_set_option() got an unexpected keyword argument \u001b[39m\u001b[38;5;124m\"\u001b[39m\u001b[38;5;132;01m{\u001b[39;00mkwarg\u001b[38;5;132;01m}\u001b[39;00m\u001b[38;5;124m\"\u001b[39m\u001b[38;5;124m'\u001b[39m)\n\u001b[1;32m    166\u001b[0m \u001b[38;5;28;01mfor\u001b[39;00m k, v \u001b[38;5;129;01min\u001b[39;00m \u001b[38;5;28mzip\u001b[39m(args[::\u001b[38;5;241m2\u001b[39m], args[\u001b[38;5;241m1\u001b[39m::\u001b[38;5;241m2\u001b[39m]):\n\u001b[0;32m--> 167\u001b[0m     key \u001b[38;5;241m=\u001b[39m \u001b[43m_get_single_key\u001b[49m\u001b[43m(\u001b[49m\u001b[43mk\u001b[49m\u001b[43m,\u001b[49m\u001b[43m \u001b[49m\u001b[43msilent\u001b[49m\u001b[43m)\u001b[49m\n\u001b[1;32m    169\u001b[0m     o \u001b[38;5;241m=\u001b[39m _get_registered_option(key)\n\u001b[1;32m    170\u001b[0m     \u001b[38;5;28;01mif\u001b[39;00m o \u001b[38;5;129;01mand\u001b[39;00m o\u001b[38;5;241m.\u001b[39mvalidator:\n",
      "File \u001b[0;32m/usr/local/Caskroom/miniconda/base/envs/ame/lib/python3.12/site-packages/pandas/_config/config.py:132\u001b[0m, in \u001b[0;36m_get_single_key\u001b[0;34m(pat, silent)\u001b[0m\n\u001b[1;32m    130\u001b[0m     \u001b[38;5;28;01mif\u001b[39;00m \u001b[38;5;129;01mnot\u001b[39;00m silent:\n\u001b[1;32m    131\u001b[0m         _warn_if_deprecated(pat)\n\u001b[0;32m--> 132\u001b[0m     \u001b[38;5;28;01mraise\u001b[39;00m OptionError(\u001b[38;5;124mf\u001b[39m\u001b[38;5;124m\"\u001b[39m\u001b[38;5;124mNo such keys(s): \u001b[39m\u001b[38;5;132;01m{\u001b[39;00m\u001b[38;5;28mrepr\u001b[39m(pat)\u001b[38;5;132;01m}\u001b[39;00m\u001b[38;5;124m\"\u001b[39m)\n\u001b[1;32m    133\u001b[0m \u001b[38;5;28;01mif\u001b[39;00m \u001b[38;5;28mlen\u001b[39m(keys) \u001b[38;5;241m>\u001b[39m \u001b[38;5;241m1\u001b[39m:\n\u001b[1;32m    134\u001b[0m     \u001b[38;5;28;01mraise\u001b[39;00m OptionError(\u001b[38;5;124m\"\u001b[39m\u001b[38;5;124mPattern matched multiple keys\u001b[39m\u001b[38;5;124m\"\u001b[39m)\n",
      "\u001b[0;31mOptionError\u001b[0m: No such keys(s): 'display_max_row'"
     ]
    }
   ],
   "source": [
    "import pandas as pd\n",
    "pd.set_option('display_max_row', None)"
   ]
  },
  {
   "cell_type": "code",
   "execution_count": 47,
   "id": "446bc413-3e5b-4ff8-8117-97fef2f43774",
   "metadata": {},
   "outputs": [
    {
     "data": {
      "text/plain": [
       "2024-05-30 23:12:00             NaN\n",
       "2024-05-30 23:13:00             NaN\n",
       "2024-05-30 23:14:00    7.275958e-12\n",
       "2024-05-30 23:15:00    0.000000e+00\n",
       "2024-05-30 23:16:00    0.000000e+00\n",
       "2024-05-30 23:17:00    0.000000e+00\n",
       "2024-05-30 23:18:00    0.000000e+00\n",
       "2024-05-30 23:19:00    0.000000e+00\n",
       "2024-05-30 23:20:00    0.000000e+00\n",
       "2024-05-30 23:21:00    3.570356e+05\n",
       "2024-05-30 23:22:00             NaN\n",
       "2024-05-30 23:23:00             NaN\n",
       "Name: volume, dtype: float64"
      ]
     },
     "execution_count": 47,
     "metadata": {},
     "output_type": "execute_result"
    }
   ],
   "source": [
    "N_"
   ]
  },
  {
   "cell_type": "code",
   "execution_count": 17,
   "id": "c8680be3-1a09-4315-b715-6b62a37c2d3e",
   "metadata": {},
   "outputs": [],
   "source": [
    "ticker = 'KRW-STEEM'"
   ]
  },
  {
   "cell_type": "code",
   "execution_count": 18,
   "id": "d9fd2277-5bd2-440b-a027-88a04c79e4c7",
   "metadata": {},
   "outputs": [
    {
     "data": {
      "text/plain": [
       "'/Users/nnn/Desktop/DataBase/KRW-STEEM'"
      ]
     },
     "execution_count": 18,
     "metadata": {},
     "output_type": "execute_result"
    }
   ],
   "source": [
    "os.path.join(os.path.dirname(os.getcwd()),\n",
    "                                      'DataBase',\n",
    "                                      ticker)"
   ]
  },
  {
   "cell_type": "code",
   "execution_count": null,
   "id": "27a970f6-2209-40a3-aebb-0949d32c30d6",
   "metadata": {},
   "outputs": [],
   "source": []
  }
 ],
 "metadata": {
  "kernelspec": {
   "display_name": "ame",
   "language": "python",
   "name": "ame"
  },
  "language_info": {
   "codemirror_mode": {
    "name": "ipython",
    "version": 3
   },
   "file_extension": ".py",
   "mimetype": "text/x-python",
   "name": "python",
   "nbconvert_exporter": "python",
   "pygments_lexer": "ipython3",
   "version": "3.12.2"
  }
 },
 "nbformat": 4,
 "nbformat_minor": 5
}
