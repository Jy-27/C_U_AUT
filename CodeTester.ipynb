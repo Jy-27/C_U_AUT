{
 "cells": [
  {
   "cell_type": "code",
   "execution_count": 18,
   "id": "8c97e19f-f6c3-4b0c-bca1-5b8a15e1fc28",
   "metadata": {},
   "outputs": [],
   "source": [
    "from AT_240529 import DataLoader, ohlc\n",
    "from collections import deque\n",
    "import pyupbit as pu\n",
    "\n",
    "\n",
    "ticker = 'KRW-BTC'\n",
    "load_ = await DataLoader(ticker=ticker).load()\n",
    "my_ohlc = await ohlc(load_)\n",
    "my_ohlc['volume'] = my_ohlc['volume_ask'] + my_ohlc['volume_bid']\n",
    "\n",
    "up_ohlc = pu.get_ohlcv(ticker, interval='minute1', count=10)"
   ]
  },
  {
   "cell_type": "code",
   "execution_count": 19,
   "id": "4338b2d3-2078-417c-a060-a5c28238525a",
   "metadata": {},
   "outputs": [
    {
     "data": {
      "text/html": [
       "<div>\n",
       "<style scoped>\n",
       "    .dataframe tbody tr th:only-of-type {\n",
       "        vertical-align: middle;\n",
       "    }\n",
       "\n",
       "    .dataframe tbody tr th {\n",
       "        vertical-align: top;\n",
       "    }\n",
       "\n",
       "    .dataframe thead th {\n",
       "        text-align: right;\n",
       "    }\n",
       "</style>\n",
       "<table border=\"1\" class=\"dataframe\">\n",
       "  <thead>\n",
       "    <tr style=\"text-align: right;\">\n",
       "      <th></th>\n",
       "      <th>open</th>\n",
       "      <th>high</th>\n",
       "      <th>low</th>\n",
       "      <th>close</th>\n",
       "      <th>volume_ask</th>\n",
       "      <th>volume_bid</th>\n",
       "      <th>count_ask</th>\n",
       "      <th>count_bid</th>\n",
       "      <th>seller</th>\n",
       "      <th>buyer</th>\n",
       "      <th>volume</th>\n",
       "    </tr>\n",
       "    <tr>\n",
       "      <th>date</th>\n",
       "      <th></th>\n",
       "      <th></th>\n",
       "      <th></th>\n",
       "      <th></th>\n",
       "      <th></th>\n",
       "      <th></th>\n",
       "      <th></th>\n",
       "      <th></th>\n",
       "      <th></th>\n",
       "      <th></th>\n",
       "      <th></th>\n",
       "    </tr>\n",
       "  </thead>\n",
       "  <tbody>\n",
       "    <tr>\n",
       "      <th>2024-05-29 08:58:00</th>\n",
       "      <td>94584000.0</td>\n",
       "      <td>94585000.0</td>\n",
       "      <td>0.03694</td>\n",
       "      <td>578.00</td>\n",
       "      <td>2.979688e+04</td>\n",
       "      <td>2.373296e+06</td>\n",
       "      <td>18</td>\n",
       "      <td>7</td>\n",
       "      <td>13</td>\n",
       "      <td>7</td>\n",
       "      <td>2.403093e+06</td>\n",
       "    </tr>\n",
       "    <tr>\n",
       "      <th>2024-05-29 08:59:00</th>\n",
       "      <td>94584000.0</td>\n",
       "      <td>94616000.0</td>\n",
       "      <td>0.03696</td>\n",
       "      <td>606.20</td>\n",
       "      <td>2.765554e+08</td>\n",
       "      <td>3.101538e+03</td>\n",
       "      <td>15</td>\n",
       "      <td>5</td>\n",
       "      <td>15</td>\n",
       "      <td>5</td>\n",
       "      <td>2.765585e+08</td>\n",
       "    </tr>\n",
       "    <tr>\n",
       "      <th>2024-05-29 09:00:00</th>\n",
       "      <td>94654000.0</td>\n",
       "      <td>94670000.0</td>\n",
       "      <td>0.03698</td>\n",
       "      <td>95.34</td>\n",
       "      <td>4.045853e+07</td>\n",
       "      <td>1.110446e+08</td>\n",
       "      <td>240</td>\n",
       "      <td>70</td>\n",
       "      <td>191</td>\n",
       "      <td>69</td>\n",
       "      <td>1.515031e+08</td>\n",
       "    </tr>\n",
       "  </tbody>\n",
       "</table>\n",
       "</div>"
      ],
      "text/plain": [
       "                           open        high      low   close    volume_ask  \\\n",
       "date                                                                         \n",
       "2024-05-29 08:58:00  94584000.0  94585000.0  0.03694  578.00  2.979688e+04   \n",
       "2024-05-29 08:59:00  94584000.0  94616000.0  0.03696  606.20  2.765554e+08   \n",
       "2024-05-29 09:00:00  94654000.0  94670000.0  0.03698   95.34  4.045853e+07   \n",
       "\n",
       "                       volume_bid  count_ask  count_bid  seller  buyer  \\\n",
       "date                                                                     \n",
       "2024-05-29 08:58:00  2.373296e+06         18          7      13      7   \n",
       "2024-05-29 08:59:00  3.101538e+03         15          5      15      5   \n",
       "2024-05-29 09:00:00  1.110446e+08        240         70     191     69   \n",
       "\n",
       "                           volume  \n",
       "date                               \n",
       "2024-05-29 08:58:00  2.403093e+06  \n",
       "2024-05-29 08:59:00  2.765585e+08  \n",
       "2024-05-29 09:00:00  1.515031e+08  "
      ]
     },
     "execution_count": 19,
     "metadata": {},
     "output_type": "execute_result"
    }
   ],
   "source": [
    "my_ohlc"
   ]
  },
  {
   "cell_type": "code",
   "execution_count": 20,
   "id": "12d7763c-95b5-4673-b6aa-1d571e70e58f",
   "metadata": {
    "scrolled": true
   },
   "outputs": [
    {
     "data": {
      "text/plain": [
       "2.24937118"
      ]
     },
     "execution_count": 20,
     "metadata": {},
     "output_type": "execute_result"
    }
   ],
   "source": [
    "up_ohlc.loc['2024-05-29 08:59:00']['volume']"
   ]
  },
  {
   "cell_type": "code",
   "execution_count": 21,
   "id": "bdb653c5-35bd-4aca-be92-f75499298991",
   "metadata": {},
   "outputs": [
    {
     "data": {
      "text/plain": [
       "276558514.0226099"
      ]
     },
     "execution_count": 21,
     "metadata": {},
     "output_type": "execute_result"
    }
   ],
   "source": [
    "my_ohlc.loc['2024-05-29 08:59:00']['volume']"
   ]
  },
  {
   "cell_type": "code",
   "execution_count": 24,
   "id": "4637e641-2936-4cb7-aefa-227c7dcf686b",
   "metadata": {},
   "outputs": [],
   "source": [
    "from collections import deque\n",
    "test = {}"
   ]
  },
  {
   "cell_type": "code",
   "execution_count": 25,
   "id": "06e4a52a-6b8b-421f-b28f-44b3708b0415",
   "metadata": {},
   "outputs": [],
   "source": [
    "test['KRW-BTC'] = deque()"
   ]
  },
  {
   "cell_type": "code",
   "execution_count": 26,
   "id": "f47289b2-c621-46f7-870b-1ec15b6ea143",
   "metadata": {},
   "outputs": [],
   "source": [
    "test['KRW-BTC'].append('tsetsdfadsf')"
   ]
  },
  {
   "cell_type": "code",
   "execution_count": 27,
   "id": "d4516886-02cd-4cb1-a1f7-adb18b602b88",
   "metadata": {},
   "outputs": [
    {
     "data": {
      "text/plain": [
       "deque(['tsetsdfadsf'])"
      ]
     },
     "execution_count": 27,
     "metadata": {},
     "output_type": "execute_result"
    }
   ],
   "source": [
    "test['KRW-BTC']"
   ]
  },
  {
   "cell_type": "code",
   "execution_count": 28,
   "id": "155a3990-9fe6-472f-b3a9-1e3af72ca42e",
   "metadata": {},
   "outputs": [],
   "source": [
    "list_ = ['a','b','c','d','e']"
   ]
  },
  {
   "cell_type": "code",
   "execution_count": 29,
   "id": "c8abe53f-756a-4761-90ec-c1e2960f18f2",
   "metadata": {},
   "outputs": [],
   "source": [
    "test = {}"
   ]
  },
  {
   "cell_type": "code",
   "execution_count": 30,
   "id": "2e5fa51a-f020-4518-a29c-98fecff7e583",
   "metadata": {},
   "outputs": [],
   "source": [
    "for i in list_:\n",
    "    test[i] = deque()"
   ]
  },
  {
   "cell_type": "code",
   "execution_count": 31,
   "id": "fddf8daa-56df-4fa8-99eb-1ec62be437b6",
   "metadata": {},
   "outputs": [
    {
     "data": {
      "text/plain": [
       "{'a': deque([]),\n",
       " 'b': deque([]),\n",
       " 'c': deque([]),\n",
       " 'd': deque([]),\n",
       " 'e': deque([])}"
      ]
     },
     "execution_count": 31,
     "metadata": {},
     "output_type": "execute_result"
    }
   ],
   "source": [
    "test"
   ]
  },
  {
   "cell_type": "code",
   "execution_count": 12,
   "id": "ff84c04a-2eff-49bf-9c70-c0e2cfb36cd5",
   "metadata": {},
   "outputs": [],
   "source": [
    "async def DataManager(queue, SaveMaxlen :int=2_000, MergeMaxlen :int=10_000, timeSleep :int=5):\n",
    "    saver_ = {}\n",
    "    merge_ = {}\n",
    "    deque_ = defaultdict(deque)\n",
    "    while True:\n",
    "        tickers = pu.get_tickers('KRW')\n",
    "        for ticker in tickers:\n",
    "            if ticker not in self.saver_.keys():\n",
    "                saver_[code] = DataSaver(maxlen=SaveMaxlen)\n",
    "                merge_[code] = DataMerge(maxlen=MergeMaxlen)\n",
    "\n",
    "        timeNow = datetime.datetime.now()\n",
    "        timeDelta = datetime.timedelta(hours=2)\n",
    "        whileExit = timeNow + timeDelta\n",
    "\n",
    "        while timeNow <= whileExit:\n",
    "            while not queue.empty():\n",
    "                # print(f'{cls.classname_} :: {sys._getframe().f_lineno}')\n",
    "                q_data = await queue.get()\n",
    "                code = q_data['code']\n",
    "                deque_[code].append(q_data)\n",
    "                await self.merge_[code].AddRealtimeData(realtimeData=q_data)\n",
    "                # print(f'{cls.classname_} :: {sys._getframe().f_lineno}')\n",
    "                print(deque_[code])\n",
    "                await saver_[code].process(deque_[code])\n",
    "                # cls.saver_[code].process(data=cls.deque_[code])\n",
    "                print('tt')\n",
    "                # await cls.saver_[code].process(data=cls.deque_[code])\n",
    "                # .process(data=cls.deque_[code])\n",
    "                # .process(data=cls.deque_[code])\n",
    "                # print(f'{cls.classname_} :: {sys._getframe().f_lineno}')\n",
    "                await asyncio.sleep(0)\n",
    "\n",
    "                #// TEST ZONE START\n",
    "                # for ticker in tickers:\n",
    "                #     data = await cls.merge_[ticker].GetData()\n",
    "                #     if data:\n",
    "                #         df_ = await ohlc(editData=data, interval=1)\n",
    "                #         print(ticker)\n",
    "                #         print(df_)\n",
    "                #     else:\n",
    "                #         print('data가 없습니다')\n",
    "                #// TEST ZONE END\n",
    "            await asyncio.sleep(timeSleep)"
   ]
  },
  {
   "cell_type": "code",
   "execution_count": 4,
   "id": "cd597a6f-b567-4315-a6aa-410f72c0a5d5",
   "metadata": {},
   "outputs": [],
   "source": [
    "test_deque = deque()"
   ]
  },
  {
   "cell_type": "code",
   "execution_count": 25,
   "id": "8c08a58b-1ff1-410d-854d-b0bd4dc07ad7",
   "metadata": {},
   "outputs": [],
   "source": [
    "from collections import deque"
   ]
  },
  {
   "cell_type": "code",
   "execution_count": 26,
   "id": "790a4f7c-b98a-4a18-b131-6c60e914bf7d",
   "metadata": {},
   "outputs": [],
   "source": [
    "test_deque = deque()\n",
    "test_deque.extend('TEST_PLAY')"
   ]
  },
  {
   "cell_type": "code",
   "execution_count": 27,
   "id": "47c743cf-a008-4c25-962d-a8f621061640",
   "metadata": {},
   "outputs": [
    {
     "data": {
      "text/plain": [
       "deque(['T', 'E', 'S', 'T', '_', 'P', 'L', 'A', 'Y'])"
      ]
     },
     "execution_count": 27,
     "metadata": {},
     "output_type": "execute_result"
    }
   ],
   "source": [
    "test_deque"
   ]
  },
  {
   "cell_type": "code",
   "execution_count": 28,
   "id": "5a1aa451-afe4-41b8-a014-11cdcc1f04bc",
   "metadata": {},
   "outputs": [
    {
     "name": "stdout",
     "output_type": "stream",
     "text": [
      "T\n",
      "END\n",
      "E\n",
      "END\n",
      "S\n",
      "END\n",
      "T\n",
      "END\n",
      "_\n",
      "END\n",
      "P\n",
      "END\n",
      "L\n",
      "END\n",
      "A\n",
      "END\n",
      "Y\n",
      "END\n"
     ]
    }
   ],
   "source": [
    "if test_deque:\n",
    "    for _ in range(len(test_deque)):\n",
    "        print(test_deque.popleft())\n",
    "        print('END')"
   ]
  },
  {
   "cell_type": "code",
   "execution_count": 11,
   "id": "30dece87-50a5-4c8d-b0e3-1a45a8b56e5e",
   "metadata": {},
   "outputs": [
    {
     "data": {
      "text/plain": [
       "deque(['T', 'E', 'S', 'T', '_', 'P', 'L', 'A', 'Y'])"
      ]
     },
     "execution_count": 11,
     "metadata": {},
     "output_type": "execute_result"
    }
   ],
   "source": [
    "test_deque"
   ]
  },
  {
   "cell_type": "code",
   "execution_count": 1,
   "id": "ea0f421b-35cd-4a83-8dff-864f31f2a1e3",
   "metadata": {},
   "outputs": [
    {
     "ename": "NameError",
     "evalue": "name 'deque' is not defined",
     "output_type": "error",
     "traceback": [
      "\u001b[0;31m---------------------------------------------------------------------------\u001b[0m",
      "\u001b[0;31mNameError\u001b[0m                                 Traceback (most recent call last)",
      "Cell \u001b[0;32mIn[1], line 1\u001b[0m\n\u001b[0;32m----> 1\u001b[0m \u001b[38;5;28;43;01mclass\u001b[39;49;00m\u001b[43m \u001b[49m\u001b[38;5;21;43;01mDataSaver\u001b[39;49;00m\u001b[43m:\u001b[49m\n\u001b[1;32m      2\u001b[0m \u001b[38;5;250;43m    \u001b[39;49m\u001b[38;5;124;43;03m\"\"\"\u001b[39;49;00m\n\u001b[1;32m      3\u001b[0m \u001b[38;5;124;43;03m    Note.\u001b[39;49;00m\n\u001b[1;32m      4\u001b[0m \u001b[38;5;124;43;03m      1. 버퍼역할을 하는 deque 또는 queue가 없이 사용시 DataSaver class 실행시 일부 데이터 누락이 발생했다.\u001b[39;49;00m\n\u001b[1;32m      5\u001b[0m \u001b[38;5;124;43;03m         버퍼역할을 추가하고 다시 테스트 해볼필요가 있다.\u001b[39;49;00m\n\u001b[1;32m      6\u001b[0m \u001b[38;5;124;43;03m    \"\"\"\u001b[39;49;00m\n\u001b[1;32m      7\u001b[0m \u001b[43m    \u001b[49m\u001b[38;5;28;43;01mdef\u001b[39;49;00m\u001b[43m \u001b[49m\u001b[38;5;21;43m__init__\u001b[39;49m\u001b[43m(\u001b[49m\u001b[38;5;28;43mself\u001b[39;49m\u001b[43m,\u001b[49m\u001b[43m \u001b[49m\u001b[43mmaxlen\u001b[49m\u001b[43m \u001b[49m\u001b[43m:\u001b[49m\u001b[38;5;28;43mint\u001b[39;49m\u001b[43m \u001b[49m\u001b[38;5;241;43m=\u001b[39;49m\u001b[43m \u001b[49m\u001b[38;5;241;43m5_000\u001b[39;49m\u001b[43m)\u001b[49m\u001b[43m:\u001b[49m\n",
      "Cell \u001b[0;32mIn[1], line 15\u001b[0m, in \u001b[0;36mDataSaver\u001b[0;34m()\u001b[0m\n\u001b[1;32m     12\u001b[0m     \u001b[38;5;28mself\u001b[39m\u001b[38;5;241m.\u001b[39medited_data \u001b[38;5;241m=\u001b[39m \u001b[38;5;28;01mNone\u001b[39;00m\n\u001b[1;32m     13\u001b[0m     \u001b[38;5;28mself\u001b[39m\u001b[38;5;241m.\u001b[39mclassname \u001b[38;5;241m=\u001b[39m \u001b[38;5;28mself\u001b[39m\u001b[38;5;241m.\u001b[39m\u001b[38;5;18m__class__\u001b[39m\u001b[38;5;241m.\u001b[39m\u001b[38;5;18m__name__\u001b[39m\n\u001b[0;32m---> 15\u001b[0m \u001b[38;5;28;01masync\u001b[39;00m \u001b[38;5;28;01mdef\u001b[39;00m \u001b[38;5;21mprocess\u001b[39m(\u001b[38;5;28mself\u001b[39m, data :\u001b[43mdeque\u001b[49m):\n\u001b[1;32m     16\u001b[0m     \u001b[38;5;28;01mif\u001b[39;00m data:\n\u001b[1;32m     17\u001b[0m         \u001b[38;5;28mprint\u001b[39m(\u001b[38;5;124mf\u001b[39m\u001b[38;5;124m'\u001b[39m\u001b[38;5;132;01m{\u001b[39;00m\u001b[38;5;28mcls\u001b[39m\u001b[38;5;241m.\u001b[39mclassname_\u001b[38;5;132;01m}\u001b[39;00m\u001b[38;5;124m :: \u001b[39m\u001b[38;5;132;01m{\u001b[39;00msys\u001b[38;5;241m.\u001b[39m_getframe()\u001b[38;5;241m.\u001b[39mf_lineno\u001b[38;5;132;01m}\u001b[39;00m\u001b[38;5;124m'\u001b[39m)\n",
      "\u001b[0;31mNameError\u001b[0m: name 'deque' is not defined"
     ]
    }
   ],
   "source": [
    "class DataSaver:\n",
    "    \"\"\"\n",
    "    Note.\n",
    "      1. 버퍼역할을 하는 deque 또는 queue가 없이 사용시 DataSaver class 실행시 일부 데이터 누락이 발생했다.\n",
    "         버퍼역할을 추가하고 다시 테스트 해볼필요가 있다.\n",
    "    \"\"\"\n",
    "    def __init__(self, maxlen :int = 5_000):\n",
    "        self.deque :Deque[list] = deque(maxlen=maxlen)\n",
    "        self.maxlen = maxlen\n",
    "        self.timestamp_start = None\n",
    "        self.timestamp_end = None\n",
    "        self.edited_data = None\n",
    "        self.classname = self.__class__.__name__\n",
    "\n",
    "    async def process(self, data :deque):\n",
    "        if data:\n",
    "            print(f'{cls.classname_} :: {sys._getframe().f_lineno}')\n",
    "            for _ in range(len(data)):\n",
    "                print(f'{self.classname} :: {sys._getframe().f_lineno}')\n",
    "                popLeft = data.popleft()\n",
    "                print(popLeft)\n",
    "                edited_data = await edit_data(popLeft)\n",
    "                print(edited_data)\n",
    "                print(f'{self.classname} :: {sys._getframe().f_lineno}')\n",
    "                if self.deque:\n",
    "                    print(f'{self.classname} :: {sys._getframe().f_lineno}')\n",
    "                    index_last_data = self.deque[-1].copy()\n",
    "                    print(f'{self.classname} :: {sys._getframe().f_lineno}')\n",
    "                    check_timestamp = edited_data['trade_timestamp'] == index_last_data['trade_timestamp']\n",
    "                    print(f'{self.classname} :: {sys._getframe().f_lineno}')\n",
    "                    check_price = edited_data['trade_price'] == index_last_data['trade_price']\n",
    "                    print(f'{self.classname} :: {sys._getframe().f_lineno}')\n",
    "\n",
    "                    if all([check_timestamp, check_price]):\n",
    "                        print(f'{self.classname} :: {sys._getframe().f_lineno}')\n",
    "                        self.deque.pop()\n",
    "                        print(f'{self.classname} :: {sys._getframe().f_lineno}')\n",
    "                        index_last_data.update({'volume_ask': edited_data['volume_ask'] + index_last_data['volume_ask'],\n",
    "                                                'volume_bid': edited_data['volume_bid'] + index_last_data['volume_bid'],\n",
    "                                                'count_ask' : edited_data['count_ask'] + index_last_data['count_ask'],\n",
    "                                                'count_bid' : edited_data['count_bid'] + index_last_data['count_bid']})\n",
    "                        print(f'{self.classname} :: {sys._getframe().f_lineno}')\n",
    "                        self.deque.append(index_last_data)\n",
    "                        print(self.deque[-1])\n",
    "                        print(f'{self.classname} :: {sys._getframe().f_lineno}')\n",
    "                    else:\n",
    "                        print(f'{self.classname} :: {sys._getframe().f_lineno}')\n",
    "                        self.deque.append(edited_data)\n",
    "                else:\n",
    "                    print(f'{self.classname} :: {sys._getframe().f_lineno}')\n",
    "                    self.deque.append(edited_data)\n",
    "                    print(f'{self.classname} :: {sys._getframe().f_lineno}')\n",
    "                    self.timestamp_start = edited_data['trade_timestamp']\n",
    "                    print(f'{self.classname} :: {sys._getframe().f_lineno}')\n",
    "\n",
    "        if len(self.deque) >= self.maxlen:\n",
    "            print(f'{self.classname} :: {sys._getframe().f_lineno}')\n",
    "            directory_ = os.path.join(os.path.dirname(os.getcwd()), 'DataBase', self.deque[0]['code'])\n",
    "            print(f'{self.classname} :: {sys._getframe().f_lineno}')\n",
    "            file_ = str(int(self.deque[0]['trade_timestamp'])) + '.json'\n",
    "            print(f'{self.classname} :: {sys._getframe().f_lineno}')\n",
    "            if not os.path.exists(directory_):\n",
    "                os.makedirs(directory_)\n",
    "            path_ = os.path.join(directory_, file_)\n",
    "            print(f'{self.classname} :: {sys._getframe().f_lineno}')\n",
    "            await save_to_file(data=list(self.deque), path=path_)\n",
    "            print(f'{self.classname} :: {sys._getframe().f_lineno}')\n",
    "            self.deque.clear()"
   ]
  },
  {
   "cell_type": "code",
   "execution_count": 18,
   "id": "209d90a8-36ac-4ca8-8456-b9028ab41643",
   "metadata": {},
   "outputs": [
    {
     "ename": "NameError",
     "evalue": "name 'Deque' is not defined",
     "output_type": "error",
     "traceback": [
      "\u001b[0;31m---------------------------------------------------------------------------\u001b[0m",
      "\u001b[0;31mNameError\u001b[0m                                 Traceback (most recent call last)",
      "Cell \u001b[0;32mIn[18], line 1\u001b[0m\n\u001b[0;32m----> 1\u001b[0m \u001b[38;5;28;43;01mclass\u001b[39;49;00m\u001b[43m \u001b[49m\u001b[38;5;21;43;01mDataSaver\u001b[39;49;00m\u001b[43m:\u001b[49m\n\u001b[1;32m      2\u001b[0m \u001b[38;5;250;43m    \u001b[39;49m\u001b[38;5;124;43;03m\"\"\"\u001b[39;49;00m\n\u001b[1;32m      3\u001b[0m \u001b[38;5;124;43;03m    Note.\u001b[39;49;00m\n\u001b[1;32m      4\u001b[0m \u001b[38;5;124;43;03m      1. 버퍼역할을 하는 deque 또는 queue가 없이 사용시 DataSaver class 실행시 일부 데이터 누락이 발생했다.\u001b[39;49;00m\n\u001b[1;32m      5\u001b[0m \u001b[38;5;124;43;03m         버퍼역할을 추가하고 다시 테스트 해볼필요가 있다.\u001b[39;49;00m\n\u001b[1;32m      6\u001b[0m \u001b[38;5;124;43;03m    \"\"\"\u001b[39;49;00m\n\u001b[1;32m      7\u001b[0m \u001b[43m    \u001b[49m\u001b[38;5;28;43;01mdef\u001b[39;49;00m\u001b[43m \u001b[49m\u001b[38;5;21;43m__init__\u001b[39;49m\u001b[43m(\u001b[49m\u001b[38;5;28;43mself\u001b[39;49m\u001b[43m,\u001b[49m\u001b[43m \u001b[49m\u001b[43mmaxlen\u001b[49m\u001b[43m \u001b[49m\u001b[43m:\u001b[49m\u001b[38;5;28;43mint\u001b[39;49m\u001b[43m \u001b[49m\u001b[38;5;241;43m=\u001b[39;49m\u001b[43m \u001b[49m\u001b[38;5;241;43m5_000\u001b[39;49m\u001b[43m)\u001b[49m\u001b[43m:\u001b[49m\n",
      "Cell \u001b[0;32mIn[18], line 15\u001b[0m, in \u001b[0;36mDataSaver\u001b[0;34m()\u001b[0m\n\u001b[1;32m     12\u001b[0m     \u001b[38;5;28mself\u001b[39m\u001b[38;5;241m.\u001b[39medited_data \u001b[38;5;241m=\u001b[39m \u001b[38;5;28;01mNone\u001b[39;00m\n\u001b[1;32m     13\u001b[0m     \u001b[38;5;28mself\u001b[39m\u001b[38;5;241m.\u001b[39mclassname \u001b[38;5;241m=\u001b[39m \u001b[38;5;28mself\u001b[39m\u001b[38;5;241m.\u001b[39m\u001b[38;5;18m__class__\u001b[39m\u001b[38;5;241m.\u001b[39m\u001b[38;5;18m__name__\u001b[39m\n\u001b[0;32m---> 15\u001b[0m \u001b[38;5;28;01masync\u001b[39;00m \u001b[38;5;28;01mdef\u001b[39;00m \u001b[38;5;21mprocess\u001b[39m(\u001b[38;5;28mself\u001b[39m, data :\u001b[43mDeque\u001b[49m):\n\u001b[1;32m     16\u001b[0m     \u001b[38;5;28;01mif\u001b[39;00m data:\n\u001b[1;32m     17\u001b[0m         \u001b[38;5;66;03m# print(f'{cls.classname_} :: {sys._getframe().f_lineno}')\u001b[39;00m\n\u001b[1;32m     18\u001b[0m         \u001b[38;5;28;01mfor\u001b[39;00m _ \u001b[38;5;129;01min\u001b[39;00m \u001b[38;5;28mrange\u001b[39m(\u001b[38;5;28mlen\u001b[39m(data)):\n\u001b[1;32m     19\u001b[0m             \u001b[38;5;66;03m# print(f'{self.classname} :: {sys._getframe().f_lineno}')\u001b[39;00m\n",
      "\u001b[0;31mNameError\u001b[0m: name 'Deque' is not defined"
     ]
    }
   ],
   "source": [
    "class DataSaver:\n",
    "    \"\"\"\n",
    "    Note.\n",
    "      1. 버퍼역할을 하는 deque 또는 queue가 없이 사용시 DataSaver class 실행시 일부 데이터 누락이 발생했다.\n",
    "         버퍼역할을 추가하고 다시 테스트 해볼필요가 있다.\n",
    "    \"\"\"\n",
    "    def __init__(self, maxlen :int = 5_000):\n",
    "        self.deque :Deque[list] = deque(maxlen=maxlen)\n",
    "        self.maxlen = maxlen\n",
    "        self.timestamp_start = None\n",
    "        self.timestamp_end = None\n",
    "        self.edited_data = None\n",
    "        self.classname = self.__class__.__name__\n",
    "\n",
    "    async def process(self, data :Deque):\n",
    "        if data:\n",
    "            # print(f'{cls.classname_} :: {sys._getframe().f_lineno}')\n",
    "            for _ in range(len(data)):\n",
    "                # print(f'{self.classname} :: {sys._getframe().f_lineno}')\n",
    "                popLeft = data.popleft()\n",
    "                print(popLeft)\n",
    "                edited_data = await edit_data(popLeft)\n",
    "                print(edited_data)\n",
    "                print(f'{self.classname} :: {sys._getframe().f_lineno}')\n",
    "                if self.deque:\n",
    "                    # print(f'{self.classname} :: {sys._getframe().f_lineno}')\n",
    "                    index_last_data = self.deque[-1].copy()\n",
    "                    # print(f'{self.classname} :: {sys._getframe().f_lineno}')\n",
    "                    check_timestamp = edited_data['trade_timestamp'] == index_last_data['trade_timestamp']\n",
    "                    # print(f'{self.classname} :: {sys._getframe().f_lineno}')\n",
    "                    check_price = edited_data['trade_price'] == index_last_data['trade_price']\n",
    "                    # print(f'{self.classname} :: {sys._getframe().f_lineno}')\n",
    "\n",
    "                    if all([check_timestamp, check_price]):\n",
    "                        # print(f'{self.classname} :: {sys._getframe().f_lineno}')\n",
    "                        self.deque.pop()\n",
    "                        # print(f'{self.classname} :: {sys._getframe().f_lineno}')\n",
    "                        index_last_data.update({'volume_ask': edited_data['volume_ask'] + index_last_data['volume_ask'],\n",
    "                                                'volume_bid': edited_data['volume_bid'] + index_last_data['volume_bid'],\n",
    "                                                'count_ask' : edited_data['count_ask'] + index_last_data['count_ask'],\n",
    "                                                'count_bid' : edited_data['count_bid'] + index_last_data['count_bid']})\n",
    "                        # print(f'{self.classname} :: {sys._getframe().f_lineno}')\n",
    "                        self.deque.append(index_last_data)\n",
    "                        # print(self.deque[-1])\n",
    "                        # print(f'{self.classname} :: {sys._getframe().f_lineno}')\n",
    "                    else:\n",
    "                        # print(f'{self.classname} :: {sys._getframe().f_lineno}')\n",
    "                        self.deque.append(edited_data)\n",
    "                else:\n",
    "                    # print(f'{self.classname} :: {sys._getframe().f_lineno}')\n",
    "                    self.deque.append(edited_data)\n",
    "                    # print(f'{self.classname} :: {sys._getframe().f_lineno}')\n",
    "                    self.timestamp_start = edited_data['trade_timestamp']\n",
    "                    # print(f'{self.classname} :: {sys._getframe().f_lineno}')\n",
    "\n",
    "        if len(self.deque) >= self.maxlen:\n",
    "            # print(f'{self.classname} :: {sys._getframe().f_lineno}')\n",
    "            directory_ = os.path.join(os.path.dirname(os.getcwd()), 'DataBase', self.deque[0]['code'])\n",
    "            # print(f'{self.classname} :: {sys._getframe().f_lineno}')\n",
    "            file_ = str(int(self.deque[0]['trade_timestamp'])) + '.json'\n",
    "            # print(f'{self.classname} :: {sys._getframe().f_lineno}')\n",
    "            if not os.path.exists(directory_):\n",
    "                os.makedirs(directory_)\n",
    "            path_ = os.path.join(directory_, file_)\n",
    "            # print(f'{self.classname} :: {sys._getframe().f_lineno}')\n",
    "            await save_to_file(data=list(self.deque), path=path_)\n",
    "            # print(f'{self.classname} :: {sys._getframe().f_lineno}')\n",
    "            self.deque.clear()"
   ]
  },
  {
   "cell_type": "code",
   "execution_count": 3,
   "id": "c2bff20a-b917-47f3-b358-1823b59c0b7d",
   "metadata": {
    "jupyter": {
     "source_hidden": true
    }
   },
   "outputs": [],
   "source": [
    "class DataSaver:\n",
    "    \"\"\"\n",
    "    Note.\n",
    "      1. 버퍼역할을 하는 deque 또는 queue가 없이 사용시 DataSaver class 실행시 일부 데이터 누락이 발생했다.\n",
    "         버퍼역할을 추가하고 다시 테스트 해볼필요가 있다.\n",
    "    \"\"\"\n",
    "    def __init__(self, maxlen :int = 5_000):\n",
    "        self.deque :Deque[list] = deque(maxlen=maxlen)\n",
    "        self.maxlen = maxlen\n",
    "        self.timestamp_start = None\n",
    "        self.timestamp_end = None\n",
    "        self.edited_data = None\n",
    "        self.classname = self.__class__.__name__\n",
    "\n",
    "    async def process(self, data):\n",
    "        if data:\n",
    "            print(f'{cls.classname_} :: {sys._getframe().f_lineno}')\n",
    "            for _ in range(len(data)):\n",
    "                print(f'{self.classname} :: {sys._getframe().f_lineno}')\n",
    "                popLeft = data.popleft()\n",
    "                print(popLeft)\n",
    "                edited_data = await edit_data(popLeft)\n",
    "                print(edited_data)\n",
    "                print(f'{self.classname} :: {sys._getframe().f_lineno}')\n",
    "                if self.deque:\n",
    "                    print(f'{self.classname} :: {sys._getframe().f_lineno}')\n",
    "                    index_last_data = self.deque[-1].copy()\n",
    "                    print(f'{self.classname} :: {sys._getframe().f_lineno}')\n",
    "                    check_timestamp = edited_data['trade_timestamp'] == index_last_data['trade_timestamp']\n",
    "                    print(f'{self.classname} :: {sys._getframe().f_lineno}')\n",
    "                    check_price = edited_data['trade_price'] == index_last_data['trade_price']\n",
    "                    print(f'{self.classname} :: {sys._getframe().f_lineno}')\n",
    "\n",
    "                    if all([check_timestamp, check_price]):\n",
    "                        print(f'{self.classname} :: {sys._getframe().f_lineno}')\n",
    "                        self.deque.pop()\n",
    "                        print(f'{self.classname} :: {sys._getframe().f_lineno}')\n",
    "                        index_last_data.update({'volume_ask': edited_data['volume_ask'] + index_last_data['volume_ask'],\n",
    "                                                'volume_bid': edited_data['volume_bid'] + index_last_data['volume_bid'],\n",
    "                                                'count_ask' : edited_data['count_ask'] + index_last_data['count_ask'],\n",
    "                                                'count_bid' : edited_data['count_bid'] + index_last_data['count_bid']})\n",
    "                        print(f'{self.classname} :: {sys._getframe().f_lineno}')\n",
    "                        self.deque.append(index_last_data)\n",
    "                        print(self.deque[-1])\n",
    "                        print(f'{self.classname} :: {sys._getframe().f_lineno}')\n",
    "                    else:\n",
    "                        print(f'{self.classname} :: {sys._getframe().f_lineno}')\n",
    "                        self.deque.append(edited_data)\n",
    "                else:\n",
    "                    print(f'{self.classname} :: {sys._getframe().f_lineno}')\n",
    "                    self.deque.append(edited_data)\n",
    "                    print(f'{self.classname} :: {sys._getframe().f_lineno}')\n",
    "                    self.timestamp_start = edited_data['trade_timestamp']\n",
    "                    print(f'{self.classname} :: {sys._getframe().f_lineno}')\n",
    "\n",
    "        if len(self.deque) >= self.maxlen:\n",
    "            print(f'{self.classname} :: {sys._getframe().f_lineno}')\n",
    "            directory_ = os.path.join(os.path.dirname(os.getcwd()), 'DataBase', self.deque[0]['code'])\n",
    "            print(f'{self.classname} :: {sys._getframe().f_lineno}')\n",
    "            file_ = str(int(self.deque[0]['trade_timestamp'])) + '.json'\n",
    "            print(f'{self.classname} :: {sys._getframe().f_lineno}')\n",
    "            if not os.path.exists(directory_):\n",
    "                os.makedirs(directory_)\n",
    "            path_ = os.path.join(directory_, file_)\n",
    "            print(f'{self.classname} :: {sys._getframe().f_lineno}')\n",
    "            await save_to_file(data=list(self.deque), path=path_)\n",
    "            print(f'{self.classname} :: {sys._getframe().f_lineno}')\n",
    "            self.deque.clear()"
   ]
  },
  {
   "cell_type": "code",
   "execution_count": 19,
   "id": "f0f11243-ac3f-4134-a44f-a6d2c83e04c7",
   "metadata": {},
   "outputs": [],
   "source": [
    "data = DataSaver()"
   ]
  },
  {
   "cell_type": "code",
   "execution_count": 20,
   "id": "5eb22960-64a7-443c-abf5-96121d2bf664",
   "metadata": {},
   "outputs": [],
   "source": [
    "from collections import deque\n",
    "from collections import deque"
   ]
  },
  {
   "cell_type": "code",
   "execution_count": 21,
   "id": "beed7fd4-9c81-48bc-82b2-755ce2aa84c1",
   "metadata": {},
   "outputs": [
    {
     "data": {
      "text/plain": [
       "<__main__.DataSaver at 0x110382e40>"
      ]
     },
     "execution_count": 21,
     "metadata": {},
     "output_type": "execute_result"
    }
   ],
   "source": [
    "data"
   ]
  },
  {
   "cell_type": "code",
   "execution_count": 22,
   "id": "77a54bd9-3bc3-402c-b813-2a05f7feb03d",
   "metadata": {},
   "outputs": [],
   "source": [
    "from collections import deque\n",
    "data = DataSaver()\n",
    "temp = {'trade_timestamp':123123,\n",
    "        'trade_price':1231412,\n",
    "        'ask_bid':'BID',\n",
    "        'trade_volume':5123,\n",
    "        'code':'KRW-BTC'}\n",
    "await data.process(temp)"
   ]
  },
  {
   "cell_type": "code",
   "execution_count": 23,
   "id": "ebafb473-380a-435b-af8b-277e6eacd22a",
   "metadata": {},
   "outputs": [
    {
     "ename": "NameError",
     "evalue": "name 'cls' is not defined",
     "output_type": "error",
     "traceback": [
      "\u001b[0;31m---------------------------------------------------------------------------\u001b[0m",
      "\u001b[0;31mNameError\u001b[0m                                 Traceback (most recent call last)",
      "Cell \u001b[0;32mIn[23], line 1\u001b[0m\n\u001b[0;32m----> 1\u001b[0m \u001b[38;5;28;01mawait\u001b[39;00m data\u001b[38;5;241m.\u001b[39mprocess(data)\n",
      "Cell \u001b[0;32mIn[3], line 17\u001b[0m, in \u001b[0;36mDataSaver.process\u001b[0;34m(self, data)\u001b[0m\n\u001b[1;32m     15\u001b[0m \u001b[38;5;28;01masync\u001b[39;00m \u001b[38;5;28;01mdef\u001b[39;00m \u001b[38;5;21mprocess\u001b[39m(\u001b[38;5;28mself\u001b[39m, data):\n\u001b[1;32m     16\u001b[0m     \u001b[38;5;28;01mif\u001b[39;00m data:\n\u001b[0;32m---> 17\u001b[0m         \u001b[38;5;28mprint\u001b[39m(\u001b[38;5;124mf\u001b[39m\u001b[38;5;124m'\u001b[39m\u001b[38;5;132;01m{\u001b[39;00m\u001b[38;5;28;43mcls\u001b[39;49m\u001b[38;5;241m.\u001b[39mclassname_\u001b[38;5;132;01m}\u001b[39;00m\u001b[38;5;124m :: \u001b[39m\u001b[38;5;132;01m{\u001b[39;00msys\u001b[38;5;241m.\u001b[39m_getframe()\u001b[38;5;241m.\u001b[39mf_lineno\u001b[38;5;132;01m}\u001b[39;00m\u001b[38;5;124m'\u001b[39m)\n\u001b[1;32m     18\u001b[0m         \u001b[38;5;28;01mfor\u001b[39;00m _ \u001b[38;5;129;01min\u001b[39;00m \u001b[38;5;28mrange\u001b[39m(\u001b[38;5;28mlen\u001b[39m(data)):\n\u001b[1;32m     19\u001b[0m             \u001b[38;5;28mprint\u001b[39m(\u001b[38;5;124mf\u001b[39m\u001b[38;5;124m'\u001b[39m\u001b[38;5;132;01m{\u001b[39;00m\u001b[38;5;28mself\u001b[39m\u001b[38;5;241m.\u001b[39mclassname\u001b[38;5;132;01m}\u001b[39;00m\u001b[38;5;124m :: \u001b[39m\u001b[38;5;132;01m{\u001b[39;00msys\u001b[38;5;241m.\u001b[39m_getframe()\u001b[38;5;241m.\u001b[39mf_lineno\u001b[38;5;132;01m}\u001b[39;00m\u001b[38;5;124m'\u001b[39m)\n",
      "\u001b[0;31mNameError\u001b[0m: name 'cls' is not defined"
     ]
    }
   ],
   "source": [
    "await data.process(data)"
   ]
  },
  {
   "cell_type": "code",
   "execution_count": 24,
   "id": "ec57f7d3-1868-4025-b572-d0182167f0a3",
   "metadata": {},
   "outputs": [
    {
     "ename": "NameError",
     "evalue": "name 'Deque' is not defined",
     "output_type": "error",
     "traceback": [
      "\u001b[0;31m---------------------------------------------------------------------------\u001b[0m",
      "\u001b[0;31mNameError\u001b[0m                                 Traceback (most recent call last)",
      "Cell \u001b[0;32mIn[24], line 1\u001b[0m\n\u001b[0;32m----> 1\u001b[0m \u001b[38;5;28;43;01mclass\u001b[39;49;00m\u001b[43m \u001b[49m\u001b[38;5;21;43;01mDataSaver\u001b[39;49;00m\u001b[43m:\u001b[49m\n\u001b[1;32m      2\u001b[0m \u001b[38;5;250;43m    \u001b[39;49m\u001b[38;5;124;43;03m\"\"\"\u001b[39;49;00m\n\u001b[1;32m      3\u001b[0m \u001b[38;5;124;43;03m    Note.\u001b[39;49;00m\n\u001b[1;32m      4\u001b[0m \u001b[38;5;124;43;03m      1. 버퍼역할을 하는 deque 또는 queue가 없이 사용시 DataSaver class 실행시 일부 데이터 누락이 발생했다.\u001b[39;49;00m\n\u001b[1;32m      5\u001b[0m \u001b[38;5;124;43;03m         버퍼역할을 추가하고 다시 테스트 해볼필요가 있다.\u001b[39;49;00m\n\u001b[1;32m      6\u001b[0m \u001b[38;5;124;43;03m    \"\"\"\u001b[39;49;00m\n\u001b[1;32m      7\u001b[0m \u001b[43m    \u001b[49m\u001b[38;5;28;43;01mdef\u001b[39;49;00m\u001b[43m \u001b[49m\u001b[38;5;21;43m__init__\u001b[39;49m\u001b[43m(\u001b[49m\u001b[38;5;28;43mself\u001b[39;49m\u001b[43m,\u001b[49m\u001b[43m \u001b[49m\u001b[43mmaxlen\u001b[49m\u001b[43m \u001b[49m\u001b[43m:\u001b[49m\u001b[38;5;28;43mint\u001b[39;49m\u001b[43m \u001b[49m\u001b[38;5;241;43m=\u001b[39;49m\u001b[43m \u001b[49m\u001b[38;5;241;43m5_000\u001b[39;49m\u001b[43m)\u001b[49m\u001b[43m:\u001b[49m\n",
      "Cell \u001b[0;32mIn[24], line 15\u001b[0m, in \u001b[0;36mDataSaver\u001b[0;34m()\u001b[0m\n\u001b[1;32m     12\u001b[0m     \u001b[38;5;28mself\u001b[39m\u001b[38;5;241m.\u001b[39medited_data \u001b[38;5;241m=\u001b[39m \u001b[38;5;28;01mNone\u001b[39;00m\n\u001b[1;32m     13\u001b[0m     \u001b[38;5;28mself\u001b[39m\u001b[38;5;241m.\u001b[39mclassname \u001b[38;5;241m=\u001b[39m \u001b[38;5;28mself\u001b[39m\u001b[38;5;241m.\u001b[39m\u001b[38;5;18m__class__\u001b[39m\u001b[38;5;241m.\u001b[39m\u001b[38;5;18m__name__\u001b[39m\n\u001b[0;32m---> 15\u001b[0m \u001b[38;5;28;01masync\u001b[39;00m \u001b[38;5;28;01mdef\u001b[39;00m \u001b[38;5;21mprocess\u001b[39m(\u001b[38;5;28mself\u001b[39m, data :\u001b[43mDeque\u001b[49m):\n\u001b[1;32m     16\u001b[0m     \u001b[38;5;28;01mif\u001b[39;00m data:\n\u001b[1;32m     17\u001b[0m         \u001b[38;5;66;03m# print(f'{cls.classname_} :: {sys._getframe().f_lineno}')\u001b[39;00m\n\u001b[1;32m     18\u001b[0m         \u001b[38;5;28;01mfor\u001b[39;00m _ \u001b[38;5;129;01min\u001b[39;00m \u001b[38;5;28mrange\u001b[39m(\u001b[38;5;28mlen\u001b[39m(data)):\n\u001b[1;32m     19\u001b[0m             \u001b[38;5;66;03m# print(f'{self.classname} :: {sys._getframe().f_lineno}')\u001b[39;00m\n",
      "\u001b[0;31mNameError\u001b[0m: name 'Deque' is not defined"
     ]
    }
   ],
   "source": [
    "class DataSaver:\n",
    "    \"\"\"\n",
    "    Note.\n",
    "      1. 버퍼역할을 하는 deque 또는 queue가 없이 사용시 DataSaver class 실행시 일부 데이터 누락이 발생했다.\n",
    "         버퍼역할을 추가하고 다시 테스트 해볼필요가 있다.\n",
    "    \"\"\"\n",
    "    def __init__(self, maxlen :int = 5_000):\n",
    "        self.deque :Deque[list] = deque(maxlen=maxlen)\n",
    "        self.maxlen = maxlen\n",
    "        self.timestamp_start = None\n",
    "        self.timestamp_end = None\n",
    "        self.edited_data = None\n",
    "        self.classname = self.__class__.__name__\n",
    "\n",
    "    async def process(self, data :Deque):\n",
    "        if data:\n",
    "            # print(f'{cls.classname_} :: {sys._getframe().f_lineno}')\n",
    "            for _ in range(len(data)):\n",
    "                # print(f'{self.classname} :: {sys._getframe().f_lineno}')\n",
    "                popLeft = data.popleft()\n",
    "                print(popLeft)\n",
    "                edited_data = await edit_data(popLeft)\n",
    "                print(edited_data)\n",
    "                print(f'{self.classname} :: {sys._getframe().f_lineno}')\n",
    "                if self.deque:\n",
    "                    # print(f'{self.classname} :: {sys._getframe().f_lineno}')\n",
    "                    index_last_data = self.deque[-1].copy()\n",
    "                    # print(f'{self.classname} :: {sys._getframe().f_lineno}')\n",
    "                    check_timestamp = edited_data['trade_timestamp'] == index_last_data['trade_timestamp']\n",
    "                    # print(f'{self.classname} :: {sys._getframe().f_lineno}')\n",
    "                    check_price = edited_data['trade_price'] == index_last_data['trade_price']\n",
    "                    # print(f'{self.classname} :: {sys._getframe().f_lineno}')\n",
    "\n",
    "                    if all([check_timestamp, check_price]):\n",
    "                        # print(f'{self.classname} :: {sys._getframe().f_lineno}')\n",
    "                        self.deque.pop()\n",
    "                        # print(f'{self.classname} :: {sys._getframe().f_lineno}')\n",
    "                        index_last_data.update({'volume_ask': edited_data['volume_ask'] + index_last_data['volume_ask'],\n",
    "                                                'volume_bid': edited_data['volume_bid'] + index_last_data['volume_bid'],\n",
    "                                                'count_ask' : edited_data['count_ask'] + index_last_data['count_ask'],\n",
    "                                                'count_bid' : edited_data['count_bid'] + index_last_data['count_bid']})\n",
    "                        # print(f'{self.classname} :: {sys._getframe().f_lineno}')\n",
    "                        self.deque.append(index_last_data)\n",
    "                        # print(self.deque[-1])\n",
    "                        # print(f'{self.classname} :: {sys._getframe().f_lineno}')\n",
    "                    else:\n",
    "                        # print(f'{self.classname} :: {sys._getframe().f_lineno}')\n",
    "                        self.deque.append(edited_data)\n",
    "                else:\n",
    "                    # print(f'{self.classname} :: {sys._getframe().f_lineno}')\n",
    "                    self.deque.append(edited_data)\n",
    "                    # print(f'{self.classname} :: {sys._getframe().f_lineno}')\n",
    "                    self.timestamp_start = edited_data['trade_timestamp']\n",
    "                    # print(f'{self.classname} :: {sys._getframe().f_lineno}')\n",
    "\n",
    "        if len(self.deque) >= self.maxlen:\n",
    "            # print(f'{self.classname} :: {sys._getframe().f_lineno}')\n",
    "            directory_ = os.path.join(os.path.dirname(os.getcwd()), 'DataBase', self.deque[0]['code'])\n",
    "            # print(f'{self.classname} :: {sys._getframe().f_lineno}')\n",
    "            file_ = str(int(self.deque[0]['trade_timestamp'])) + '.json'\n",
    "            # print(f'{self.classname} :: {sys._getframe().f_lineno}')\n",
    "            if not os.path.exists(directory_):\n",
    "                os.makedirs(directory_)\n",
    "            path_ = os.path.join(directory_, file_)\n",
    "            # print(f'{self.classname} :: {sys._getframe().f_lineno}')\n",
    "            await save_to_file(data=list(self.deque), path=path_)\n",
    "            # print(f'{self.classname} :: {sys._getframe().f_lineno}')\n",
    "            self.deque.clear()"
   ]
  },
  {
   "cell_type": "code",
   "execution_count": 25,
   "id": "94819d9e-0cdf-4ac0-acaa-a10748773faf",
   "metadata": {},
   "outputs": [],
   "source": [
    "class DataSaver:\n",
    "    \"\"\"\n",
    "    Note.\n",
    "      1. 버퍼역할을 하는 deque 또는 queue가 없이 사용시 DataSaver class 실행시 일부 데이터 누락이 발생했다.\n",
    "         버퍼역할을 추가하고 다시 테스트 해볼필요가 있다.\n",
    "    \"\"\"\n",
    "    def __init__(self, maxlen :int = 5_000):\n",
    "        self.deque :Deque[list] = deque(maxlen=maxlen)\n",
    "        self.maxlen = maxlen\n",
    "        self.timestamp_start = None\n",
    "        self.timestamp_end = None\n",
    "        self.edited_data = None\n",
    "        self.classname = self.__class__.__name__\n",
    "\n",
    "    async def process(self, data):# :Deque):\n",
    "        if data:\n",
    "            # print(f'{cls.classname_} :: {sys._getframe().f_lineno}')\n",
    "            for _ in range(len(data)):\n",
    "                # print(f'{self.classname} :: {sys._getframe().f_lineno}')\n",
    "                popLeft = data.popleft()\n",
    "                print(popLeft)\n",
    "                edited_data = await edit_data(popLeft)\n",
    "                print(edited_data)\n",
    "                print(f'{self.classname} :: {sys._getframe().f_lineno}')\n",
    "                if self.deque:\n",
    "                    # print(f'{self.classname} :: {sys._getframe().f_lineno}')\n",
    "                    index_last_data = self.deque[-1].copy()\n",
    "                    # print(f'{self.classname} :: {sys._getframe().f_lineno}')\n",
    "                    check_timestamp = edited_data['trade_timestamp'] == index_last_data['trade_timestamp']\n",
    "                    # print(f'{self.classname} :: {sys._getframe().f_lineno}')\n",
    "                    check_price = edited_data['trade_price'] == index_last_data['trade_price']\n",
    "                    # print(f'{self.classname} :: {sys._getframe().f_lineno}')\n",
    "\n",
    "                    if all([check_timestamp, check_price]):\n",
    "                        # print(f'{self.classname} :: {sys._getframe().f_lineno}')\n",
    "                        self.deque.pop()\n",
    "                        # print(f'{self.classname} :: {sys._getframe().f_lineno}')\n",
    "                        index_last_data.update({'volume_ask': edited_data['volume_ask'] + index_last_data['volume_ask'],\n",
    "                                                'volume_bid': edited_data['volume_bid'] + index_last_data['volume_bid'],\n",
    "                                                'count_ask' : edited_data['count_ask'] + index_last_data['count_ask'],\n",
    "                                                'count_bid' : edited_data['count_bid'] + index_last_data['count_bid']})\n",
    "                        # print(f'{self.classname} :: {sys._getframe().f_lineno}')\n",
    "                        self.deque.append(index_last_data)\n",
    "                        # print(self.deque[-1])\n",
    "                        # print(f'{self.classname} :: {sys._getframe().f_lineno}')\n",
    "                    else:\n",
    "                        # print(f'{self.classname} :: {sys._getframe().f_lineno}')\n",
    "                        self.deque.append(edited_data)\n",
    "                else:\n",
    "                    # print(f'{self.classname} :: {sys._getframe().f_lineno}')\n",
    "                    self.deque.append(edited_data)\n",
    "                    # print(f'{self.classname} :: {sys._getframe().f_lineno}')\n",
    "                    self.timestamp_start = edited_data['trade_timestamp']\n",
    "                    # print(f'{self.classname} :: {sys._getframe().f_lineno}')\n",
    "\n",
    "        if len(self.deque) >= self.maxlen:\n",
    "            # print(f'{self.classname} :: {sys._getframe().f_lineno}')\n",
    "            directory_ = os.path.join(os.path.dirname(os.getcwd()), 'DataBase', self.deque[0]['code'])\n",
    "            # print(f'{self.classname} :: {sys._getframe().f_lineno}')\n",
    "            file_ = str(int(self.deque[0]['trade_timestamp'])) + '.json'\n",
    "            # print(f'{self.classname} :: {sys._getframe().f_lineno}')\n",
    "            if not os.path.exists(directory_):\n",
    "                os.makedirs(directory_)\n",
    "            path_ = os.path.join(directory_, file_)\n",
    "            # print(f'{self.classname} :: {sys._getframe().f_lineno}')\n",
    "            await save_to_file(data=list(self.deque), path=path_)\n",
    "            # print(f'{self.classname} :: {sys._getframe().f_lineno}')\n",
    "            self.deque.clear()"
   ]
  },
  {
   "cell_type": "code",
   "execution_count": 28,
   "id": "ea879118-d03b-46a3-8597-54c025eb50ba",
   "metadata": {},
   "outputs": [],
   "source": [
    "from collections import deque\n",
    "data = DataSaver()\n",
    "deque_ = deque()\n",
    "temp = {'trade_timestamp':123123,\n",
    "        'trade_price':1231412,\n",
    "        'ask_bid':'BID',\n",
    "        'trade_volume':5123,\n",
    "        'code':'KRW-BTC'}\n",
    "deque_.append(temp)\n",
    "# await data.process(temp)"
   ]
  },
  {
   "cell_type": "code",
   "execution_count": 32,
   "id": "1b40978e-2f52-4b22-9979-98328000d6a0",
   "metadata": {},
   "outputs": [
    {
     "data": {
      "text/plain": [
       "deque([])"
      ]
     },
     "execution_count": 32,
     "metadata": {},
     "output_type": "execute_result"
    }
   ],
   "source": [
    "deque_"
   ]
  },
  {
   "cell_type": "code",
   "execution_count": 35,
   "id": "0c7c0ad1-320a-4f0e-80c5-621bd335c035",
   "metadata": {},
   "outputs": [],
   "source": [
    "async def edit_data(data):\n",
    "    edited_data = {\n",
    "        'code'           : str(data['code']),\n",
    "        'trade_timestamp': float(data['trade_timestamp']),\n",
    "        'trade_price'    : float(data['trade_price']),\n",
    "        'volume_ask'     : float(data['trade_volume'] if data['ask_bid'] == 'ASK' else 0),\n",
    "        'volume_bid'     : float(data['trade_volume'] if data['ask_bid'] == 'BID' else 0),\n",
    "        'count_ask'      : int(1 if data['ask_bid'] == 'ASK' else 0),\n",
    "        'count_bid'      : int(1 if data['ask_bid'] == 'BID' else 0),\n",
    "        'seller'         : int(1 if data['ask_bid'] == 'ASK' else 0),\n",
    "        'buyer'          : int(1 if data['ask_bid'] == 'BID' else 0)}\n",
    "    return edited_data\n",
    "\n",
    "await data.process(deque_)"
   ]
  },
  {
   "cell_type": "code",
   "execution_count": 36,
   "id": "318c6b10-a2a2-4e31-a438-43b47cc9dd4f",
   "metadata": {},
   "outputs": [
    {
     "data": {
      "text/plain": [
       "deque([], maxlen=5000)"
      ]
     },
     "execution_count": 36,
     "metadata": {},
     "output_type": "execute_result"
    }
   ],
   "source": [
    "data.deque"
   ]
  },
  {
   "cell_type": "code",
   "execution_count": 45,
   "id": "6d7547dd-90ef-42d7-947c-cc8220bc27b4",
   "metadata": {},
   "outputs": [
    {
     "data": {
      "text/plain": [
       "deque([], maxlen=5000)"
      ]
     },
     "execution_count": 45,
     "metadata": {},
     "output_type": "execute_result"
    }
   ],
   "source": [
    "class DataSaver:\n",
    "    \"\"\"\n",
    "    Note.\n",
    "      1. 버퍼역할을 하는 deque 또는 queue가 없이 사용시 DataSaver class 실행시 일부 데이터 누락이 발생했다.\n",
    "         버퍼역할을 추가하고 다시 테스트 해볼필요가 있다.\n",
    "    \"\"\"\n",
    "    def __init__(self, maxlen :int = 5_000):\n",
    "        self.deque :Deque[list] = deque(maxlen=maxlen)\n",
    "        self.maxlen = maxlen\n",
    "        self.timestamp_start = None\n",
    "        self.timestamp_end = None\n",
    "        self.edited_data = None\n",
    "        self.classname = self.__class__.__name__\n",
    "\n",
    "    async def process(self, data):# :Deque):\n",
    "        if data:\n",
    "            # print(f'{cls.classname_} :: {sys._getframe().f_lineno}')\n",
    "            for _ in range(len(data)):\n",
    "                # print(f'{self.classname} :: {sys._getframe().f_lineno}')\n",
    "                popLeft = data.popleft()\n",
    "                # print(popLeft)\n",
    "                edited_data = await edit_data(popLeft)\n",
    "                # print(edited_data)\n",
    "                # print(f'{self.classname} :: {sys._getframe().f_lineno}')\n",
    "                if self.deque:\n",
    "                    # print(f'{self.classname} :: {sys._getframe().f_lineno}')\n",
    "                    index_last_data = self.deque[-1].copy()\n",
    "                    # print(f'{self.classname} :: {sys._getframe().f_lineno}')\n",
    "                    check_timestamp = edited_data['trade_timestamp'] == index_last_data['trade_timestamp']\n",
    "                    # print(f'{self.classname} :: {sys._getframe().f_lineno}')\n",
    "                    check_price = edited_data['trade_price'] == index_last_data['trade_price']\n",
    "                    # print(f'{self.classname} :: {sys._getframe().f_lineno}')\n",
    "\n",
    "                    if all([check_timestamp, check_price]):\n",
    "                        # print(f'{self.classname} :: {sys._getframe().f_lineno}')\n",
    "                        self.deque.pop()\n",
    "                        # print(f'{self.classname} :: {sys._getframe().f_lineno}')\n",
    "                        index_last_data.update({'volume_ask': edited_data['volume_ask'] + index_last_data['volume_ask'],\n",
    "                                                'volume_bid': edited_data['volume_bid'] + index_last_data['volume_bid'],\n",
    "                                                'count_ask' : edited_data['count_ask'] + index_last_data['count_ask'],\n",
    "                                                'count_bid' : edited_data['count_bid'] + index_last_data['count_bid']})\n",
    "                        # print(f'{self.classname} :: {sys._getframe().f_lineno}')\n",
    "                        self.deque.append(index_last_data)\n",
    "                        # print(self.deque[-1])\n",
    "                        # print(f'{self.classname} :: {sys._getframe().f_lineno}')\n",
    "                    else:\n",
    "                        # print(f'{self.classname} :: {sys._getframe().f_lineno}')\n",
    "                        self.deque.append(edited_data)\n",
    "                else:\n",
    "                    # print(f'{self.classname} :: {sys._getframe().f_lineno}')\n",
    "                    self.deque.append(edited_data)\n",
    "                    # print(f'{self.classname} :: {sys._getframe().f_lineno}')\n",
    "                    self.timestamp_start = edited_data['trade_timestamp']\n",
    "                    # print(f'{self.classname} :: {sys._getframe().f_lineno}')\n",
    "\n",
    "        if len(self.deque) >= self.maxlen:\n",
    "            # print(f'{self.classname} :: {sys._getframe().f_lineno}')\n",
    "            directory_ = os.path.join(os.path.dirname(os.getcwd()), 'DataBase', self.deque[0]['code'])\n",
    "            # print(f'{self.classname} :: {sys._getframe().f_lineno}')\n",
    "            file_ = str(int(self.deque[0]['trade_timestamp'])) + '.json'\n",
    "            # print(f'{self.classname} :: {sys._getframe().f_lineno}')\n",
    "            if not os.path.exists(directory_):\n",
    "                os.makedirs(directory_)\n",
    "            path_ = os.path.join(directory_, file_)\n",
    "            # print(f'{self.classname} :: {sys._getframe().f_lineno}')\n",
    "            await save_to_file(data=list(self.deque), path=path_)\n",
    "            # print(f'{self.classname} :: {sys._getframe().f_lineno}')\n",
    "            self.deque.clear()\n",
    "\n",
    "async def edit_data(data):\n",
    "    edited_data = {\n",
    "        'code'           : str(data['code']),\n",
    "        'trade_timestamp': float(data['trade_timestamp']),\n",
    "        'trade_price'    : float(data['trade_price']),\n",
    "        'volume_ask'     : float(data['trade_volume'] if data['ask_bid'] == 'ASK' else 0),\n",
    "        'volume_bid'     : float(data['trade_volume'] if data['ask_bid'] == 'BID' else 0),\n",
    "        'count_ask'      : int(1 if data['ask_bid'] == 'ASK' else 0),\n",
    "        'count_bid'      : int(1 if data['ask_bid'] == 'BID' else 0),\n",
    "        'seller'         : int(1 if data['ask_bid'] == 'ASK' else 0),\n",
    "        'buyer'          : int(1 if data['ask_bid'] == 'BID' else 0)}\n",
    "    return edited_data\n",
    "\n",
    "await data.process(deque_)\n",
    "data.deque"
   ]
  },
  {
   "cell_type": "code",
   "execution_count": 46,
   "id": "86dd9a06-ab4b-4f7f-bdfa-b008695e44ad",
   "metadata": {},
   "outputs": [
    {
     "data": {
      "text/plain": [
       "deque([])"
      ]
     },
     "execution_count": 46,
     "metadata": {},
     "output_type": "execute_result"
    }
   ],
   "source": [
    "deque_"
   ]
  },
  {
   "cell_type": "code",
   "execution_count": 47,
   "id": "bed53229-3d31-420a-b817-86f20ab675ba",
   "metadata": {},
   "outputs": [],
   "source": [
    "from collections import deque\n",
    "data = DataSaver()\n",
    "deque_ = deque()\n",
    "temp = {'trade_timestamp':123123,\n",
    "        'trade_price':1231412,\n",
    "        'ask_bid':'BID',\n",
    "        'trade_volume':5123,\n",
    "        'code':'KRW-BTC'}\n",
    "deque_.append(temp)\n",
    "await data.process(deque_)"
   ]
  },
  {
   "cell_type": "code",
   "execution_count": 48,
   "id": "a353ff4d-82ab-4ed6-a6a8-7af8e1b84299",
   "metadata": {},
   "outputs": [
    {
     "data": {
      "text/plain": [
       "deque([{'code': 'KRW-BTC',\n",
       "        'trade_timestamp': 123123.0,\n",
       "        'trade_price': 1231412.0,\n",
       "        'volume_ask': 0.0,\n",
       "        'volume_bid': 5123.0,\n",
       "        'count_ask': 0,\n",
       "        'count_bid': 1,\n",
       "        'seller': 0,\n",
       "        'buyer': 1}],\n",
       "      maxlen=5000)"
      ]
     },
     "execution_count": 48,
     "metadata": {},
     "output_type": "execute_result"
    }
   ],
   "source": [
    "data.deque"
   ]
  },
  {
   "cell_type": "code",
   "execution_count": 51,
   "id": "4c7c235c-2a69-4a85-a983-b77ad55d739d",
   "metadata": {},
   "outputs": [],
   "source": [
    "deque_.append(temp)"
   ]
  },
  {
   "cell_type": "code",
   "execution_count": 52,
   "id": "19c71c25-7c67-4ccf-b1f8-ba411b057633",
   "metadata": {},
   "outputs": [],
   "source": [
    "await data.process(deque_)"
   ]
  },
  {
   "cell_type": "code",
   "execution_count": 53,
   "id": "159d5322-4e03-4c71-9511-0853a60c7b38",
   "metadata": {},
   "outputs": [
    {
     "data": {
      "text/plain": [
       "deque([{'code': 'KRW-BTC',\n",
       "        'trade_timestamp': 123123.0,\n",
       "        'trade_price': 1231412.0,\n",
       "        'volume_ask': 0.0,\n",
       "        'volume_bid': 20492.0,\n",
       "        'count_ask': 0,\n",
       "        'count_bid': 4,\n",
       "        'seller': 0,\n",
       "        'buyer': 1}],\n",
       "      maxlen=5000)"
      ]
     },
     "execution_count": 53,
     "metadata": {},
     "output_type": "execute_result"
    }
   ],
   "source": [
    "data.deque"
   ]
  },
  {
   "cell_type": "code",
   "execution_count": 54,
   "id": "ea591eb3-ba6e-4966-8ade-bf4334a2dabb",
   "metadata": {},
   "outputs": [],
   "source": [
    "from collections import deque, defaultdict"
   ]
  },
  {
   "cell_type": "code",
   "execution_count": 55,
   "id": "653f658e-d976-43b4-a986-0b5aa4a560af",
   "metadata": {},
   "outputs": [],
   "source": [
    "deq_ = defaultdict(deque)"
   ]
  },
  {
   "cell_type": "code",
   "execution_count": 56,
   "id": "408fb2e6-4b63-4fa8-a3b3-9490ecc931bb",
   "metadata": {},
   "outputs": [
    {
     "data": {
      "text/plain": [
       "deque([])"
      ]
     },
     "execution_count": 56,
     "metadata": {},
     "output_type": "execute_result"
    }
   ],
   "source": [
    "deq_['KK']"
   ]
  },
  {
   "cell_type": "code",
   "execution_count": 57,
   "id": "491f570f-8a74-496c-94f0-c461b7c603b9",
   "metadata": {},
   "outputs": [
    {
     "data": {
      "text/plain": [
       "defaultdict(collections.deque, {'KK': deque([])})"
      ]
     },
     "execution_count": 57,
     "metadata": {},
     "output_type": "execute_result"
    }
   ],
   "source": [
    "deq_"
   ]
  },
  {
   "cell_type": "code",
   "execution_count": 58,
   "id": "72a1232b-c92d-49e5-9aba-fc3b0eb8ee21",
   "metadata": {},
   "outputs": [],
   "source": [
    "deq_['KK'].extend('sadf')"
   ]
  },
  {
   "cell_type": "code",
   "execution_count": 59,
   "id": "070cfa16-ae7f-45bb-ae6b-dfc21facac59",
   "metadata": {},
   "outputs": [
    {
     "data": {
      "text/plain": [
       "deque(['s', 'a', 'd', 'f'])"
      ]
     },
     "execution_count": 59,
     "metadata": {},
     "output_type": "execute_result"
    }
   ],
   "source": [
    "deq_['KK']"
   ]
  },
  {
   "cell_type": "code",
   "execution_count": 61,
   "id": "d78a0f57-0732-4097-b614-3f658154c894",
   "metadata": {},
   "outputs": [],
   "source": [
    "deq_['XX'].extend('ABC')"
   ]
  },
  {
   "cell_type": "code",
   "execution_count": 62,
   "id": "73ab4c92-643e-4a3a-9e5a-6bb4cad2e8ea",
   "metadata": {},
   "outputs": [
    {
     "data": {
      "text/plain": [
       "defaultdict(collections.deque,\n",
       "            {'KK': deque(['s', 'a', 'd', 'f']), 'XX': deque(['A', 'B', 'C'])})"
      ]
     },
     "execution_count": 62,
     "metadata": {},
     "output_type": "execute_result"
    }
   ],
   "source": [
    "deq_"
   ]
  },
  {
   "cell_type": "code",
   "execution_count": 63,
   "id": "ad097883-1829-45b4-84e5-864de56d85e7",
   "metadata": {},
   "outputs": [],
   "source": [
    "a = {}"
   ]
  },
  {
   "cell_type": "code",
   "execution_count": 64,
   "id": "d328476e-2ccd-455d-bab0-e02b7697081f",
   "metadata": {},
   "outputs": [],
   "source": [
    "a['KRW-BTC']=123"
   ]
  },
  {
   "cell_type": "code",
   "execution_count": 65,
   "id": "4837af74-564a-494f-b14d-5c5c1d821acd",
   "metadata": {},
   "outputs": [
    {
     "data": {
      "text/plain": [
       "True"
      ]
     },
     "execution_count": 65,
     "metadata": {},
     "output_type": "execute_result"
    }
   ],
   "source": [
    "'KRW-BTC' in a"
   ]
  },
  {
   "cell_type": "code",
   "execution_count": 3,
   "id": "8c041123-090f-4f78-910a-510d8a98d0c2",
   "metadata": {},
   "outputs": [
    {
     "ename": "FileNotFoundError",
     "evalue": "[Errno 2] No such file or directory: '/Users/nnn/Desktop/DataBase'",
     "output_type": "error",
     "traceback": [
      "\u001b[0;31m---------------------------------------------------------------------------\u001b[0m",
      "\u001b[0;31mFileNotFoundError\u001b[0m                         Traceback (most recent call last)",
      "Cell \u001b[0;32mIn[3], line 8\u001b[0m\n\u001b[1;32m      4\u001b[0m \u001b[38;5;28;01mimport\u001b[39;00m \u001b[38;5;21;01mos\u001b[39;00m\n\u001b[1;32m      6\u001b[0m tickers \u001b[38;5;241m=\u001b[39m []\n\u001b[0;32m----> 8\u001b[0m directory_ \u001b[38;5;241m=\u001b[39m \u001b[43mos\u001b[49m\u001b[38;5;241;43m.\u001b[39;49m\u001b[43mlistdir\u001b[49m\u001b[43m(\u001b[49m\u001b[43mos\u001b[49m\u001b[38;5;241;43m.\u001b[39;49m\u001b[43mpath\u001b[49m\u001b[38;5;241;43m.\u001b[39;49m\u001b[43mjoin\u001b[49m\u001b[43m(\u001b[49m\u001b[43mos\u001b[49m\u001b[38;5;241;43m.\u001b[39;49m\u001b[43mpath\u001b[49m\u001b[38;5;241;43m.\u001b[39;49m\u001b[43mdirname\u001b[49m\u001b[43m(\u001b[49m\u001b[43mos\u001b[49m\u001b[38;5;241;43m.\u001b[39;49m\u001b[43mgetcwd\u001b[49m\u001b[43m(\u001b[49m\u001b[43m)\u001b[49m\u001b[43m)\u001b[49m\u001b[43m,\u001b[49m\u001b[43m \u001b[49m\u001b[38;5;124;43m'\u001b[39;49m\u001b[38;5;124;43mDataBase\u001b[39;49m\u001b[38;5;124;43m'\u001b[39;49m\u001b[43m)\u001b[49m\u001b[43m)\u001b[49m\n\u001b[1;32m     10\u001b[0m \u001b[38;5;28;01mfor\u001b[39;00m i \u001b[38;5;129;01min\u001b[39;00m directory_:\n\u001b[1;32m     11\u001b[0m     \u001b[38;5;28;01mif\u001b[39;00m i\u001b[38;5;241m.\u001b[39mstartswith(\u001b[38;5;124m'\u001b[39m\u001b[38;5;124mKRW\u001b[39m\u001b[38;5;124m'\u001b[39m):\n",
      "\u001b[0;31mFileNotFoundError\u001b[0m: [Errno 2] No such file or directory: '/Users/nnn/Desktop/DataBase'"
     ]
    }
   ],
   "source": [
    "import AT_240529\n",
    "import pyupbit as pu\n",
    "import time\n",
    "import os\n",
    "\n",
    "tickers = []\n",
    "\n",
    "directory_ = os.listdir(os.path.join(os.path.dirname(os.getcwd()), 'DataBase'))\n",
    "\n",
    "for i in directory_:\n",
    "    if i.startswith('KRW'):\n",
    "        tickers.append(i)\n",
    "\n",
    "for ticker in tickers:\n",
    "    # ticker= tickers[7]\n",
    "    my_ = AT_240529.DataLoader(ticker=ticker).load()\n",
    "    my_ohlc = await AT_240529.ohlc(my_)\n",
    "    my_ohlc['volume'] = my_ohlc['volume_ask'] + my_ohlc['volume_bid']\n",
    "    up_ohlc = pu.get_ohlcv(ticker, interval='minute1', count=30)\n",
    "    \n",
    "    \n",
    "    \n",
    "    start = str(my_ohlc.iloc[1].name)\n",
    "    end = str(my_ohlc.iloc[-2].name)\n",
    "    \n",
    "    my_ohlc = my_ohlc.loc[start:end].round(7)\n",
    "    up_ohlc = up_ohlc.loc[start:end].round(7)\n",
    "    new_ = my_ohlc['volume'] - up_ohlc['volume']\n",
    "    print('\\n')\n",
    "    print(ticker)\n",
    "    print(new_)\n",
    "    time.sleep(2)\n"
   ]
  },
  {
   "cell_type": "code",
   "execution_count": null,
   "id": "a200fa6e-bc3d-4c11-8e80-57ae5188a4cc",
   "metadata": {},
   "outputs": [],
   "source": [
    "import os"
   ]
  },
  {
   "cell_type": "code",
   "execution_count": 8,
   "id": "5a3b30c6-91bb-42f7-8cb9-c39b240e27ea",
   "metadata": {},
   "outputs": [],
   "source": [
    "directory_ = os.listdir(os.path.join(os.path.dirname(os.getcwd()), 'DataBase'))"
   ]
  },
  {
   "cell_type": "code",
   "execution_count": 9,
   "id": "f5d43c2d-57e9-4243-9249-bdbff46b7c00",
   "metadata": {},
   "outputs": [
    {
     "data": {
      "text/plain": [
       "['KRW-ZIL',\n",
       " 'KRW-GMT',\n",
       " 'KRW-AKT',\n",
       " 'KRW-BTG',\n",
       " 'KRW-STMX',\n",
       " 'KRW-LINK',\n",
       " 'KRW-XEC',\n",
       " 'KRW-AAVE',\n",
       " 'KRW-MBL',\n",
       " 'KRW-BORA',\n",
       " 'KRW-TFUEL',\n",
       " 'KRW-MASK',\n",
       " 'KRW-TON',\n",
       " 'KRW-UPP',\n",
       " 'KRW-MNT',\n",
       " 'KRW-KNC',\n",
       " 'KRW-CBK',\n",
       " 'KRW-DOGE',\n",
       " 'KRW-BTT',\n",
       " 'KRW-XLM',\n",
       " 'KRW-APT',\n",
       " 'KRW-T',\n",
       " 'KRW-WAXP',\n",
       " 'KRW-POLYX',\n",
       " 'KRW-HIVE',\n",
       " 'KRW-TRX',\n",
       " '.DS_Store',\n",
       " 'KRW-WAVES',\n",
       " 'KRW-1INCH',\n",
       " 'KRW-STPT',\n",
       " 'KRW-MANA',\n",
       " 'KRW-BLUR',\n",
       " 'KRW-ZRX',\n",
       " 'KRW-ARK',\n",
       " 'KRW-MTL',\n",
       " 'KRW-ETH',\n",
       " 'KRW-CRO',\n",
       " 'KRW-ARB',\n",
       " 'KRW-SEI',\n",
       " 'KRW-CTC',\n",
       " 'KRW-EGLD',\n",
       " 'KRW-ARDR',\n",
       " 'KRW-ASTR',\n",
       " 'KRW-GRT',\n",
       " 'KRW-STRAX',\n",
       " 'KRW-AVAX',\n",
       " 'KRW-THETA',\n",
       " 'KRW-NEAR',\n",
       " 'KRW-SC',\n",
       " 'KRW-SHIB',\n",
       " 'KRW-MATIC',\n",
       " 'KRW-STORJ',\n",
       " 'KRW-SAND',\n",
       " 'KRW-FLOW',\n",
       " 'KRW-HIFI',\n",
       " 'KRW-GLM',\n",
       " 'KRW-HPO',\n",
       " 'KRW-EOS',\n",
       " 'KRW-SXP',\n",
       " 'KRW-LOOM',\n",
       " 'KRW-ELF',\n",
       " 'KRW-MOC',\n",
       " 'KRW-MLK',\n",
       " 'KRW-ADA',\n",
       " 'KRW-STRIKE',\n",
       " 'KRW-ONG',\n",
       " 'KRW-IMX',\n",
       " 'KRW-IOST',\n",
       " 'KRW-IQ',\n",
       " 'KRW-ID',\n",
       " 'KRW-BTC',\n",
       " 'KRW-VET',\n",
       " 'KRW-SUI',\n",
       " 'KRW-ZETA',\n",
       " 'KRW-GAS',\n",
       " 'KRW-ORBS',\n",
       " 'KRW-ONT',\n",
       " 'KRW-CELO',\n",
       " 'KRW-CHZ',\n",
       " 'KRW-FCT2',\n",
       " 'KRW-XRP',\n",
       " 'KRW-MVL',\n",
       " 'KRW-SBD',\n",
       " 'KRW-ATOM',\n",
       " 'KRW-HUNT',\n",
       " 'KRW-DOT',\n",
       " 'KRW-TT',\n",
       " 'KRW-CVC',\n",
       " 'KRW-SNT',\n",
       " 'KRW-BCH',\n",
       " 'KRW-NEO',\n",
       " 'KRW-XTZ',\n",
       " 'KRW-MINA',\n",
       " 'KRW-KAVA',\n",
       " 'KRW-HBAR',\n",
       " 'KRW-AXS',\n",
       " 'KRW-AERGO',\n",
       " 'KRW-PUNDIX',\n",
       " 'KRW-DKA',\n",
       " 'KRW-AQT',\n",
       " 'KRW-SOL',\n",
       " 'KRW-ETC',\n",
       " 'KRW-STEEM',\n",
       " 'KRW-POWR',\n",
       " 'KRW-LSK',\n",
       " 'KRW-PYTH',\n",
       " 'KRW-GAME2',\n",
       " 'KRW-STX',\n",
       " 'KRW-BSV',\n",
       " 'KRW-QTUM',\n",
       " 'KRW-IOTA',\n",
       " 'KRW-JST',\n",
       " 'KRW-ANKR',\n",
       " 'KRW-ICX',\n",
       " 'KRW-META',\n",
       " 'KRW-ALGO']"
      ]
     },
     "execution_count": 9,
     "metadata": {},
     "output_type": "execute_result"
    }
   ],
   "source": [
    "directory_"
   ]
  },
  {
   "cell_type": "code",
   "execution_count": 1,
   "id": "f3c03f02-78b1-4baf-b498-04f3847a7196",
   "metadata": {},
   "outputs": [
    {
     "name": "stdout",
     "output_type": "stream",
     "text": [
      "\u001b[H\u001b[2J"
     ]
    }
   ],
   "source": [
    "clear"
   ]
  },
  {
   "cell_type": "code",
   "execution_count": 7,
   "id": "a39f1282-ca6b-4cbc-ba60-7adfe1bae4af",
   "metadata": {},
   "outputs": [
    {
     "ename": "KeyError",
     "evalue": "'trade_timestamp'",
     "output_type": "error",
     "traceback": [
      "\u001b[0;31m---------------------------------------------------------------------------\u001b[0m",
      "\u001b[0;31mKeyError\u001b[0m                                  Traceback (most recent call last)",
      "Cell \u001b[0;32mIn[7], line 17\u001b[0m\n\u001b[1;32m     14\u001b[0m \u001b[38;5;28;01mfor\u001b[39;00m ticker \u001b[38;5;129;01min\u001b[39;00m tickers:\n\u001b[1;32m     15\u001b[0m     \u001b[38;5;66;03m# ticker= tickers[7]\u001b[39;00m\n\u001b[1;32m     16\u001b[0m     my_ \u001b[38;5;241m=\u001b[39m AT_240529\u001b[38;5;241m.\u001b[39mDataLoader(ticker\u001b[38;5;241m=\u001b[39mticker)\u001b[38;5;241m.\u001b[39mload()\n\u001b[0;32m---> 17\u001b[0m     my_ohlc \u001b[38;5;241m=\u001b[39m \u001b[38;5;28;01mawait\u001b[39;00m AT_240529\u001b[38;5;241m.\u001b[39mohlc(my_)\n\u001b[1;32m     18\u001b[0m     my_ohlc[\u001b[38;5;124m'\u001b[39m\u001b[38;5;124mvolume\u001b[39m\u001b[38;5;124m'\u001b[39m] \u001b[38;5;241m=\u001b[39m my_ohlc[\u001b[38;5;124m'\u001b[39m\u001b[38;5;124mvolume_ask\u001b[39m\u001b[38;5;124m'\u001b[39m] \u001b[38;5;241m+\u001b[39m my_ohlc[\u001b[38;5;124m'\u001b[39m\u001b[38;5;124mvolume_bid\u001b[39m\u001b[38;5;124m'\u001b[39m]\n\u001b[1;32m     19\u001b[0m     up_ohlc \u001b[38;5;241m=\u001b[39m pu\u001b[38;5;241m.\u001b[39mget_ohlcv(ticker, interval\u001b[38;5;241m=\u001b[39m\u001b[38;5;124m'\u001b[39m\u001b[38;5;124mminute1\u001b[39m\u001b[38;5;124m'\u001b[39m, count\u001b[38;5;241m=\u001b[39m\u001b[38;5;241m30\u001b[39m)\n",
      "File \u001b[0;32m~/Desktop/C_U_AUT/AT_240529.py:38\u001b[0m, in \u001b[0;36mohlc\u001b[0;34m(editData, interval)\u001b[0m\n\u001b[1;32m     36\u001b[0m \u001b[38;5;28;01masync\u001b[39;00m \u001b[38;5;28;01mdef\u001b[39;00m \u001b[38;5;21mohlc\u001b[39m(editData, interval: \u001b[38;5;28mint\u001b[39m \u001b[38;5;241m=\u001b[39m \u001b[38;5;241m1\u001b[39m):\n\u001b[1;32m     37\u001b[0m     df_ \u001b[38;5;241m=\u001b[39m pd\u001b[38;5;241m.\u001b[39mDataFrame(editData)\n\u001b[0;32m---> 38\u001b[0m     df_[\u001b[38;5;124m'\u001b[39m\u001b[38;5;124mdate\u001b[39m\u001b[38;5;124m'\u001b[39m] \u001b[38;5;241m=\u001b[39m pd\u001b[38;5;241m.\u001b[39mto_datetime(\u001b[43mdf_\u001b[49m\u001b[43m[\u001b[49m\u001b[38;5;124;43m'\u001b[39;49m\u001b[38;5;124;43mtrade_timestamp\u001b[39;49m\u001b[38;5;124;43m'\u001b[39;49m\u001b[43m]\u001b[49m, unit\u001b[38;5;241m=\u001b[39m\u001b[38;5;124m'\u001b[39m\u001b[38;5;124mms\u001b[39m\u001b[38;5;124m'\u001b[39m, utc\u001b[38;5;241m=\u001b[39m\u001b[38;5;28;01mTrue\u001b[39;00m)\u001b[38;5;241m.\u001b[39mdt\u001b[38;5;241m.\u001b[39mtz_convert(pytz\u001b[38;5;241m.\u001b[39mtimezone(\u001b[38;5;124m'\u001b[39m\u001b[38;5;124mAsia/Seoul\u001b[39m\u001b[38;5;124m'\u001b[39m))\n\u001b[1;32m     39\u001b[0m     df_\u001b[38;5;241m.\u001b[39mset_index(\u001b[38;5;124m'\u001b[39m\u001b[38;5;124mdate\u001b[39m\u001b[38;5;124m'\u001b[39m, inplace\u001b[38;5;241m=\u001b[39m\u001b[38;5;28;01mTrue\u001b[39;00m)\n\u001b[1;32m     40\u001b[0m     df_\u001b[38;5;241m.\u001b[39mindex \u001b[38;5;241m=\u001b[39m df_\u001b[38;5;241m.\u001b[39mindex\u001b[38;5;241m.\u001b[39mtz_localize(\u001b[38;5;28;01mNone\u001b[39;00m)\n",
      "File \u001b[0;32m/usr/local/Caskroom/miniconda/base/envs/ame/lib/python3.12/site-packages/pandas/core/frame.py:4090\u001b[0m, in \u001b[0;36mDataFrame.__getitem__\u001b[0;34m(self, key)\u001b[0m\n\u001b[1;32m   4088\u001b[0m \u001b[38;5;28;01mif\u001b[39;00m \u001b[38;5;28mself\u001b[39m\u001b[38;5;241m.\u001b[39mcolumns\u001b[38;5;241m.\u001b[39mnlevels \u001b[38;5;241m>\u001b[39m \u001b[38;5;241m1\u001b[39m:\n\u001b[1;32m   4089\u001b[0m     \u001b[38;5;28;01mreturn\u001b[39;00m \u001b[38;5;28mself\u001b[39m\u001b[38;5;241m.\u001b[39m_getitem_multilevel(key)\n\u001b[0;32m-> 4090\u001b[0m indexer \u001b[38;5;241m=\u001b[39m \u001b[38;5;28;43mself\u001b[39;49m\u001b[38;5;241;43m.\u001b[39;49m\u001b[43mcolumns\u001b[49m\u001b[38;5;241;43m.\u001b[39;49m\u001b[43mget_loc\u001b[49m\u001b[43m(\u001b[49m\u001b[43mkey\u001b[49m\u001b[43m)\u001b[49m\n\u001b[1;32m   4091\u001b[0m \u001b[38;5;28;01mif\u001b[39;00m is_integer(indexer):\n\u001b[1;32m   4092\u001b[0m     indexer \u001b[38;5;241m=\u001b[39m [indexer]\n",
      "File \u001b[0;32m/usr/local/Caskroom/miniconda/base/envs/ame/lib/python3.12/site-packages/pandas/core/indexes/range.py:417\u001b[0m, in \u001b[0;36mRangeIndex.get_loc\u001b[0;34m(self, key)\u001b[0m\n\u001b[1;32m    415\u001b[0m         \u001b[38;5;28;01mraise\u001b[39;00m \u001b[38;5;167;01mKeyError\u001b[39;00m(key) \u001b[38;5;28;01mfrom\u001b[39;00m \u001b[38;5;21;01merr\u001b[39;00m\n\u001b[1;32m    416\u001b[0m \u001b[38;5;28;01mif\u001b[39;00m \u001b[38;5;28misinstance\u001b[39m(key, Hashable):\n\u001b[0;32m--> 417\u001b[0m     \u001b[38;5;28;01mraise\u001b[39;00m \u001b[38;5;167;01mKeyError\u001b[39;00m(key)\n\u001b[1;32m    418\u001b[0m \u001b[38;5;28mself\u001b[39m\u001b[38;5;241m.\u001b[39m_check_indexing_error(key)\n\u001b[1;32m    419\u001b[0m \u001b[38;5;28;01mraise\u001b[39;00m \u001b[38;5;167;01mKeyError\u001b[39;00m(key)\n",
      "\u001b[0;31mKeyError\u001b[0m: 'trade_timestamp'"
     ]
    }
   ],
   "source": [
    "import AT_240529\n",
    "import pyupbit as pu\n",
    "import time\n",
    "import os\n",
    "\n",
    "tickers = []\n",
    "\n",
    "directory_ = os.listdir(os.path.join(os.path.dirname(os.getcwd()), 'DataBase'))\n",
    "\n",
    "for i in directory_:\n",
    "    if i.startswith('KRW'):\n",
    "        tickers.append(i)\n",
    "tickers = 'KRW-ARB'\n",
    "for ticker in tickers:\n",
    "    # ticker= tickers[7]\n",
    "    my_ = AT_240529.DataLoader(ticker=ticker).load()\n",
    "    my_ohlc = await AT_240529.ohlc(my_)\n",
    "    my_ohlc['volume'] = my_ohlc['volume_ask'] + my_ohlc['volume_bid']\n",
    "    up_ohlc = pu.get_ohlcv(ticker, interval='minute1', count=30)\n",
    "    \n",
    "    start = str(my_ohlc.iloc[1].name)\n",
    "    end = str(my_ohlc.iloc[-2].name)\n",
    "    \n",
    "    my_ohlc = my_ohlc.loc[start:end].round(7)\n",
    "    up_ohlc = up_ohlc.loc[start:end].round(7)\n",
    "    new_ = my_ohlc['volume'] - up_ohlc['volume']\n",
    "    print('\\n')\n",
    "    print(ticker)\n",
    "    print(new_)\n",
    "    time.sleep(2)\n"
   ]
  },
  {
   "cell_type": "code",
   "execution_count": 27,
   "id": "10b12963-438c-473a-b9f2-30fb982bdd37",
   "metadata": {},
   "outputs": [
    {
     "ename": "IndexError",
     "evalue": "single positional indexer is out-of-bounds",
     "output_type": "error",
     "traceback": [
      "\u001b[0;31m---------------------------------------------------------------------------\u001b[0m",
      "\u001b[0;31mIndexError\u001b[0m                                Traceback (most recent call last)",
      "Cell \u001b[0;32mIn[27], line 22\u001b[0m\n\u001b[1;32m     19\u001b[0m my_ohlc[\u001b[38;5;124m'\u001b[39m\u001b[38;5;124mvolume\u001b[39m\u001b[38;5;124m'\u001b[39m] \u001b[38;5;241m=\u001b[39m my_ohlc[\u001b[38;5;124m'\u001b[39m\u001b[38;5;124mvolume_ask\u001b[39m\u001b[38;5;124m'\u001b[39m] \u001b[38;5;241m+\u001b[39m my_ohlc[\u001b[38;5;124m'\u001b[39m\u001b[38;5;124mvolume_bid\u001b[39m\u001b[38;5;124m'\u001b[39m]\n\u001b[1;32m     20\u001b[0m up_ohlc \u001b[38;5;241m=\u001b[39m pu\u001b[38;5;241m.\u001b[39mget_ohlcv(ticker, interval\u001b[38;5;241m=\u001b[39m\u001b[38;5;124m'\u001b[39m\u001b[38;5;124mminute1\u001b[39m\u001b[38;5;124m'\u001b[39m, count\u001b[38;5;241m=\u001b[39m\u001b[38;5;241m30\u001b[39m)\n\u001b[0;32m---> 22\u001b[0m start \u001b[38;5;241m=\u001b[39m \u001b[38;5;28mstr\u001b[39m(\u001b[43mmy_ohlc\u001b[49m\u001b[38;5;241;43m.\u001b[39;49m\u001b[43miloc\u001b[49m\u001b[43m[\u001b[49m\u001b[38;5;241;43m1\u001b[39;49m\u001b[43m]\u001b[49m\u001b[38;5;241m.\u001b[39mname)\n\u001b[1;32m     23\u001b[0m end \u001b[38;5;241m=\u001b[39m \u001b[38;5;28mstr\u001b[39m(my_ohlc\u001b[38;5;241m.\u001b[39miloc[\u001b[38;5;241m-\u001b[39m\u001b[38;5;241m2\u001b[39m]\u001b[38;5;241m.\u001b[39mname)\n\u001b[1;32m     25\u001b[0m my_ohlc \u001b[38;5;241m=\u001b[39m my_ohlc\u001b[38;5;241m.\u001b[39mloc[start:end]\u001b[38;5;241m.\u001b[39mround(\u001b[38;5;241m7\u001b[39m)\n",
      "File \u001b[0;32m/usr/local/Caskroom/miniconda/base/envs/ame/lib/python3.12/site-packages/pandas/core/indexing.py:1191\u001b[0m, in \u001b[0;36m_LocationIndexer.__getitem__\u001b[0;34m(self, key)\u001b[0m\n\u001b[1;32m   1189\u001b[0m maybe_callable \u001b[38;5;241m=\u001b[39m com\u001b[38;5;241m.\u001b[39mapply_if_callable(key, \u001b[38;5;28mself\u001b[39m\u001b[38;5;241m.\u001b[39mobj)\n\u001b[1;32m   1190\u001b[0m maybe_callable \u001b[38;5;241m=\u001b[39m \u001b[38;5;28mself\u001b[39m\u001b[38;5;241m.\u001b[39m_check_deprecated_callable_usage(key, maybe_callable)\n\u001b[0;32m-> 1191\u001b[0m \u001b[38;5;28;01mreturn\u001b[39;00m \u001b[38;5;28;43mself\u001b[39;49m\u001b[38;5;241;43m.\u001b[39;49m\u001b[43m_getitem_axis\u001b[49m\u001b[43m(\u001b[49m\u001b[43mmaybe_callable\u001b[49m\u001b[43m,\u001b[49m\u001b[43m \u001b[49m\u001b[43maxis\u001b[49m\u001b[38;5;241;43m=\u001b[39;49m\u001b[43maxis\u001b[49m\u001b[43m)\u001b[49m\n",
      "File \u001b[0;32m/usr/local/Caskroom/miniconda/base/envs/ame/lib/python3.12/site-packages/pandas/core/indexing.py:1752\u001b[0m, in \u001b[0;36m_iLocIndexer._getitem_axis\u001b[0;34m(self, key, axis)\u001b[0m\n\u001b[1;32m   1749\u001b[0m     \u001b[38;5;28;01mraise\u001b[39;00m \u001b[38;5;167;01mTypeError\u001b[39;00m(\u001b[38;5;124m\"\u001b[39m\u001b[38;5;124mCannot index by location index with a non-integer key\u001b[39m\u001b[38;5;124m\"\u001b[39m)\n\u001b[1;32m   1751\u001b[0m \u001b[38;5;66;03m# validate the location\u001b[39;00m\n\u001b[0;32m-> 1752\u001b[0m \u001b[38;5;28;43mself\u001b[39;49m\u001b[38;5;241;43m.\u001b[39;49m\u001b[43m_validate_integer\u001b[49m\u001b[43m(\u001b[49m\u001b[43mkey\u001b[49m\u001b[43m,\u001b[49m\u001b[43m \u001b[49m\u001b[43maxis\u001b[49m\u001b[43m)\u001b[49m\n\u001b[1;32m   1754\u001b[0m \u001b[38;5;28;01mreturn\u001b[39;00m \u001b[38;5;28mself\u001b[39m\u001b[38;5;241m.\u001b[39mobj\u001b[38;5;241m.\u001b[39m_ixs(key, axis\u001b[38;5;241m=\u001b[39maxis)\n",
      "File \u001b[0;32m/usr/local/Caskroom/miniconda/base/envs/ame/lib/python3.12/site-packages/pandas/core/indexing.py:1685\u001b[0m, in \u001b[0;36m_iLocIndexer._validate_integer\u001b[0;34m(self, key, axis)\u001b[0m\n\u001b[1;32m   1683\u001b[0m len_axis \u001b[38;5;241m=\u001b[39m \u001b[38;5;28mlen\u001b[39m(\u001b[38;5;28mself\u001b[39m\u001b[38;5;241m.\u001b[39mobj\u001b[38;5;241m.\u001b[39m_get_axis(axis))\n\u001b[1;32m   1684\u001b[0m \u001b[38;5;28;01mif\u001b[39;00m key \u001b[38;5;241m>\u001b[39m\u001b[38;5;241m=\u001b[39m len_axis \u001b[38;5;129;01mor\u001b[39;00m key \u001b[38;5;241m<\u001b[39m \u001b[38;5;241m-\u001b[39mlen_axis:\n\u001b[0;32m-> 1685\u001b[0m     \u001b[38;5;28;01mraise\u001b[39;00m \u001b[38;5;167;01mIndexError\u001b[39;00m(\u001b[38;5;124m\"\u001b[39m\u001b[38;5;124msingle positional indexer is out-of-bounds\u001b[39m\u001b[38;5;124m\"\u001b[39m)\n",
      "\u001b[0;31mIndexError\u001b[0m: single positional indexer is out-of-bounds"
     ]
    }
   ],
   "source": [
    "import AT_240529\n",
    "import pyupbit as pu\n",
    "import time\n",
    "import os\n",
    "\n",
    "tickers = []\n",
    "\n",
    "directory_ = os.listdir(os.path.join(os.path.dirname(os.getcwd()), 'DataBase'))\n",
    "\n",
    "# for i in directory_:\n",
    "#     if i.startswith('KRW'):\n",
    "#         tickers.append(i)\n",
    "# tickers = 'KRW-ARB'\n",
    "# for ticker in tickers:\n",
    "#     # ticker= tickers[7]\n",
    "ticker = 'KRW-BTC'\n",
    "my_ = AT_240529.DataLoader(ticker=ticker).load()\n",
    "my_ohlc = await AT_240529.ohlc(my_)\n",
    "my_ohlc['volume'] = my_ohlc['volume_ask'] + my_ohlc['volume_bid']\n",
    "up_ohlc = pu.get_ohlcv(ticker, interval='minute1', count=30)\n",
    "\n",
    "start = str(my_ohlc.iloc[1].name)\n",
    "end = str(my_ohlc.iloc[-2].name)\n",
    "\n",
    "my_ohlc = my_ohlc.loc[start:end].round(7)\n",
    "up_ohlc = up_ohlc.loc[start:end].round(7)\n",
    "new_ = my_ohlc['volume'] - up_ohlc['volume']\n",
    "print('\\n')\n",
    "print(ticker)\n",
    "print(new_)\n",
    "time.sleep(2)\n"
   ]
  },
  {
   "cell_type": "code",
   "execution_count": 10,
   "id": "45f1236b-af16-4acc-825f-c3cfde23c5e0",
   "metadata": {},
   "outputs": [],
   "source": [
    "from collections import deque"
   ]
  },
  {
   "cell_type": "code",
   "execution_count": 14,
   "id": "a0fd6854-26b6-4280-a920-cb7d3c735826",
   "metadata": {},
   "outputs": [],
   "source": [
    "a = deque()"
   ]
  },
  {
   "cell_type": "code",
   "execution_count": 15,
   "id": "371f7e59-4697-4878-a738-19f3e64ea86d",
   "metadata": {},
   "outputs": [],
   "source": [
    "a.extend('ABCDEFG')"
   ]
  },
  {
   "cell_type": "code",
   "execution_count": 13,
   "id": "f2a273c0-1a45-4386-9d4e-b9af5160c3f1",
   "metadata": {},
   "outputs": [
    {
     "name": "stdout",
     "output_type": "stream",
     "text": [
      "G\n"
     ]
    }
   ],
   "source": [
    "print(a.pop())"
   ]
  },
  {
   "cell_type": "code",
   "execution_count": 16,
   "id": "a32331e9-8e41-41c2-b9c7-3027b9dc3d43",
   "metadata": {},
   "outputs": [
    {
     "data": {
      "text/plain": [
       "'G'"
      ]
     },
     "execution_count": 16,
     "metadata": {},
     "output_type": "execute_result"
    }
   ],
   "source": [
    "a[-1]"
   ]
  },
  {
   "cell_type": "code",
   "execution_count": 18,
   "id": "f4b728be-558e-40ff-bfed-c990547c6e2a",
   "metadata": {},
   "outputs": [],
   "source": [
    "a.append({'code':'KRW-BTC',\n",
    "           'price':98192838})"
   ]
  },
  {
   "cell_type": "code",
   "execution_count": 19,
   "id": "e6ffa393-ba1a-4500-b26b-55aaf3859c0c",
   "metadata": {},
   "outputs": [
    {
     "data": {
      "text/plain": [
       "deque(['A',\n",
       "       'B',\n",
       "       'C',\n",
       "       'D',\n",
       "       'E',\n",
       "       'F',\n",
       "       'G',\n",
       "       {'code': 'KRW-BTC', 'price': 98192838}])"
      ]
     },
     "execution_count": 19,
     "metadata": {},
     "output_type": "execute_result"
    }
   ],
   "source": [
    "a"
   ]
  },
  {
   "cell_type": "code",
   "execution_count": 20,
   "id": "97a7633b-f9dc-4218-b164-dbc457a4fe03",
   "metadata": {},
   "outputs": [
    {
     "data": {
      "text/plain": [
       "'KRW-BTC'"
      ]
     },
     "execution_count": 20,
     "metadata": {},
     "output_type": "execute_result"
    }
   ],
   "source": [
    "a[-1]['code']"
   ]
  },
  {
   "cell_type": "code",
   "execution_count": 21,
   "id": "2c4e90f8-e5c7-4285-86b1-19c577e33ac0",
   "metadata": {},
   "outputs": [
    {
     "data": {
      "text/plain": [
       "deque(['A',\n",
       "       'B',\n",
       "       'C',\n",
       "       'D',\n",
       "       'E',\n",
       "       'F',\n",
       "       'G',\n",
       "       {'code': 'KRW-BTC', 'price': 98192838}])"
      ]
     },
     "execution_count": 21,
     "metadata": {},
     "output_type": "execute_result"
    }
   ],
   "source": [
    "a"
   ]
  },
  {
   "cell_type": "code",
   "execution_count": 22,
   "id": "f1765131-2586-4ade-8292-1fbd102ff4ff",
   "metadata": {},
   "outputs": [
    {
     "data": {
      "text/plain": [
       "{'code': 'KRW-BTC', 'price': 98192838}"
      ]
     },
     "execution_count": 22,
     "metadata": {},
     "output_type": "execute_result"
    }
   ],
   "source": [
    "a[-1]"
   ]
  },
  {
   "cell_type": "code",
   "execution_count": 25,
   "id": "687c95ec-39ed-4a55-8701-1a7d85998981",
   "metadata": {},
   "outputs": [],
   "source": [
    "a[-1].update({'price':123+123})"
   ]
  },
  {
   "cell_type": "code",
   "execution_count": 26,
   "id": "343c108a-b590-4239-84e0-5a5fa5d6a6cc",
   "metadata": {},
   "outputs": [
    {
     "data": {
      "text/plain": [
       "{'code': 'KRW-BTC', 'price': 246}"
      ]
     },
     "execution_count": 26,
     "metadata": {},
     "output_type": "execute_result"
    }
   ],
   "source": [
    "a[-1]"
   ]
  },
  {
   "cell_type": "code",
   "execution_count": 31,
   "id": "49bca0d9-8cea-4b60-b3c5-d18fcedfedbc",
   "metadata": {},
   "outputs": [
    {
     "ename": "IndexError",
     "evalue": "single positional indexer is out-of-bounds",
     "output_type": "error",
     "traceback": [
      "\u001b[0;31m---------------------------------------------------------------------------\u001b[0m",
      "\u001b[0;31mIndexError\u001b[0m                                Traceback (most recent call last)",
      "Cell \u001b[0;32mIn[31], line 20\u001b[0m\n\u001b[1;32m     17\u001b[0m my_ohlc[\u001b[38;5;124m'\u001b[39m\u001b[38;5;124mvolume\u001b[39m\u001b[38;5;124m'\u001b[39m] \u001b[38;5;241m=\u001b[39m my_ohlc[\u001b[38;5;124m'\u001b[39m\u001b[38;5;124mvolume_ask\u001b[39m\u001b[38;5;124m'\u001b[39m] \u001b[38;5;241m+\u001b[39m my_ohlc[\u001b[38;5;124m'\u001b[39m\u001b[38;5;124mvolume_bid\u001b[39m\u001b[38;5;124m'\u001b[39m]\n\u001b[1;32m     18\u001b[0m up_ohlc \u001b[38;5;241m=\u001b[39m pu\u001b[38;5;241m.\u001b[39mget_ohlcv(ticker, interval\u001b[38;5;241m=\u001b[39m\u001b[38;5;124m'\u001b[39m\u001b[38;5;124mminute1\u001b[39m\u001b[38;5;124m'\u001b[39m, count\u001b[38;5;241m=\u001b[39m\u001b[38;5;241m30\u001b[39m)\n\u001b[0;32m---> 20\u001b[0m start \u001b[38;5;241m=\u001b[39m \u001b[38;5;28mstr\u001b[39m(\u001b[43mmy_ohlc\u001b[49m\u001b[38;5;241;43m.\u001b[39;49m\u001b[43miloc\u001b[49m\u001b[43m[\u001b[49m\u001b[38;5;241;43m1\u001b[39;49m\u001b[43m]\u001b[49m\u001b[38;5;241m.\u001b[39mname)\n\u001b[1;32m     21\u001b[0m end \u001b[38;5;241m=\u001b[39m \u001b[38;5;28mstr\u001b[39m(my_ohlc\u001b[38;5;241m.\u001b[39miloc[\u001b[38;5;241m-\u001b[39m\u001b[38;5;241m2\u001b[39m]\u001b[38;5;241m.\u001b[39mname)\n\u001b[1;32m     23\u001b[0m my_ohlc \u001b[38;5;241m=\u001b[39m my_ohlc\u001b[38;5;241m.\u001b[39mloc[start:end]\u001b[38;5;241m.\u001b[39mround(\u001b[38;5;241m7\u001b[39m)\n",
      "File \u001b[0;32m/usr/local/Caskroom/miniconda/base/envs/ame/lib/python3.12/site-packages/pandas/core/indexing.py:1191\u001b[0m, in \u001b[0;36m_LocationIndexer.__getitem__\u001b[0;34m(self, key)\u001b[0m\n\u001b[1;32m   1189\u001b[0m maybe_callable \u001b[38;5;241m=\u001b[39m com\u001b[38;5;241m.\u001b[39mapply_if_callable(key, \u001b[38;5;28mself\u001b[39m\u001b[38;5;241m.\u001b[39mobj)\n\u001b[1;32m   1190\u001b[0m maybe_callable \u001b[38;5;241m=\u001b[39m \u001b[38;5;28mself\u001b[39m\u001b[38;5;241m.\u001b[39m_check_deprecated_callable_usage(key, maybe_callable)\n\u001b[0;32m-> 1191\u001b[0m \u001b[38;5;28;01mreturn\u001b[39;00m \u001b[38;5;28;43mself\u001b[39;49m\u001b[38;5;241;43m.\u001b[39;49m\u001b[43m_getitem_axis\u001b[49m\u001b[43m(\u001b[49m\u001b[43mmaybe_callable\u001b[49m\u001b[43m,\u001b[49m\u001b[43m \u001b[49m\u001b[43maxis\u001b[49m\u001b[38;5;241;43m=\u001b[39;49m\u001b[43maxis\u001b[49m\u001b[43m)\u001b[49m\n",
      "File \u001b[0;32m/usr/local/Caskroom/miniconda/base/envs/ame/lib/python3.12/site-packages/pandas/core/indexing.py:1752\u001b[0m, in \u001b[0;36m_iLocIndexer._getitem_axis\u001b[0;34m(self, key, axis)\u001b[0m\n\u001b[1;32m   1749\u001b[0m     \u001b[38;5;28;01mraise\u001b[39;00m \u001b[38;5;167;01mTypeError\u001b[39;00m(\u001b[38;5;124m\"\u001b[39m\u001b[38;5;124mCannot index by location index with a non-integer key\u001b[39m\u001b[38;5;124m\"\u001b[39m)\n\u001b[1;32m   1751\u001b[0m \u001b[38;5;66;03m# validate the location\u001b[39;00m\n\u001b[0;32m-> 1752\u001b[0m \u001b[38;5;28;43mself\u001b[39;49m\u001b[38;5;241;43m.\u001b[39;49m\u001b[43m_validate_integer\u001b[49m\u001b[43m(\u001b[49m\u001b[43mkey\u001b[49m\u001b[43m,\u001b[49m\u001b[43m \u001b[49m\u001b[43maxis\u001b[49m\u001b[43m)\u001b[49m\n\u001b[1;32m   1754\u001b[0m \u001b[38;5;28;01mreturn\u001b[39;00m \u001b[38;5;28mself\u001b[39m\u001b[38;5;241m.\u001b[39mobj\u001b[38;5;241m.\u001b[39m_ixs(key, axis\u001b[38;5;241m=\u001b[39maxis)\n",
      "File \u001b[0;32m/usr/local/Caskroom/miniconda/base/envs/ame/lib/python3.12/site-packages/pandas/core/indexing.py:1685\u001b[0m, in \u001b[0;36m_iLocIndexer._validate_integer\u001b[0;34m(self, key, axis)\u001b[0m\n\u001b[1;32m   1683\u001b[0m len_axis \u001b[38;5;241m=\u001b[39m \u001b[38;5;28mlen\u001b[39m(\u001b[38;5;28mself\u001b[39m\u001b[38;5;241m.\u001b[39mobj\u001b[38;5;241m.\u001b[39m_get_axis(axis))\n\u001b[1;32m   1684\u001b[0m \u001b[38;5;28;01mif\u001b[39;00m key \u001b[38;5;241m>\u001b[39m\u001b[38;5;241m=\u001b[39m len_axis \u001b[38;5;129;01mor\u001b[39;00m key \u001b[38;5;241m<\u001b[39m \u001b[38;5;241m-\u001b[39mlen_axis:\n\u001b[0;32m-> 1685\u001b[0m     \u001b[38;5;28;01mraise\u001b[39;00m \u001b[38;5;167;01mIndexError\u001b[39;00m(\u001b[38;5;124m\"\u001b[39m\u001b[38;5;124msingle positional indexer is out-of-bounds\u001b[39m\u001b[38;5;124m\"\u001b[39m)\n",
      "\u001b[0;31mIndexError\u001b[0m: single positional indexer is out-of-bounds"
     ]
    }
   ],
   "source": [
    "import AT_240529\n",
    "import pyupbit as pu\n",
    "import time\n",
    "import os\n",
    "\n",
    "tickers = []\n",
    "\n",
    "directory_ = os.listdir(os.path.join(os.path.dirname(os.getcwd()), 'DataBase'))\n",
    "\n",
    "for i in directory_:\n",
    "    if i.startswith('KRW'):\n",
    "        tickers.append(i)\n",
    "\n",
    "for ticker in tickers:\n",
    "    my_ = AT_240529.DataLoader(ticker=ticker).load()\n",
    "    my_ohlc = await AT_240529.ohlc(my_)\n",
    "    my_ohlc['volume'] = my_ohlc['volume_ask'] + my_ohlc['volume_bid']\n",
    "    up_ohlc = pu.get_ohlcv(ticker, interval='minute1', count=30)\n",
    "    \n",
    "    start = str(my_ohlc.iloc[1].name)\n",
    "    end = str(my_ohlc.iloc[-2].name)\n",
    "    \n",
    "    my_ohlc = my_ohlc.loc[start:end].round(7)\n",
    "    up_ohlc = up_ohlc.loc[start:end].round(7)\n",
    "    new_ = my_ohlc['volume'] - up_ohlc['volume']\n",
    "    print('\\n')\n",
    "    print(ticker)\n",
    "    print(new_)\n",
    "    time.sleep(2)\n"
   ]
  },
  {
   "cell_type": "code",
   "execution_count": 30,
   "id": "05335f67-b1da-403e-8fbb-1e807346bdb8",
   "metadata": {
    "scrolled": true
   },
   "outputs": [
    {
     "data": {
      "text/plain": [
       "['KRW-GMT',\n",
       " 'KRW-AKT',\n",
       " 'KRW-STMX',\n",
       " 'KRW-LINK',\n",
       " 'KRW-XEC',\n",
       " 'KRW-AAVE',\n",
       " 'KRW-BORA',\n",
       " 'KRW-TFUEL',\n",
       " 'KRW-MASK',\n",
       " 'KRW-TON',\n",
       " 'KRW-MNT',\n",
       " 'KRW-KNC',\n",
       " 'KRW-DOGE',\n",
       " 'KRW-BTT',\n",
       " 'KRW-XLM',\n",
       " 'KRW-APT',\n",
       " 'KRW-T',\n",
       " 'KRW-WAXP',\n",
       " 'KRW-POLYX',\n",
       " 'KRW-TRX',\n",
       " 'KRW-WAVES',\n",
       " 'KRW-1INCH',\n",
       " 'KRW-MANA',\n",
       " 'KRW-BLUR',\n",
       " 'KRW-ZRX',\n",
       " 'KRW-ARK',\n",
       " 'KRW-MTL',\n",
       " 'KRW-BAT',\n",
       " 'KRW-ETH',\n",
       " 'KRW-ARB',\n",
       " 'KRW-SEI',\n",
       " 'KRW-EGLD',\n",
       " 'KRW-ASTR',\n",
       " 'KRW-GRT',\n",
       " 'KRW-AVAX',\n",
       " 'KRW-THETA',\n",
       " 'KRW-NEAR',\n",
       " 'KRW-SC',\n",
       " 'KRW-SHIB',\n",
       " 'KRW-MATIC',\n",
       " 'KRW-STORJ',\n",
       " 'KRW-SAND',\n",
       " 'KRW-FLOW',\n",
       " 'KRW-HIFI',\n",
       " 'KRW-GLM',\n",
       " 'KRW-EOS',\n",
       " 'KRW-LOOM',\n",
       " 'KRW-MED',\n",
       " 'KRW-ADA',\n",
       " 'KRW-STRIKE',\n",
       " 'KRW-ONG',\n",
       " 'KRW-IMX',\n",
       " 'KRW-IQ',\n",
       " 'KRW-ID',\n",
       " 'KRW-BTC',\n",
       " 'KRW-VET',\n",
       " 'KRW-SUI',\n",
       " 'KRW-ZETA',\n",
       " 'KRW-GAS',\n",
       " 'KRW-ORBS',\n",
       " 'KRW-ONT',\n",
       " 'KRW-CELO',\n",
       " 'KRW-CHZ',\n",
       " 'KRW-XRP',\n",
       " 'KRW-MVL',\n",
       " 'KRW-ATOM',\n",
       " 'KRW-DOT',\n",
       " 'KRW-TT',\n",
       " 'KRW-CVC',\n",
       " 'KRW-BCH',\n",
       " 'KRW-NEO',\n",
       " 'KRW-XTZ',\n",
       " 'KRW-MINA',\n",
       " 'KRW-KAVA',\n",
       " 'KRW-HBAR',\n",
       " 'KRW-AXS',\n",
       " 'KRW-AERGO',\n",
       " 'KRW-PUNDIX',\n",
       " 'KRW-SOL',\n",
       " 'KRW-ETC',\n",
       " 'KRW-STEEM',\n",
       " 'KRW-POWR',\n",
       " 'KRW-LSK',\n",
       " 'KRW-PYTH',\n",
       " 'KRW-GAME2',\n",
       " 'KRW-STX',\n",
       " 'KRW-BSV',\n",
       " 'KRW-QTUM',\n",
       " 'KRW-IOTA',\n",
       " 'KRW-ANKR',\n",
       " 'KRW-META',\n",
       " 'KRW-ALGO']"
      ]
     },
     "execution_count": 30,
     "metadata": {},
     "output_type": "execute_result"
    }
   ],
   "source": [
    "tickers"
   ]
  },
  {
   "cell_type": "code",
   "execution_count": 40,
   "id": "b59eceab-cd3c-4f72-a971-7bc76116e00a",
   "metadata": {},
   "outputs": [
    {
     "name": "stdout",
     "output_type": "stream",
     "text": [
      "\n",
      "\n",
      "KRW-SHIB\n",
      "date\n",
      "2024-05-29 17:19:00   -2.313579e+09\n",
      "2024-05-29 17:20:00    0.000000e+00\n",
      "2024-05-29 17:21:00   -6.437493e+09\n",
      "2024-05-29 17:22:00    0.000000e+00\n",
      "2024-05-29 17:23:00    0.000000e+00\n",
      "Freq: min, Name: volume, dtype: float64\n"
     ]
    }
   ],
   "source": [
    "ticker = 'KRW-SHIB'\n",
    "\n",
    "my_ = AT_240529.DataLoader(ticker=ticker).load()\n",
    "my_ohlc = await AT_240529.ohlc(my_)\n",
    "my_ohlc['volume'] = my_ohlc['volume_ask'] + my_ohlc['volume_bid']\n",
    "up_ohlc = pu.get_ohlcv(ticker, interval='minute1', count=30)\n",
    "\n",
    "start = str(my_ohlc.iloc[1].name)\n",
    "end = str(my_ohlc.iloc[-2].name)\n",
    "\n",
    "my_ohlc = my_ohlc.loc[start:end].round(7)\n",
    "up_ohlc = up_ohlc.loc[start:end].round(7)\n",
    "new_ = my_ohlc['volume'] - up_ohlc['volume']\n",
    "print('\\n')\n",
    "print(ticker)\n",
    "print(new_)\n",
    "time.sleep(2)"
   ]
  },
  {
   "cell_type": "code",
   "execution_count": 41,
   "id": "476ec474-6fd5-44a4-bcfd-bbe777fa3d33",
   "metadata": {},
   "outputs": [
    {
     "data": {
      "text/html": [
       "<div>\n",
       "<style scoped>\n",
       "    .dataframe tbody tr th:only-of-type {\n",
       "        vertical-align: middle;\n",
       "    }\n",
       "\n",
       "    .dataframe tbody tr th {\n",
       "        vertical-align: top;\n",
       "    }\n",
       "\n",
       "    .dataframe thead th {\n",
       "        text-align: right;\n",
       "    }\n",
       "</style>\n",
       "<table border=\"1\" class=\"dataframe\">\n",
       "  <thead>\n",
       "    <tr style=\"text-align: right;\">\n",
       "      <th></th>\n",
       "      <th>open</th>\n",
       "      <th>high</th>\n",
       "      <th>low</th>\n",
       "      <th>close</th>\n",
       "      <th>volume_ask</th>\n",
       "      <th>volume_bid</th>\n",
       "      <th>count_ask</th>\n",
       "      <th>count_bid</th>\n",
       "      <th>seller</th>\n",
       "      <th>buyer</th>\n",
       "      <th>volume</th>\n",
       "    </tr>\n",
       "    <tr>\n",
       "      <th>date</th>\n",
       "      <th></th>\n",
       "      <th></th>\n",
       "      <th></th>\n",
       "      <th></th>\n",
       "      <th></th>\n",
       "      <th></th>\n",
       "      <th></th>\n",
       "      <th></th>\n",
       "      <th></th>\n",
       "      <th></th>\n",
       "      <th></th>\n",
       "    </tr>\n",
       "  </thead>\n",
       "  <tbody>\n",
       "    <tr>\n",
       "      <th>2024-05-29 17:19:00</th>\n",
       "      <td>0.03850</td>\n",
       "      <td>0.03861</td>\n",
       "      <td>0.03844</td>\n",
       "      <td>0.03847</td>\n",
       "      <td>8.049787e+09</td>\n",
       "      <td>5.032919e+09</td>\n",
       "      <td>214</td>\n",
       "      <td>124</td>\n",
       "      <td>108</td>\n",
       "      <td>86</td>\n",
       "      <td>1.308271e+10</td>\n",
       "    </tr>\n",
       "    <tr>\n",
       "      <th>2024-05-29 17:20:00</th>\n",
       "      <td>0.03850</td>\n",
       "      <td>0.03865</td>\n",
       "      <td>0.03846</td>\n",
       "      <td>0.03861</td>\n",
       "      <td>5.346104e+09</td>\n",
       "      <td>1.058600e+10</td>\n",
       "      <td>111</td>\n",
       "      <td>173</td>\n",
       "      <td>82</td>\n",
       "      <td>120</td>\n",
       "      <td>1.593210e+10</td>\n",
       "    </tr>\n",
       "    <tr>\n",
       "      <th>2024-05-29 17:21:00</th>\n",
       "      <td>0.03862</td>\n",
       "      <td>0.03881</td>\n",
       "      <td>0.03861</td>\n",
       "      <td>0.03880</td>\n",
       "      <td>7.204529e+09</td>\n",
       "      <td>1.444971e+10</td>\n",
       "      <td>151</td>\n",
       "      <td>240</td>\n",
       "      <td>132</td>\n",
       "      <td>156</td>\n",
       "      <td>2.165424e+10</td>\n",
       "    </tr>\n",
       "    <tr>\n",
       "      <th>2024-05-29 17:22:00</th>\n",
       "      <td>0.03880</td>\n",
       "      <td>0.03882</td>\n",
       "      <td>0.03876</td>\n",
       "      <td>0.03881</td>\n",
       "      <td>9.514237e+09</td>\n",
       "      <td>4.961222e+09</td>\n",
       "      <td>212</td>\n",
       "      <td>130</td>\n",
       "      <td>151</td>\n",
       "      <td>94</td>\n",
       "      <td>1.447546e+10</td>\n",
       "    </tr>\n",
       "    <tr>\n",
       "      <th>2024-05-29 17:23:00</th>\n",
       "      <td>0.03881</td>\n",
       "      <td>0.03889</td>\n",
       "      <td>0.03880</td>\n",
       "      <td>0.03887</td>\n",
       "      <td>3.124353e+09</td>\n",
       "      <td>8.759091e+09</td>\n",
       "      <td>75</td>\n",
       "      <td>171</td>\n",
       "      <td>43</td>\n",
       "      <td>116</td>\n",
       "      <td>1.188344e+10</td>\n",
       "    </tr>\n",
       "  </tbody>\n",
       "</table>\n",
       "</div>"
      ],
      "text/plain": [
       "                        open     high      low    close    volume_ask  \\\n",
       "date                                                                    \n",
       "2024-05-29 17:19:00  0.03850  0.03861  0.03844  0.03847  8.049787e+09   \n",
       "2024-05-29 17:20:00  0.03850  0.03865  0.03846  0.03861  5.346104e+09   \n",
       "2024-05-29 17:21:00  0.03862  0.03881  0.03861  0.03880  7.204529e+09   \n",
       "2024-05-29 17:22:00  0.03880  0.03882  0.03876  0.03881  9.514237e+09   \n",
       "2024-05-29 17:23:00  0.03881  0.03889  0.03880  0.03887  3.124353e+09   \n",
       "\n",
       "                       volume_bid  count_ask  count_bid  seller  buyer  \\\n",
       "date                                                                     \n",
       "2024-05-29 17:19:00  5.032919e+09        214        124     108     86   \n",
       "2024-05-29 17:20:00  1.058600e+10        111        173      82    120   \n",
       "2024-05-29 17:21:00  1.444971e+10        151        240     132    156   \n",
       "2024-05-29 17:22:00  4.961222e+09        212        130     151     94   \n",
       "2024-05-29 17:23:00  8.759091e+09         75        171      43    116   \n",
       "\n",
       "                           volume  \n",
       "date                               \n",
       "2024-05-29 17:19:00  1.308271e+10  \n",
       "2024-05-29 17:20:00  1.593210e+10  \n",
       "2024-05-29 17:21:00  2.165424e+10  \n",
       "2024-05-29 17:22:00  1.447546e+10  \n",
       "2024-05-29 17:23:00  1.188344e+10  "
      ]
     },
     "execution_count": 41,
     "metadata": {},
     "output_type": "execute_result"
    }
   ],
   "source": [
    "my_ohlc"
   ]
  },
  {
   "cell_type": "code",
   "execution_count": 42,
   "id": "6be2f040-1317-48af-be6e-42a0f47e0382",
   "metadata": {},
   "outputs": [
    {
     "data": {
      "text/html": [
       "<div>\n",
       "<style scoped>\n",
       "    .dataframe tbody tr th:only-of-type {\n",
       "        vertical-align: middle;\n",
       "    }\n",
       "\n",
       "    .dataframe tbody tr th {\n",
       "        vertical-align: top;\n",
       "    }\n",
       "\n",
       "    .dataframe thead th {\n",
       "        text-align: right;\n",
       "    }\n",
       "</style>\n",
       "<table border=\"1\" class=\"dataframe\">\n",
       "  <thead>\n",
       "    <tr style=\"text-align: right;\">\n",
       "      <th></th>\n",
       "      <th>open</th>\n",
       "      <th>high</th>\n",
       "      <th>low</th>\n",
       "      <th>close</th>\n",
       "      <th>volume</th>\n",
       "      <th>value</th>\n",
       "    </tr>\n",
       "  </thead>\n",
       "  <tbody>\n",
       "    <tr>\n",
       "      <th>2024-05-29 17:19:00</th>\n",
       "      <td>0.03850</td>\n",
       "      <td>0.03861</td>\n",
       "      <td>0.03844</td>\n",
       "      <td>0.03847</td>\n",
       "      <td>1.539629e+10</td>\n",
       "      <td>5.931598e+08</td>\n",
       "    </tr>\n",
       "    <tr>\n",
       "      <th>2024-05-29 17:20:00</th>\n",
       "      <td>0.03850</td>\n",
       "      <td>0.03865</td>\n",
       "      <td>0.03846</td>\n",
       "      <td>0.03861</td>\n",
       "      <td>1.593210e+10</td>\n",
       "      <td>6.148647e+08</td>\n",
       "    </tr>\n",
       "    <tr>\n",
       "      <th>2024-05-29 17:21:00</th>\n",
       "      <td>0.03862</td>\n",
       "      <td>0.03881</td>\n",
       "      <td>0.03861</td>\n",
       "      <td>0.03880</td>\n",
       "      <td>2.809173e+10</td>\n",
       "      <td>1.087387e+09</td>\n",
       "    </tr>\n",
       "    <tr>\n",
       "      <th>2024-05-29 17:22:00</th>\n",
       "      <td>0.03880</td>\n",
       "      <td>0.03882</td>\n",
       "      <td>0.03876</td>\n",
       "      <td>0.03881</td>\n",
       "      <td>1.447546e+10</td>\n",
       "      <td>5.615837e+08</td>\n",
       "    </tr>\n",
       "    <tr>\n",
       "      <th>2024-05-29 17:23:00</th>\n",
       "      <td>0.03881</td>\n",
       "      <td>0.03889</td>\n",
       "      <td>0.03880</td>\n",
       "      <td>0.03887</td>\n",
       "      <td>1.188344e+10</td>\n",
       "      <td>4.616334e+08</td>\n",
       "    </tr>\n",
       "  </tbody>\n",
       "</table>\n",
       "</div>"
      ],
      "text/plain": [
       "                        open     high      low    close        volume  \\\n",
       "2024-05-29 17:19:00  0.03850  0.03861  0.03844  0.03847  1.539629e+10   \n",
       "2024-05-29 17:20:00  0.03850  0.03865  0.03846  0.03861  1.593210e+10   \n",
       "2024-05-29 17:21:00  0.03862  0.03881  0.03861  0.03880  2.809173e+10   \n",
       "2024-05-29 17:22:00  0.03880  0.03882  0.03876  0.03881  1.447546e+10   \n",
       "2024-05-29 17:23:00  0.03881  0.03889  0.03880  0.03887  1.188344e+10   \n",
       "\n",
       "                            value  \n",
       "2024-05-29 17:19:00  5.931598e+08  \n",
       "2024-05-29 17:20:00  6.148647e+08  \n",
       "2024-05-29 17:21:00  1.087387e+09  \n",
       "2024-05-29 17:22:00  5.615837e+08  \n",
       "2024-05-29 17:23:00  4.616334e+08  "
      ]
     },
     "execution_count": 42,
     "metadata": {},
     "output_type": "execute_result"
    }
   ],
   "source": [
    "up_ohlc"
   ]
  },
  {
   "cell_type": "code",
   "execution_count": null,
   "id": "73049c27-0fbc-49ba-a32d-3c8e8ac0b57b",
   "metadata": {},
   "outputs": [],
   "source": []
  }
 ],
 "metadata": {
  "kernelspec": {
   "display_name": "ame",
   "language": "python",
   "name": "ame"
  },
  "language_info": {
   "codemirror_mode": {
    "name": "ipython",
    "version": 3
   },
   "file_extension": ".py",
   "mimetype": "text/x-python",
   "name": "python",
   "nbconvert_exporter": "python",
   "pygments_lexer": "ipython3",
   "version": "3.12.2"
  }
 },
 "nbformat": 4,
 "nbformat_minor": 5
}
