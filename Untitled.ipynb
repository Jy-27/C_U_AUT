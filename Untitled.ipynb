{
 "cells": [
  {
   "cell_type": "code",
   "execution_count": 1,
   "id": "afec6995-7508-4fe1-a290-163335980168",
   "metadata": {},
   "outputs": [],
   "source": [
    "import AT_240529\n",
    "import pyupbit as pu\n",
    "import time\n",
    "\n",
    "tickers = []\n",
    "\n",
    "for i in directory_:\n",
    "    if i.startswith('KRW'):\n",
    "        tickers.append(i)\n",
    "\n",
    "for ticker in tickers:\n",
    "    ticker= tickers[7]\n",
    "    my_ = AT_240529.DataLoader(ticker=ticker).load()\n",
    "    my_ohlc = await AT_240529.ohlc(my_)\n",
    "    my_ohlc['volume'] = my_ohlc['volume_ask'] + my_ohlc['volume_bid']\n",
    "    up_ohlc = pu.get_ohlcv(ticker, interval='minute1', count=30)\n",
    "    \n",
    "    \n",
    "    \n",
    "    start = str(my_ohlc.iloc[1].name)\n",
    "    end = str(my_ohlc.iloc[-2].name)\n",
    "    \n",
    "    my_ohlc = my_ohlc.loc[start:end].round(7)\n",
    "    up_ohlc = up_ohlc.loc[start:end].round(7)\n",
    "    new_ = my_ohlc['volume'] - up_ohlc['volume']\n",
    "    print('\\n')\n",
    "    print(ticker)\n",
    "    print(new_)\n",
    "    time.sleep(2)\n",
    "\n",
    "import sys\n",
    "sys.\n"
   ]
  },
  {
   "cell_type": "code",
   "execution_count": 1,
   "id": "e438bc34-1b43-4d76-84c2-a49d9763e747",
   "metadata": {},
   "outputs": [],
   "source": [
    "import sys"
   ]
  },
  {
   "cell_type": "code",
   "execution_count": null,
   "id": "1c17e3fd-2a84-4821-8a37-8fc8e8f086ad",
   "metadata": {},
   "outputs": [],
   "source": [
    "sys.stdout.flush"
   ]
  }
 ],
 "metadata": {
  "kernelspec": {
   "display_name": "ame",
   "language": "python",
   "name": "ame"
  },
  "language_info": {
   "codemirror_mode": {
    "name": "ipython",
    "version": 3
   },
   "file_extension": ".py",
   "mimetype": "text/x-python",
   "name": "python",
   "nbconvert_exporter": "python",
   "pygments_lexer": "ipython3",
   "version": "3.12.2"
  }
 },
 "nbformat": 4,
 "nbformat_minor": 5
}
