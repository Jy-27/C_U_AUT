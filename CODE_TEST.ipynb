{
 "cells": [
  {
   "cell_type": "code",
   "execution_count": null,
   "metadata": {},
   "outputs": [],
   "source": []
  },
  {
   "cell_type": "code",
   "execution_count": 5,
   "metadata": {},
   "outputs": [],
   "source": [
    "from collections import defaultdict\n",
    "\n",
    "class dummy:\n",
    "    def __init__(self, dummy_data1, dummy_data2):\n",
    "        self.futures_account_balance = dummy_data2\n",
    "        self.position_stopper = defaultdict(dict)\n",
    "        self.processed_data = dummy_data1\n",
    "        \n",
    "    def _position_stopper(self):\n",
    "        def calculate_sell_price(position :str, symbol :str, status :str, price :float, ratio :float=0.012):\n",
    "            if position == \"LONG\":\n",
    "                if status == \"new\":\n",
    "                    sell_ratio = 0.8\n",
    "                elif status == \"isOngoing\":\n",
    "                    sell_ratio = 1 - min(self.position_stopper[symbol]['Entry Price'] / self.position_stopper[symbol]['referencePrice'] + ratio, ratio)\n",
    "            elif position == \"SHORT\":\n",
    "                if status == \"new\":\n",
    "                    sell_ratio = 1.2\n",
    "                elif status == \"isOngoing\":\n",
    "                    sell_ratio = 1 + min(self.position_stopper[symbol]['Entry Price'] / self.position_stopper[symbol]['referencePrice'] + ratio, ratio)\n",
    "            return sell_ratio * price\n",
    "            \n",
    "        if isinstance(self.futures_account_balance, dict) and len(self.futures_account_balance) > 1:\n",
    "            for symbol, data in self.futures_account_balance.items():\n",
    "                if symbol != \"USDT\" and not self.position_stopper[symbol]:\n",
    "                    position = 'LONG' if data['positionAmt'] > 0 else 'SHORT'\n",
    "                    self.position_stopper[symbol] = {'position':position,\n",
    "                                                     'finalPrice':data['Entry Price'],\n",
    "                                                     'referencePrice':calculate_sell_price(position=position,\n",
    "                                                                                           symbol=symbol,\n",
    "                                                                                           status='new',\n",
    "                                                                                           price=data['Entry Price'])}\n",
    "                elif symbol != \"USDT\" and self.position_stopper[symbol]:\n",
    "                    position = 'LONG' if data['positionAmt'] > 0 else 'SHORT'\n",
    "                    data = self.processed_data[symbol][1][1]['OHLCVV']\n",
    "                    price = data['high'] if position == 'LONG' else data['low']\n",
    "                    \n",
    "                    self.position_stopper[symbol] = {'position':position,\n",
    "                                                     'finalPrice':finalPrice,\n",
    "                                                     'referencePrice':calculate_sell_price(position=position,\n",
    "                                                                                           symbol=symbol,\n",
    "                                                                                           status='isOngoing',\n",
    "                                                                                           price=price)}\n",
    "            return self.position_stopper"
   ]
  },
  {
   "cell_type": "code",
   "execution_count": 6,
   "metadata": {},
   "outputs": [],
   "source": [
    "data = {'XRPUSDT':{1:{1:{'OHLCVV':{'high':0.57,\n",
    "                                   'low':0.53}}}}}\n",
    "balance = {'XRPUSDT':{'positionAmt':-3,\n",
    "                      'Entry Price':0.56}}\n",
    "instance_ = dummy(dummy_data1=data,\n",
    "                  dummy_data2=balance)"
   ]
  },
  {
   "cell_type": "code",
   "execution_count": 7,
   "metadata": {},
   "outputs": [],
   "source": [
    "instance_._position_stopper()"
   ]
  },
  {
   "cell_type": "code",
   "execution_count": 8,
   "metadata": {},
   "outputs": [
    {
     "data": {
      "text/plain": [
       "defaultdict(dict, {})"
      ]
     },
     "execution_count": 8,
     "metadata": {},
     "output_type": "execute_result"
    }
   ],
   "source": [
    "instance_.position_stopper"
   ]
  },
  {
   "cell_type": "code",
   "execution_count": 2,
   "metadata": {},
   "outputs": [],
   "source": [
    "class CLASS_A:\n",
    "    def __init__(self, tickers):\n",
    "        self.tickers = tickers\n",
    "\n",
    "class CLASS_B(CLASS_A):\n",
    "    def __init__(self):\n",
    "        suter().__init__(tickers=tickers)"
   ]
  },
  {
   "cell_type": "code",
   "execution_count": 10,
   "metadata": {},
   "outputs": [],
   "source": [
    "class CLASS_A:\n",
    "    def __init__(self, tickers:list = ['K', 'B', 'C']):\n",
    "        self.tickers = tickers\n",
    "\n",
    "class CLASS_B(CLASS_A):\n",
    "    def __init__(self, tickers):\n",
    "        super().__init__(tickers=tickers)"
   ]
  },
  {
   "cell_type": "code",
   "execution_count": 11,
   "metadata": {},
   "outputs": [],
   "source": [
    "dummy_A = CLASS_A(tickers=['KRW-BTC', 'KRW-XRP'])"
   ]
  },
  {
   "cell_type": "code",
   "execution_count": 13,
   "metadata": {},
   "outputs": [],
   "source": [
    "dummy_B = CLASS_B(tickers=['A'])"
   ]
  },
  {
   "cell_type": "code",
   "execution_count": 14,
   "metadata": {},
   "outputs": [
    {
     "data": {
      "text/plain": [
       "['A']"
      ]
     },
     "execution_count": 14,
     "metadata": {},
     "output_type": "execute_result"
    }
   ],
   "source": [
    "dummy_B.tickers"
   ]
  },
  {
   "cell_type": "code",
   "execution_count": null,
   "metadata": {},
   "outputs": [],
   "source": []
  },
  {
   "cell_type": "code",
   "execution_count": 15,
   "metadata": {},
   "outputs": [
    {
     "name": "stdout",
     "output_type": "stream",
     "text": [
      "A 클래스에서 tickers: ['btcusdt', 'ethusdt']\n",
      "B 클래스에서 tickers: ['btcusdt', 'ethusdt']\n",
      "C 클래스에서 tickers: ['btcusdt', 'ethusdt']\n"
     ]
    }
   ],
   "source": [
    "class A:\n",
    "    def __init__(self, tickers:list=['a','b']):\n",
    "        self.tickers = tickers\n",
    "        print(f\"A 클래스에서 tickers: {self.tickers}\")\n",
    "\n",
    "class B(A):\n",
    "    def __init__(self, tickers):\n",
    "        super().__init__(tickers)\n",
    "        print(f\"B 클래스에서 tickers: {self.tickers}\")\n",
    "\n",
    "class C(B):\n",
    "    def __init__(self, tickers):\n",
    "        super().__init__(tickers)  # super()로 부모 클래스의 __init__ 호출\n",
    "        print(f\"C 클래스에서 tickers: {self.tickers}\")\n",
    "\n",
    "# 실행\n",
    "c_instance = C(['btcusdt', 'ethusdt'])"
   ]
  },
  {
   "cell_type": "code",
   "execution_count": 17,
   "metadata": {},
   "outputs": [
    {
     "data": {
      "text/plain": [
       "['btcusdt', 'ethusdt']"
      ]
     },
     "execution_count": 17,
     "metadata": {},
     "output_type": "execute_result"
    }
   ],
   "source": [
    "c_instance.tickers"
   ]
  },
  {
   "cell_type": "code",
   "execution_count": null,
   "metadata": {},
   "outputs": [],
   "source": []
  }
 ],
 "metadata": {
  "kernelspec": {
   "display_name": "Python 3 (ipykernel)",
   "language": "python",
   "name": "python3"
  },
  "language_info": {
   "codemirror_mode": {
    "name": "ipython",
    "version": 3
   },
   "file_extension": ".py",
   "mimetype": "text/x-python",
   "name": "python",
   "nbconvert_exporter": "python",
   "pygments_lexer": "ipython3",
   "version": "3.12.2"
  }
 },
 "nbformat": 4,
 "nbformat_minor": 4
}
